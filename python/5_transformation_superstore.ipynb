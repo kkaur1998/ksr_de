{
 "cells": [
  {
   "cell_type": "code",
   "execution_count": 63,
   "id": "83ed4d57-ca37-494a-8ddb-f9792cb8543a",
   "metadata": {},
   "outputs": [],
   "source": [
    "import numpy as np\n",
    "import pandas as pd"
   ]
  },
  {
   "cell_type": "code",
   "execution_count": 64,
   "id": "03a2f66a-eb99-4a31-ba83-98079308b12b",
   "metadata": {},
   "outputs": [],
   "source": [
    "data = pd.read_excel('data/superstore.xlsx')"
   ]
  },
  {
   "cell_type": "code",
   "execution_count": 65,
   "id": "d512339e-2b26-4d2e-89aa-7785a3154e8c",
   "metadata": {},
   "outputs": [],
   "source": [
    "df = data.copy()"
   ]
  },
  {
   "cell_type": "code",
   "execution_count": 66,
   "id": "835c7211-31ed-4fdd-a5d7-29532efbf008",
   "metadata": {},
   "outputs": [
    {
     "data": {
      "text/html": [
       "<div>\n",
       "<style scoped>\n",
       "    .dataframe tbody tr th:only-of-type {\n",
       "        vertical-align: middle;\n",
       "    }\n",
       "\n",
       "    .dataframe tbody tr th {\n",
       "        vertical-align: top;\n",
       "    }\n",
       "\n",
       "    .dataframe thead th {\n",
       "        text-align: right;\n",
       "    }\n",
       "</style>\n",
       "<table border=\"1\" class=\"dataframe\">\n",
       "  <thead>\n",
       "    <tr style=\"text-align: right;\">\n",
       "      <th></th>\n",
       "      <th>Row ID</th>\n",
       "      <th>Order ID</th>\n",
       "      <th>Order Date</th>\n",
       "      <th>Ship Date</th>\n",
       "      <th>Ship Mode</th>\n",
       "      <th>Customer ID</th>\n",
       "      <th>Customer Name</th>\n",
       "      <th>Segment</th>\n",
       "      <th>Country/Region</th>\n",
       "      <th>City</th>\n",
       "      <th>...</th>\n",
       "      <th>Postal Code</th>\n",
       "      <th>Region</th>\n",
       "      <th>Product ID</th>\n",
       "      <th>Category</th>\n",
       "      <th>Sub-Category</th>\n",
       "      <th>Product Name</th>\n",
       "      <th>Sales</th>\n",
       "      <th>Quantity</th>\n",
       "      <th>Discount</th>\n",
       "      <th>Profit</th>\n",
       "    </tr>\n",
       "  </thead>\n",
       "  <tbody>\n",
       "    <tr>\n",
       "      <th>0</th>\n",
       "      <td>2698</td>\n",
       "      <td>CA-2016-145317</td>\n",
       "      <td>2016-03-18</td>\n",
       "      <td>2016-03-23</td>\n",
       "      <td>Standard Class</td>\n",
       "      <td>SM-20320</td>\n",
       "      <td>Sean Miller</td>\n",
       "      <td>Home Office</td>\n",
       "      <td>United States</td>\n",
       "      <td>Jacksonville</td>\n",
       "      <td>...</td>\n",
       "      <td>32216.0</td>\n",
       "      <td>South</td>\n",
       "      <td>TEC-MA-10002412</td>\n",
       "      <td>Technology</td>\n",
       "      <td>Machines</td>\n",
       "      <td>Cisco TelePresence System EX90 Videoconferenci...</td>\n",
       "      <td>22638.48</td>\n",
       "      <td>6</td>\n",
       "      <td>0.5</td>\n",
       "      <td>-1811.0784</td>\n",
       "    </tr>\n",
       "  </tbody>\n",
       "</table>\n",
       "<p>1 rows × 21 columns</p>\n",
       "</div>"
      ],
      "text/plain": [
       "   Row ID        Order ID Order Date  Ship Date       Ship Mode Customer ID  \\\n",
       "0    2698  CA-2016-145317 2016-03-18 2016-03-23  Standard Class    SM-20320   \n",
       "\n",
       "  Customer Name      Segment Country/Region          City  ... Postal Code  \\\n",
       "0   Sean Miller  Home Office  United States  Jacksonville  ...     32216.0   \n",
       "\n",
       "   Region       Product ID    Category Sub-Category  \\\n",
       "0   South  TEC-MA-10002412  Technology     Machines   \n",
       "\n",
       "                                        Product Name     Sales  Quantity  \\\n",
       "0  Cisco TelePresence System EX90 Videoconferenci...  22638.48         6   \n",
       "\n",
       "   Discount     Profit  \n",
       "0       0.5 -1811.0784  \n",
       "\n",
       "[1 rows x 21 columns]"
      ]
     },
     "execution_count": 66,
     "metadata": {},
     "output_type": "execute_result"
    }
   ],
   "source": [
    "df.head(1)"
   ]
  },
  {
   "cell_type": "code",
   "execution_count": 67,
   "id": "87664bed-c665-4ace-b9f0-1df4ab6e0a11",
   "metadata": {},
   "outputs": [
    {
     "data": {
      "text/plain": [
       "(9994, 21)"
      ]
     },
     "execution_count": 67,
     "metadata": {},
     "output_type": "execute_result"
    }
   ],
   "source": [
    "df.shape\n"
   ]
  },
  {
   "cell_type": "code",
   "execution_count": 68,
   "id": "3249137f-d2c7-40ad-a474-b5ff1ae5dc10",
   "metadata": {},
   "outputs": [
    {
     "data": {
      "text/plain": [
       "Index(['Row ID', 'Order ID', 'Order Date', 'Ship Date', 'Ship Mode',\n",
       "       'Customer ID', 'Customer Name', 'Segment', 'Country/Region', 'City',\n",
       "       'State', 'Postal Code', 'Region', 'Product ID', 'Category',\n",
       "       'Sub-Category', 'Product Name', 'Sales', 'Quantity', 'Discount',\n",
       "       'Profit'],\n",
       "      dtype='object')"
      ]
     },
     "execution_count": 68,
     "metadata": {},
     "output_type": "execute_result"
    }
   ],
   "source": [
    "df.columns"
   ]
  },
  {
   "cell_type": "code",
   "execution_count": 69,
   "id": "2d99a364-74e8-48ef-8268-9bf5123b0818",
   "metadata": {},
   "outputs": [],
   "source": [
    "df1 = df[['Order Date', 'Ship Date', 'Ship Mode', 'Segment', 'Country/Region', 'City',\n",
    "       'State', 'Postal Code', 'Region', 'Product ID', 'Category',\n",
    "       'Sub-Category', 'Product Name', 'Sales', 'Quantity', 'Discount',\n",
    "       'Profit']]"
   ]
  },
  {
   "cell_type": "code",
   "execution_count": 70,
   "id": "a0d7b5ca-b9a9-44c7-999f-eb276999786f",
   "metadata": {},
   "outputs": [],
   "source": [
    "def rename_columns(d):\n",
    "    column_dict = {}\n",
    "    for i in d.columns:\n",
    "        j=i\n",
    "        if ' ' in j:\n",
    "            j=j.replace(' ','_')\n",
    "        column_dict[i]=j.lower()\n",
    "    return d.rename(columns=column_dict)"
   ]
  },
  {
   "cell_type": "code",
   "execution_count": 71,
   "id": "3e238d54-5e40-4f07-a3df-70c1d1aa404e",
   "metadata": {
    "scrolled": true
   },
   "outputs": [
    {
     "data": {
      "text/plain": [
       "Index(['order_date', 'ship_date', 'ship_mode', 'segment', 'country/region',\n",
       "       'city', 'state', 'postal_code', 'region', 'product_id', 'category',\n",
       "       'sub-category', 'product_name', 'sales', 'quantity', 'discount',\n",
       "       'profit'],\n",
       "      dtype='object')"
      ]
     },
     "execution_count": 71,
     "metadata": {},
     "output_type": "execute_result"
    }
   ],
   "source": [
    "df1 = rename_columns(df1)\n",
    "df1.columns"
   ]
  },
  {
   "cell_type": "code",
   "execution_count": 72,
   "id": "9733a9ae-4dfa-4d26-8616-03f8b64b3c58",
   "metadata": {},
   "outputs": [
    {
     "data": {
      "text/html": [
       "<div>\n",
       "<style scoped>\n",
       "    .dataframe tbody tr th:only-of-type {\n",
       "        vertical-align: middle;\n",
       "    }\n",
       "\n",
       "    .dataframe tbody tr th {\n",
       "        vertical-align: top;\n",
       "    }\n",
       "\n",
       "    .dataframe thead th {\n",
       "        text-align: right;\n",
       "    }\n",
       "</style>\n",
       "<table border=\"1\" class=\"dataframe\">\n",
       "  <thead>\n",
       "    <tr style=\"text-align: right;\">\n",
       "      <th></th>\n",
       "      <th>order_date</th>\n",
       "      <th>ship_date</th>\n",
       "      <th>ship_mode</th>\n",
       "      <th>segment</th>\n",
       "      <th>country/region</th>\n",
       "      <th>city</th>\n",
       "      <th>state</th>\n",
       "      <th>postal_code</th>\n",
       "      <th>region</th>\n",
       "      <th>product_id</th>\n",
       "      <th>category</th>\n",
       "      <th>sub-category</th>\n",
       "      <th>product_name</th>\n",
       "      <th>sales</th>\n",
       "      <th>quantity</th>\n",
       "      <th>discount</th>\n",
       "      <th>profit</th>\n",
       "    </tr>\n",
       "  </thead>\n",
       "  <tbody>\n",
       "    <tr>\n",
       "      <th>0</th>\n",
       "      <td>2016-03-18</td>\n",
       "      <td>2016-03-23</td>\n",
       "      <td>Standard Class</td>\n",
       "      <td>Home Office</td>\n",
       "      <td>United States</td>\n",
       "      <td>Jacksonville</td>\n",
       "      <td>Florida</td>\n",
       "      <td>32216.0</td>\n",
       "      <td>South</td>\n",
       "      <td>TEC-MA-10002412</td>\n",
       "      <td>Technology</td>\n",
       "      <td>Machines</td>\n",
       "      <td>Cisco TelePresence System EX90 Videoconferenci...</td>\n",
       "      <td>22638.48</td>\n",
       "      <td>6</td>\n",
       "      <td>0.5</td>\n",
       "      <td>-1811.0784</td>\n",
       "    </tr>\n",
       "    <tr>\n",
       "      <th>1</th>\n",
       "      <td>2018-10-02</td>\n",
       "      <td>2018-10-09</td>\n",
       "      <td>Standard Class</td>\n",
       "      <td>Corporate</td>\n",
       "      <td>United States</td>\n",
       "      <td>Lafayette</td>\n",
       "      <td>Indiana</td>\n",
       "      <td>47905.0</td>\n",
       "      <td>Central</td>\n",
       "      <td>TEC-CO-10004722</td>\n",
       "      <td>Technology</td>\n",
       "      <td>Copiers</td>\n",
       "      <td>Canon imageCLASS 2200 Advanced Copier</td>\n",
       "      <td>17499.95</td>\n",
       "      <td>5</td>\n",
       "      <td>0.0</td>\n",
       "      <td>8399.9760</td>\n",
       "    </tr>\n",
       "  </tbody>\n",
       "</table>\n",
       "</div>"
      ],
      "text/plain": [
       "  order_date  ship_date       ship_mode      segment country/region  \\\n",
       "0 2016-03-18 2016-03-23  Standard Class  Home Office  United States   \n",
       "1 2018-10-02 2018-10-09  Standard Class    Corporate  United States   \n",
       "\n",
       "           city    state  postal_code   region       product_id    category  \\\n",
       "0  Jacksonville  Florida      32216.0    South  TEC-MA-10002412  Technology   \n",
       "1     Lafayette  Indiana      47905.0  Central  TEC-CO-10004722  Technology   \n",
       "\n",
       "  sub-category                                       product_name     sales  \\\n",
       "0     Machines  Cisco TelePresence System EX90 Videoconferenci...  22638.48   \n",
       "1      Copiers              Canon imageCLASS 2200 Advanced Copier  17499.95   \n",
       "\n",
       "   quantity  discount     profit  \n",
       "0         6       0.5 -1811.0784  \n",
       "1         5       0.0  8399.9760  "
      ]
     },
     "execution_count": 72,
     "metadata": {},
     "output_type": "execute_result"
    }
   ],
   "source": [
    "df1.head(2)"
   ]
  },
  {
   "cell_type": "code",
   "execution_count": 73,
   "id": "dabcb694-eae1-4033-b876-8fb72220dccb",
   "metadata": {},
   "outputs": [
    {
     "data": {
      "text/plain": [
       "1862"
      ]
     },
     "execution_count": 73,
     "metadata": {},
     "output_type": "execute_result"
    }
   ],
   "source": [
    "df1.product_id.nunique()"
   ]
  },
  {
   "cell_type": "code",
   "execution_count": 74,
   "id": "5b1e60e6-0bc3-49ea-9262-db4cdd3aa2ce",
   "metadata": {},
   "outputs": [
    {
     "data": {
      "text/plain": [
       "1850"
      ]
     },
     "execution_count": 74,
     "metadata": {},
     "output_type": "execute_result"
    }
   ],
   "source": [
    "df1.product_name.nunique()"
   ]
  },
  {
   "cell_type": "code",
   "execution_count": 75,
   "id": "7d8bcc72-c9ae-437d-bcc7-e19de5b6991a",
   "metadata": {},
   "outputs": [
    {
     "data": {
      "text/plain": [
       "1850"
      ]
     },
     "execution_count": 75,
     "metadata": {},
     "output_type": "execute_result"
    }
   ],
   "source": [
    "df1.product_name.str.lower().nunique()"
   ]
  },
  {
   "cell_type": "code",
   "execution_count": 59,
   "id": "af630af1-5691-46c4-a35e-54a5fb1a563a",
   "metadata": {},
   "outputs": [],
   "source": []
  }
 ],
 "metadata": {
  "kernelspec": {
   "display_name": "Python 3 (ipykernel)",
   "language": "python",
   "name": "python3"
  },
  "language_info": {
   "codemirror_mode": {
    "name": "ipython",
    "version": 3
   },
   "file_extension": ".py",
   "mimetype": "text/x-python",
   "name": "python",
   "nbconvert_exporter": "python",
   "pygments_lexer": "ipython3",
   "version": "3.11.7"
  }
 },
 "nbformat": 4,
 "nbformat_minor": 5
}
