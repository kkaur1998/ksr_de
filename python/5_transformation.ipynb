{
 "cells": [
  {
   "cell_type": "code",
   "execution_count": 36,
   "id": "83ed4d57-ca37-494a-8ddb-f9792cb8543a",
   "metadata": {},
   "outputs": [],
   "source": [
    "import numpy as np\n",
    "import pandas as pd"
   ]
  },
  {
   "cell_type": "code",
   "execution_count": 37,
   "id": "03a2f66a-eb99-4a31-ba83-98079308b12b",
   "metadata": {},
   "outputs": [],
   "source": [
    "data = pd.read_excel('data/superstore.xlsx')"
   ]
  },
  {
   "cell_type": "code",
   "execution_count": 38,
   "id": "d512339e-2b26-4d2e-89aa-7785a3154e8c",
   "metadata": {},
   "outputs": [],
   "source": [
    "df = data.copy()"
   ]
  },
  {
   "cell_type": "code",
   "execution_count": 39,
   "id": "835c7211-31ed-4fdd-a5d7-29532efbf008",
   "metadata": {},
   "outputs": [
    {
     "data": {
      "text/html": [
       "<div>\n",
       "<style scoped>\n",
       "    .dataframe tbody tr th:only-of-type {\n",
       "        vertical-align: middle;\n",
       "    }\n",
       "\n",
       "    .dataframe tbody tr th {\n",
       "        vertical-align: top;\n",
       "    }\n",
       "\n",
       "    .dataframe thead th {\n",
       "        text-align: right;\n",
       "    }\n",
       "</style>\n",
       "<table border=\"1\" class=\"dataframe\">\n",
       "  <thead>\n",
       "    <tr style=\"text-align: right;\">\n",
       "      <th></th>\n",
       "      <th>Row ID</th>\n",
       "      <th>Order ID</th>\n",
       "      <th>Order Date</th>\n",
       "      <th>Ship Date</th>\n",
       "      <th>Ship Mode</th>\n",
       "      <th>Customer ID</th>\n",
       "      <th>Customer Name</th>\n",
       "      <th>Segment</th>\n",
       "      <th>Country/Region</th>\n",
       "      <th>City</th>\n",
       "      <th>...</th>\n",
       "      <th>Postal Code</th>\n",
       "      <th>Region</th>\n",
       "      <th>Product ID</th>\n",
       "      <th>Category</th>\n",
       "      <th>Sub-Category</th>\n",
       "      <th>Product Name</th>\n",
       "      <th>Sales</th>\n",
       "      <th>Quantity</th>\n",
       "      <th>Discount</th>\n",
       "      <th>Profit</th>\n",
       "    </tr>\n",
       "  </thead>\n",
       "  <tbody>\n",
       "    <tr>\n",
       "      <th>0</th>\n",
       "      <td>2698</td>\n",
       "      <td>CA-2016-145317</td>\n",
       "      <td>2016-03-18</td>\n",
       "      <td>2016-03-23</td>\n",
       "      <td>Standard Class</td>\n",
       "      <td>SM-20320</td>\n",
       "      <td>Sean Miller</td>\n",
       "      <td>Home Office</td>\n",
       "      <td>United States</td>\n",
       "      <td>Jacksonville</td>\n",
       "      <td>...</td>\n",
       "      <td>32216.0</td>\n",
       "      <td>South</td>\n",
       "      <td>TEC-MA-10002412</td>\n",
       "      <td>Technology</td>\n",
       "      <td>Machines</td>\n",
       "      <td>Cisco TelePresence System EX90 Videoconferenci...</td>\n",
       "      <td>22638.48</td>\n",
       "      <td>6</td>\n",
       "      <td>0.5</td>\n",
       "      <td>-1811.0784</td>\n",
       "    </tr>\n",
       "  </tbody>\n",
       "</table>\n",
       "<p>1 rows × 21 columns</p>\n",
       "</div>"
      ],
      "text/plain": [
       "   Row ID        Order ID Order Date  Ship Date       Ship Mode Customer ID  \\\n",
       "0    2698  CA-2016-145317 2016-03-18 2016-03-23  Standard Class    SM-20320   \n",
       "\n",
       "  Customer Name      Segment Country/Region          City  ... Postal Code  \\\n",
       "0   Sean Miller  Home Office  United States  Jacksonville  ...     32216.0   \n",
       "\n",
       "   Region       Product ID    Category Sub-Category  \\\n",
       "0   South  TEC-MA-10002412  Technology     Machines   \n",
       "\n",
       "                                        Product Name     Sales  Quantity  \\\n",
       "0  Cisco TelePresence System EX90 Videoconferenci...  22638.48         6   \n",
       "\n",
       "   Discount     Profit  \n",
       "0       0.5 -1811.0784  \n",
       "\n",
       "[1 rows x 21 columns]"
      ]
     },
     "execution_count": 39,
     "metadata": {},
     "output_type": "execute_result"
    }
   ],
   "source": [
    "df.head(1)"
   ]
  },
  {
   "cell_type": "code",
   "execution_count": 28,
   "id": "87664bed-c665-4ace-b9f0-1df4ab6e0a11",
   "metadata": {},
   "outputs": [
    {
     "data": {
      "text/plain": [
       "(9994, 21)"
      ]
     },
     "execution_count": 28,
     "metadata": {},
     "output_type": "execute_result"
    }
   ],
   "source": [
    "df.shape\n"
   ]
  },
  {
   "cell_type": "code",
   "execution_count": 29,
   "id": "3249137f-d2c7-40ad-a474-b5ff1ae5dc10",
   "metadata": {},
   "outputs": [
    {
     "data": {
      "text/plain": [
       "Index(['Row ID', 'Order ID', 'Order Date', 'Ship Date', 'Ship Mode',\n",
       "       'Customer ID', 'Customer Name', 'Segment', 'Country/Region', 'City',\n",
       "       'State', 'Postal Code', 'Region', 'Product ID', 'Category',\n",
       "       'Sub-Category', 'Product Name', 'Sales', 'Quantity', 'Discount',\n",
       "       'Profit'],\n",
       "      dtype='object')"
      ]
     },
     "execution_count": 29,
     "metadata": {},
     "output_type": "execute_result"
    }
   ],
   "source": [
    "df.columns"
   ]
  },
  {
   "cell_type": "code",
   "execution_count": 30,
   "id": "2d99a364-74e8-48ef-8268-9bf5123b0818",
   "metadata": {},
   "outputs": [],
   "source": [
    "df1 = df[['Order Date', 'Ship Date', 'Ship Mode', 'Segment', 'Country/Region', 'City',\n",
    "       'State', 'Postal Code', 'Region', 'Product ID', 'Category',\n",
    "       'Sub-Category', 'Product Name', 'Sales', 'Quantity', 'Discount',\n",
    "       'Profit']]"
   ]
  },
  {
   "cell_type": "code",
   "execution_count": 33,
   "id": "a0d7b5ca-b9a9-44c7-999f-eb276999786f",
   "metadata": {},
   "outputs": [],
   "source": [
    "def rename_columns(d):\n",
    "    column_dict = {}\n",
    "    for i in d.columns:\n",
    "        column_dict[i]=i.lower()\n",
    "    return d.rename(columns=column_dict)"
   ]
  },
  {
   "cell_type": "code",
   "execution_count": 35,
   "id": "3e238d54-5e40-4f07-a3df-70c1d1aa404e",
   "metadata": {
    "scrolled": true
   },
   "outputs": [
    {
     "ename": "AttributeError",
     "evalue": "'NoneType' object has no attribute 'columns'",
     "output_type": "error",
     "traceback": [
      "\u001b[1;31m---------------------------------------------------------------------------\u001b[0m",
      "\u001b[1;31mAttributeError\u001b[0m                            Traceback (most recent call last)",
      "Cell \u001b[1;32mIn[35], line 1\u001b[0m\n\u001b[1;32m----> 1\u001b[0m df1 \u001b[38;5;241m=\u001b[39m rename_columns(df1)\n",
      "Cell \u001b[1;32mIn[33], line 3\u001b[0m, in \u001b[0;36mrename_columns\u001b[1;34m(d)\u001b[0m\n\u001b[0;32m      1\u001b[0m \u001b[38;5;28;01mdef\u001b[39;00m \u001b[38;5;21mrename_columns\u001b[39m(d):\n\u001b[0;32m      2\u001b[0m     column_dict \u001b[38;5;241m=\u001b[39m {}\n\u001b[1;32m----> 3\u001b[0m     \u001b[38;5;28;01mfor\u001b[39;00m i \u001b[38;5;129;01min\u001b[39;00m d\u001b[38;5;241m.\u001b[39mcolumns:\n\u001b[0;32m      4\u001b[0m         column_dict[i]\u001b[38;5;241m=\u001b[39mi\u001b[38;5;241m.\u001b[39mlower()\n\u001b[0;32m      5\u001b[0m     \u001b[38;5;28;01mreturn\u001b[39;00m d\u001b[38;5;241m.\u001b[39mrename(columns\u001b[38;5;241m=\u001b[39mcolumn_dict)\n",
      "\u001b[1;31mAttributeError\u001b[0m: 'NoneType' object has no attribute 'columns'"
     ]
    }
   ],
   "source": [
    "df1 = rename_columns(df1)"
   ]
  },
  {
   "cell_type": "code",
   "execution_count": 20,
   "id": "93670933-8fae-4c5a-a169-72ae8c29b2b1",
   "metadata": {},
   "outputs": [
    {
     "data": {
      "text/plain": [
       "Index(['order date', 'ship date', 'ship mode', 'segment', 'country/region',\n",
       "       'city', 'state', 'postal code', 'region', 'product id', 'category',\n",
       "       'sub-category', 'product name', 'sales', 'quantity', 'discount',\n",
       "       'profit'],\n",
       "      dtype='object')"
      ]
     },
     "execution_count": 20,
     "metadata": {},
     "output_type": "execute_result"
    }
   ],
   "source": [
    "df1.columns"
   ]
  }
 ],
 "metadata": {
  "kernelspec": {
   "display_name": "Python 3 (ipykernel)",
   "language": "python",
   "name": "python3"
  },
  "language_info": {
   "codemirror_mode": {
    "name": "ipython",
    "version": 3
   },
   "file_extension": ".py",
   "mimetype": "text/x-python",
   "name": "python",
   "nbconvert_exporter": "python",
   "pygments_lexer": "ipython3",
   "version": "3.11.7"
  }
 },
 "nbformat": 4,
 "nbformat_minor": 5
}
