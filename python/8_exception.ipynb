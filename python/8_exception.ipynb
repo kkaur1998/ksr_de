{
 "cells": [
  {
   "cell_type": "code",
   "execution_count": 4,
   "id": "3e8e4ff9-b328-4acf-99b8-35ece4024908",
   "metadata": {},
   "outputs": [
    {
     "name": "stdout",
     "output_type": "stream",
     "text": [
      "exception is there\n",
      "finally\n"
     ]
    }
   ],
   "source": [
    "try:\n",
    "    #try code here\n",
    "    print(10/0)\n",
    "except:\n",
    "    #if code doesn't work\n",
    "    print(\"exception is there\")\n",
    "    pass\n",
    "finally:\n",
    "    #it will surely execute even if there is exception or not\n",
    "    print(\"finally\")"
   ]
  },
  {
   "cell_type": "code",
   "execution_count": 6,
   "id": "c58447ec-580e-47ab-842c-a04236ebfd61",
   "metadata": {},
   "outputs": [
    {
     "ename": "IndexError",
     "evalue": "list index out of range",
     "output_type": "error",
     "traceback": [
      "\u001b[1;31m---------------------------------------------------------------------------\u001b[0m",
      "\u001b[1;31mIndexError\u001b[0m                                Traceback (most recent call last)",
      "Cell \u001b[1;32mIn[6], line 2\u001b[0m\n\u001b[0;32m      1\u001b[0m k \u001b[38;5;241m=\u001b[39m [\u001b[38;5;241m0\u001b[39m,\u001b[38;5;241m3\u001b[39m,\u001b[38;5;241m5\u001b[39m]\n\u001b[1;32m----> 2\u001b[0m k[\u001b[38;5;241m3\u001b[39m]\n",
      "\u001b[1;31mIndexError\u001b[0m: list index out of range"
     ]
    }
   ],
   "source": [
    "k = [0,3,5]\n",
    "k[3]"
   ]
  },
  {
   "cell_type": "code",
   "execution_count": 7,
   "id": "09914d77-dd32-4d27-af2c-34f2028db82a",
   "metadata": {
    "scrolled": true
   },
   "outputs": [
    {
     "ename": "ZeroDivisionError",
     "evalue": "division by zero",
     "output_type": "error",
     "traceback": [
      "\u001b[1;31m---------------------------------------------------------------------------\u001b[0m",
      "\u001b[1;31mZeroDivisionError\u001b[0m                         Traceback (most recent call last)",
      "Cell \u001b[1;32mIn[7], line 1\u001b[0m\n\u001b[1;32m----> 1\u001b[0m \u001b[38;5;241m10\u001b[39m\u001b[38;5;241m/\u001b[39m\u001b[38;5;241m0\u001b[39m\n",
      "\u001b[1;31mZeroDivisionError\u001b[0m: division by zero"
     ]
    }
   ],
   "source": [
    "10/0"
   ]
  },
  {
   "cell_type": "code",
   "execution_count": null,
   "id": "e54b9a45-47dd-45c0-9b06-8ee77450bf83",
   "metadata": {},
   "outputs": [],
   "source": []
  },
  {
   "cell_type": "code",
   "execution_count": 10,
   "id": "ccdfe5db-92d1-4977-a4bd-fe2e6b4cb36a",
   "metadata": {},
   "outputs": [
    {
     "name": "stdout",
     "output_type": "stream",
     "text": [
      "can't divide with zero\n",
      "executed\n"
     ]
    }
   ],
   "source": [
    "try:\n",
    "    # l = k[3]\n",
    "    res = 10/0\n",
    "except IndexError:\n",
    "    print(\"index is out of range\")\n",
    "except ZeroDivisionError:\n",
    "    print(\"can't divide with zero\")\n",
    "finally:\n",
    "    print(\"executed\")"
   ]
  },
  {
   "cell_type": "code",
   "execution_count": 14,
   "id": "41ea2b25-c414-49cb-9e73-14bacffcc401",
   "metadata": {},
   "outputs": [
    {
     "name": "stdout",
     "output_type": "stream",
     "text": [
      "list index out of range\n"
     ]
    }
   ],
   "source": [
    "try:\n",
    "    l = k[3]\n",
    "    res = 10/0\n",
    "except Exception as err:\n",
    "    print(err)\n",
    "    "
   ]
  },
  {
   "cell_type": "code",
   "execution_count": 20,
   "id": "a90c240e-d584-46d5-8972-006568d03a4a",
   "metadata": {},
   "outputs": [
    {
     "name": "stdout",
     "output_type": "stream",
     "text": [
      "Traceback (most recent call last):\n",
      "  File \"C:\\Users\\Computer\\AppData\\Local\\Temp\\ipykernel_3956\\624184569.py\", line 3, in <module>\n",
      "    l = k[3]\n",
      "        ~^^^\n",
      "IndexError: list index out of range\n",
      "\n",
      "list index out of range\n"
     ]
    }
   ],
   "source": [
    "import traceback\n",
    "try:\n",
    "    l = k[3]\n",
    "    res = 10/0\n",
    "except Exception as err:\n",
    "    print(traceback.format_exc())\n",
    "    print(err)\n",
    "    "
   ]
  },
  {
   "cell_type": "code",
   "execution_count": 21,
   "id": "77cea33a-ed23-4d56-bc31-de2d1724ceb9",
   "metadata": {},
   "outputs": [],
   "source": [
    "class MyCustomError(Exception):\n",
    "    \"\"\"Exception raised for custom error in the application.\"\"\"\n",
    "\n",
    "    def __init__(self, message, error_code):\n",
    "        super().__init__(message)\n",
    "        self.error_code = error_code\n",
    "\n",
    "    def __str__(self):\n",
    "        return f\"{self.message} (Error Code: {self.error_code})\""
   ]
  },
  {
   "cell_type": "code",
   "execution_count": null,
   "id": "913f9d7e-a64e-469e-bfcf-3f54fee7ea47",
   "metadata": {},
   "outputs": [],
   "source": []
  }
 ],
 "metadata": {
  "kernelspec": {
   "display_name": "Python 3 (ipykernel)",
   "language": "python",
   "name": "python3"
  },
  "language_info": {
   "codemirror_mode": {
    "name": "ipython",
    "version": 3
   },
   "file_extension": ".py",
   "mimetype": "text/x-python",
   "name": "python",
   "nbconvert_exporter": "python",
   "pygments_lexer": "ipython3",
   "version": "3.11.7"
  }
 },
 "nbformat": 4,
 "nbformat_minor": 5
}
