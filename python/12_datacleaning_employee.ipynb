{
 "cells": [
  {
   "cell_type": "code",
   "execution_count": 2,
   "id": "c001c851-b6e6-49f9-be47-377cdc8feff3",
   "metadata": {},
   "outputs": [],
   "source": [
    "import numpy as np\n",
    "import pandas as pd\n",
    "import os"
   ]
  },
  {
   "cell_type": "code",
   "execution_count": 4,
   "id": "eb55baf8-4734-43a1-b18f-1b800eb3d41a",
   "metadata": {},
   "outputs": [
    {
     "data": {
      "text/plain": [
       "['.ipynb_checkpoints',\n",
       " 'Bike_Data.xlsx',\n",
       " 'car data.csv',\n",
       " 'car.csv',\n",
       " 'Custumer_Data.xlsx',\n",
       " 'EmployeeDataToClean.xlsx',\n",
       " 'Emp_Training_Data.xlsx',\n",
       " 'Orders_Data.xlsx',\n",
       " 'Orders_Data_2.xlsx',\n",
       " 'superstore.xlsx',\n",
       " 't_file.txt']"
      ]
     },
     "execution_count": 4,
     "metadata": {},
     "output_type": "execute_result"
    }
   ],
   "source": [
    "os.listdir('data')"
   ]
  },
  {
   "cell_type": "code",
   "execution_count": 5,
   "id": "39147fbc-55e9-4cf5-846b-716db523d9e8",
   "metadata": {},
   "outputs": [],
   "source": [
    "data = pd.read_excel('data/EmployeeDataToClean.xlsx')"
   ]
  },
  {
   "cell_type": "code",
   "execution_count": 6,
   "id": "a6e915fd-7de0-4103-89b1-9e45c4171ed3",
   "metadata": {},
   "outputs": [],
   "source": [
    "df = data.copy()"
   ]
  },
  {
   "cell_type": "code",
   "execution_count": 8,
   "id": "1c655774-fe31-4207-a4d6-440df65944fb",
   "metadata": {},
   "outputs": [
    {
     "data": {
      "text/html": [
       "<div>\n",
       "<style scoped>\n",
       "    .dataframe tbody tr th:only-of-type {\n",
       "        vertical-align: middle;\n",
       "    }\n",
       "\n",
       "    .dataframe tbody tr th {\n",
       "        vertical-align: top;\n",
       "    }\n",
       "\n",
       "    .dataframe thead th {\n",
       "        text-align: right;\n",
       "    }\n",
       "</style>\n",
       "<table border=\"1\" class=\"dataframe\">\n",
       "  <thead>\n",
       "    <tr style=\"text-align: right;\">\n",
       "      <th></th>\n",
       "      <th>EmployeeID</th>\n",
       "      <th>NationalIDNumber</th>\n",
       "      <th>LoginID</th>\n",
       "      <th>Title</th>\n",
       "      <th>PhoneNumber</th>\n",
       "      <th>BirthDate</th>\n",
       "      <th>MaritalStatus</th>\n",
       "      <th>Gender</th>\n",
       "      <th>HireDate</th>\n",
       "      <th>Dept</th>\n",
       "      <th>Salary</th>\n",
       "      <th>Job Grade</th>\n",
       "      <th>CurrentFlag</th>\n",
       "      <th>rowguid</th>\n",
       "    </tr>\n",
       "  </thead>\n",
       "  <tbody>\n",
       "    <tr>\n",
       "      <th>0</th>\n",
       "      <td>1</td>\n",
       "      <td>14417807</td>\n",
       "      <td>adventure-works\\guy1</td>\n",
       "      <td>Gustavo Achong</td>\n",
       "      <td>9.062372e+09</td>\n",
       "      <td>1986-02-21</td>\n",
       "      <td>M</td>\n",
       "      <td>M</td>\n",
       "      <td>2013-02-02</td>\n",
       "      <td>Sales</td>\n",
       "      <td>2295.0</td>\n",
       "      <td>Admin</td>\n",
       "      <td>-1</td>\n",
       "      <td>{AAE1D04A-C237-4974-B4D5-935247737718}</td>\n",
       "    </tr>\n",
       "  </tbody>\n",
       "</table>\n",
       "</div>"
      ],
      "text/plain": [
       "   EmployeeID  NationalIDNumber               LoginID           Title  \\\n",
       "0           1          14417807  adventure-works\\guy1  Gustavo Achong   \n",
       "\n",
       "    PhoneNumber  BirthDate MaritalStatus Gender   HireDate   Dept  Salary  \\\n",
       "0  9.062372e+09 1986-02-21             M      M 2013-02-02  Sales  2295.0   \n",
       "\n",
       "  Job Grade  CurrentFlag                                 rowguid  \n",
       "0     Admin           -1  {AAE1D04A-C237-4974-B4D5-935247737718}  "
      ]
     },
     "execution_count": 8,
     "metadata": {},
     "output_type": "execute_result"
    }
   ],
   "source": [
    "df.head(1)"
   ]
  },
  {
   "cell_type": "code",
   "execution_count": 9,
   "id": "750af490-a49d-4889-818a-07a6beb8e39a",
   "metadata": {},
   "outputs": [
    {
     "data": {
      "text/plain": [
       "Index(['EmployeeID', 'NationalIDNumber', 'LoginID', 'Title', 'PhoneNumber',\n",
       "       'BirthDate', 'MaritalStatus', 'Gender', 'HireDate', 'Dept', 'Salary',\n",
       "       'Job Grade', 'CurrentFlag', 'rowguid'],\n",
       "      dtype='object')"
      ]
     },
     "execution_count": 9,
     "metadata": {},
     "output_type": "execute_result"
    }
   ],
   "source": [
    "df.columns"
   ]
  },
  {
   "cell_type": "code",
   "execution_count": 10,
   "id": "6a9d8e6d-b693-41ac-9d9d-a8337ea70add",
   "metadata": {},
   "outputs": [
    {
     "data": {
      "text/plain": [
       "(50, 14)"
      ]
     },
     "execution_count": 10,
     "metadata": {},
     "output_type": "execute_result"
    }
   ],
   "source": [
    "df.shape"
   ]
  },
  {
   "cell_type": "code",
   "execution_count": 12,
   "id": "f2488e66-fddb-4f8a-acf2-263ecad9ab8d",
   "metadata": {},
   "outputs": [
    {
     "data": {
      "text/plain": [
       "EmployeeID           0\n",
       "NationalIDNumber     0\n",
       "LoginID             37\n",
       "Title                0\n",
       "PhoneNumber          7\n",
       "BirthDate            0\n",
       "MaritalStatus        0\n",
       "Gender               0\n",
       "HireDate             0\n",
       "Dept                 0\n",
       "Salary               6\n",
       "Job Grade            0\n",
       "CurrentFlag          0\n",
       "rowguid              0\n",
       "dtype: int64"
      ]
     },
     "execution_count": 12,
     "metadata": {},
     "output_type": "execute_result"
    }
   ],
   "source": [
    "df.isna().sum()"
   ]
  },
  {
   "cell_type": "code",
   "execution_count": 17,
   "id": "a7f767ec-890c-4ff2-933d-7351cb757d8a",
   "metadata": {},
   "outputs": [
    {
     "name": "stdout",
     "output_type": "stream",
     "text": [
      "6\n",
      "['Sales' 'Finance' 'Logistics' 'Human Resource' 'sales' 'Production']\n",
      "50\n"
     ]
    }
   ],
   "source": [
    "print(df['Dept'].nunique())\n",
    "print(df['Dept'].unique())\n",
    "print(df['Dept'].count())"
   ]
  },
  {
   "cell_type": "code",
   "execution_count": 18,
   "id": "6a82540e-19bd-47c2-8f97-e541b844f7ca",
   "metadata": {},
   "outputs": [
    {
     "data": {
      "text/plain": [
       "50"
      ]
     },
     "execution_count": 18,
     "metadata": {},
     "output_type": "execute_result"
    }
   ],
   "source": [
    "df['Job Grade'].count()"
   ]
  },
  {
   "cell_type": "code",
   "execution_count": 19,
   "id": "ee5b4640-12c9-4a55-9d5c-0a86554c4773",
   "metadata": {},
   "outputs": [
    {
     "data": {
      "text/plain": [
       "3"
      ]
     },
     "execution_count": 19,
     "metadata": {},
     "output_type": "execute_result"
    }
   ],
   "source": [
    "df['Job Grade'].nunique()"
   ]
  },
  {
   "cell_type": "code",
   "execution_count": 20,
   "id": "cf6a4090-8646-45ea-b58d-ade1c173988a",
   "metadata": {},
   "outputs": [
    {
     "data": {
      "text/plain": [
       "array(['Admin', 'Management', 'Operations'], dtype=object)"
      ]
     },
     "execution_count": 20,
     "metadata": {},
     "output_type": "execute_result"
    }
   ],
   "source": [
    "df['Job Grade'].unique()"
   ]
  },
  {
   "cell_type": "code",
   "execution_count": 155,
   "id": "8a91eb76-1458-4cc1-8812-3684ac797cac",
   "metadata": {},
   "outputs": [
    {
     "data": {
      "text/plain": [
       "Index(['EmployeeID', 'NationalIDNumber', 'LoginID', 'Title', 'PhoneNumber',\n",
       "       'BirthDate', 'MaritalStatus', 'Gender', 'HireDate', 'Dept', 'Salary',\n",
       "       'Job Grade', 'CurrentFlag', 'rowguid'],\n",
       "      dtype='object')"
      ]
     },
     "execution_count": 155,
     "metadata": {},
     "output_type": "execute_result"
    }
   ],
   "source": [
    "df.columns"
   ]
  },
  {
   "cell_type": "code",
   "execution_count": 156,
   "id": "082c61fc-a868-4299-b83d-5add4db9a996",
   "metadata": {},
   "outputs": [],
   "source": [
    "def rename_columns(d):\n",
    "    new_columns={}\n",
    "    for i in d.columns:\n",
    "        j=i\n",
    "        j = j.lower()\n",
    "        if ' ' in j:\n",
    "            j=j.replace(' ','_')\n",
    "        new_columns[i]=j\n",
    "    return d.rename(columns=new_columns)\n",
    "        "
   ]
  },
  {
   "cell_type": "code",
   "execution_count": 300,
   "id": "5d3e212f-5a64-45ae-94d9-971303c16d6f",
   "metadata": {},
   "outputs": [],
   "source": [
    "df1 = rename_columns(df)"
   ]
  },
  {
   "cell_type": "code",
   "execution_count": 301,
   "id": "82fcff26-8c1c-4cc9-b992-2de652d2e2af",
   "metadata": {},
   "outputs": [
    {
     "data": {
      "text/plain": [
       "employeeid           0\n",
       "nationalidnumber     0\n",
       "loginid             37\n",
       "title                0\n",
       "phonenumber          7\n",
       "birthdate            0\n",
       "maritalstatus        0\n",
       "gender               0\n",
       "hiredate             0\n",
       "dept                 0\n",
       "salary               6\n",
       "job_grade            0\n",
       "currentflag          0\n",
       "rowguid              0\n",
       "dtype: int64"
      ]
     },
     "execution_count": 301,
     "metadata": {},
     "output_type": "execute_result"
    }
   ],
   "source": [
    "df1.isna().sum()"
   ]
  },
  {
   "cell_type": "code",
   "execution_count": 302,
   "id": "91752b8e-b1af-47a8-8d0e-fcfb5f367014",
   "metadata": {},
   "outputs": [
    {
     "data": {
      "text/plain": [
       "50"
      ]
     },
     "execution_count": 302,
     "metadata": {},
     "output_type": "execute_result"
    }
   ],
   "source": [
    "df1['employeeid'].nunique()"
   ]
  },
  {
   "cell_type": "code",
   "execution_count": 303,
   "id": "dc8fedf4-e392-4938-8d6f-c9b5280a1761",
   "metadata": {},
   "outputs": [
    {
     "data": {
      "text/plain": [
       "50"
      ]
     },
     "execution_count": 303,
     "metadata": {},
     "output_type": "execute_result"
    }
   ],
   "source": [
    "df1['nationalidnumber'].nunique()"
   ]
  },
  {
   "cell_type": "code",
   "execution_count": 304,
   "id": "ffefac20-0bde-425b-91be-e116a10f6fa4",
   "metadata": {},
   "outputs": [
    {
     "data": {
      "text/plain": [
       "37"
      ]
     },
     "execution_count": 304,
     "metadata": {},
     "output_type": "execute_result"
    }
   ],
   "source": [
    "df1['loginid'].isna().sum()"
   ]
  },
  {
   "cell_type": "code",
   "execution_count": 305,
   "id": "d6e3297a-8c4a-454c-8081-9706447cc39e",
   "metadata": {},
   "outputs": [
    {
     "data": {
      "text/plain": [
       "74.0"
      ]
     },
     "execution_count": 305,
     "metadata": {},
     "output_type": "execute_result"
    }
   ],
   "source": [
    "(df1['loginid'].isna().sum())/df1.shape[0]*100"
   ]
  },
  {
   "cell_type": "code",
   "execution_count": 306,
   "id": "35a5ac3b-8090-4f77-9c5a-9ba2ec0c5174",
   "metadata": {},
   "outputs": [
    {
     "data": {
      "text/plain": [
       "loginid    74.0\n",
       "dtype: float64"
      ]
     },
     "execution_count": 306,
     "metadata": {},
     "output_type": "execute_result"
    }
   ],
   "source": [
    "na_percent= df1.isna().sum()/df1.shape[0]*100\n",
    "na_percent[(map(lambda x: x>=70, na_percent))]"
   ]
  },
  {
   "cell_type": "code",
   "execution_count": 307,
   "id": "c6b8aa14-fe1b-4926-8ad7-360d2c047378",
   "metadata": {},
   "outputs": [
    {
     "data": {
      "text/plain": [
       "loginid    74.0\n",
       "dtype: float64"
      ]
     },
     "execution_count": 307,
     "metadata": {},
     "output_type": "execute_result"
    }
   ],
   "source": [
    "na_percent[na_percent>=70]"
   ]
  },
  {
   "cell_type": "code",
   "execution_count": 308,
   "id": "79bd88cc-2843-4a43-b419-045d01cbc09c",
   "metadata": {},
   "outputs": [],
   "source": [
    "columns_to_filter = list(na_percent[na_percent>=70].index)"
   ]
  },
  {
   "cell_type": "code",
   "execution_count": 309,
   "id": "d37d2dba-09e0-4454-8c34-a0e82dc679eb",
   "metadata": {
    "scrolled": true
   },
   "outputs": [],
   "source": [
    "# columns_to_filter = filter(lambda x: x>=70,na_percent)\n",
    "# list(columns_to_filter)"
   ]
  },
  {
   "cell_type": "code",
   "execution_count": 310,
   "id": "6c2cb74c-4fba-40d2-8326-689090732c7e",
   "metadata": {},
   "outputs": [
    {
     "data": {
      "text/plain": [
       "Index(['employeeid', 'nationalidnumber', 'loginid', 'title', 'phonenumber',\n",
       "       'birthdate', 'maritalstatus', 'gender', 'hiredate', 'dept', 'salary',\n",
       "       'job_grade', 'currentflag', 'rowguid'],\n",
       "      dtype='object')"
      ]
     },
     "execution_count": 310,
     "metadata": {},
     "output_type": "execute_result"
    }
   ],
   "source": [
    "df1.columns"
   ]
  },
  {
   "cell_type": "code",
   "execution_count": 311,
   "id": "78b1ea52-4960-4d61-b1da-dff033acccf6",
   "metadata": {},
   "outputs": [],
   "source": [
    "for i in columns_to_filter:\n",
    "    df1.drop(i,axis=1,inplace=True)"
   ]
  },
  {
   "cell_type": "code",
   "execution_count": 312,
   "id": "19f793a9-b061-4cd2-a792-2f46779b948b",
   "metadata": {
    "scrolled": true
   },
   "outputs": [
    {
     "data": {
      "text/plain": [
       "Index(['employeeid', 'nationalidnumber', 'title', 'phonenumber', 'birthdate',\n",
       "       'maritalstatus', 'gender', 'hiredate', 'dept', 'salary', 'job_grade',\n",
       "       'currentflag', 'rowguid'],\n",
       "      dtype='object')"
      ]
     },
     "execution_count": 312,
     "metadata": {},
     "output_type": "execute_result"
    }
   ],
   "source": [
    "df1.columns"
   ]
  },
  {
   "cell_type": "code",
   "execution_count": 313,
   "id": "01a1537f-327b-4b9f-bcf3-6cea92c5dad6",
   "metadata": {},
   "outputs": [
    {
     "data": {
      "text/plain": [
       "employeeid          50\n",
       "nationalidnumber    50\n",
       "title               50\n",
       "phonenumber         43\n",
       "birthdate           50\n",
       "maritalstatus        2\n",
       "gender               2\n",
       "hiredate            39\n",
       "dept                 6\n",
       "salary              44\n",
       "job_grade            3\n",
       "currentflag          1\n",
       "rowguid             50\n",
       "dtype: int64"
      ]
     },
     "execution_count": 313,
     "metadata": {},
     "output_type": "execute_result"
    }
   ],
   "source": [
    "df1.nunique()"
   ]
  },
  {
   "cell_type": "code",
   "execution_count": 314,
   "id": "1c5a440b-f2ab-4e83-b4a9-0e4f29299244",
   "metadata": {},
   "outputs": [],
   "source": [
    "df1.drop('currentflag',axis=1,inplace=True)"
   ]
  },
  {
   "cell_type": "code",
   "execution_count": 315,
   "id": "68d3cdbb-4b1a-42b8-8c92-67211e77512b",
   "metadata": {},
   "outputs": [],
   "source": [
    "df1.drop('rowguid', axis=1, inplace=True)"
   ]
  },
  {
   "cell_type": "code",
   "execution_count": 316,
   "id": "901d015c-5cbb-4b3c-8ad4-cad6244678e7",
   "metadata": {},
   "outputs": [
    {
     "data": {
      "text/plain": [
       "employeeid           0.0\n",
       "nationalidnumber     0.0\n",
       "title                0.0\n",
       "phonenumber         14.0\n",
       "birthdate            0.0\n",
       "maritalstatus        0.0\n",
       "gender               0.0\n",
       "hiredate             0.0\n",
       "dept                 0.0\n",
       "salary              12.0\n",
       "job_grade            0.0\n",
       "dtype: float64"
      ]
     },
     "execution_count": 316,
     "metadata": {},
     "output_type": "execute_result"
    }
   ],
   "source": [
    "df1.isna().sum()/df1.shape[0]*100"
   ]
  },
  {
   "cell_type": "code",
   "execution_count": 317,
   "id": "a34f5709-4982-400b-ae27-edb789b26778",
   "metadata": {
    "scrolled": true
   },
   "outputs": [
    {
     "data": {
      "text/plain": [
       "array(['Sales', 'Finance', 'Logistics', 'Human Resource', 'sales',\n",
       "       'Production'], dtype=object)"
      ]
     },
     "execution_count": 317,
     "metadata": {},
     "output_type": "execute_result"
    }
   ],
   "source": [
    "df1.dept.unique()"
   ]
  },
  {
   "cell_type": "code",
   "execution_count": 318,
   "id": "54ce5fa0-5e35-4758-a9b5-ed1f854edd12",
   "metadata": {},
   "outputs": [],
   "source": [
    "df1['salary'].fillna(df1['salary'].median(), inplace=True)"
   ]
  },
  {
   "cell_type": "code",
   "execution_count": 319,
   "id": "b3a50d4e-e47e-47e8-9ab1-85eead8a23c9",
   "metadata": {},
   "outputs": [
    {
     "data": {
      "text/plain": [
       "array(['Sales', 'Finance', 'Logistics', 'Human resource', 'Production'],\n",
       "      dtype=object)"
      ]
     },
     "execution_count": 319,
     "metadata": {},
     "output_type": "execute_result"
    }
   ],
   "source": [
    "df1['dept'] = df1['dept'].str.lower().str.capitalize()\n",
    "df1.dept.unique()"
   ]
  },
  {
   "cell_type": "code",
   "execution_count": 320,
   "id": "862f24fb-96da-48c5-9c38-af0ec3a981ec",
   "metadata": {},
   "outputs": [],
   "source": [
    "df1.phonenumber = df1.phonenumber.fillna(0).astype(str).str.strip('.0').str.zfill(10)"
   ]
  },
  {
   "cell_type": "code",
   "execution_count": 321,
   "id": "4399b62f-600b-4007-ac15-371dc40e4814",
   "metadata": {},
   "outputs": [
    {
     "data": {
      "text/plain": [
       "employeeid          0\n",
       "nationalidnumber    0\n",
       "title               0\n",
       "phonenumber         0\n",
       "birthdate           0\n",
       "maritalstatus       0\n",
       "gender              0\n",
       "hiredate            0\n",
       "dept                0\n",
       "salary              0\n",
       "job_grade           0\n",
       "dtype: int64"
      ]
     },
     "execution_count": 321,
     "metadata": {},
     "output_type": "execute_result"
    }
   ],
   "source": [
    "df1.isna().sum()"
   ]
  },
  {
   "cell_type": "code",
   "execution_count": 322,
   "id": "e5865cec-0adc-43a2-a1d4-6aa9585c36c1",
   "metadata": {},
   "outputs": [
    {
     "data": {
      "text/html": [
       "<div>\n",
       "<style scoped>\n",
       "    .dataframe tbody tr th:only-of-type {\n",
       "        vertical-align: middle;\n",
       "    }\n",
       "\n",
       "    .dataframe tbody tr th {\n",
       "        vertical-align: top;\n",
       "    }\n",
       "\n",
       "    .dataframe thead th {\n",
       "        text-align: right;\n",
       "    }\n",
       "</style>\n",
       "<table border=\"1\" class=\"dataframe\">\n",
       "  <thead>\n",
       "    <tr style=\"text-align: right;\">\n",
       "      <th></th>\n",
       "      <th>dept</th>\n",
       "      <th>employeeid</th>\n",
       "    </tr>\n",
       "  </thead>\n",
       "  <tbody>\n",
       "    <tr>\n",
       "      <th>0</th>\n",
       "      <td>Finance</td>\n",
       "      <td>11</td>\n",
       "    </tr>\n",
       "    <tr>\n",
       "      <th>1</th>\n",
       "      <td>Human resource</td>\n",
       "      <td>6</td>\n",
       "    </tr>\n",
       "    <tr>\n",
       "      <th>2</th>\n",
       "      <td>Logistics</td>\n",
       "      <td>8</td>\n",
       "    </tr>\n",
       "    <tr>\n",
       "      <th>3</th>\n",
       "      <td>Production</td>\n",
       "      <td>14</td>\n",
       "    </tr>\n",
       "    <tr>\n",
       "      <th>4</th>\n",
       "      <td>Sales</td>\n",
       "      <td>11</td>\n",
       "    </tr>\n",
       "  </tbody>\n",
       "</table>\n",
       "</div>"
      ],
      "text/plain": [
       "             dept  employeeid\n",
       "0         Finance          11\n",
       "1  Human resource           6\n",
       "2       Logistics           8\n",
       "3      Production          14\n",
       "4           Sales          11"
      ]
     },
     "execution_count": 322,
     "metadata": {},
     "output_type": "execute_result"
    }
   ],
   "source": [
    "df1[['employeeid','dept']].groupby('dept',as_index=False).count()"
   ]
  },
  {
   "cell_type": "code",
   "execution_count": null,
   "id": "5066b193-52ff-4da3-a501-e5fa3169af0d",
   "metadata": {},
   "outputs": [],
   "source": []
  },
  {
   "cell_type": "code",
   "execution_count": 323,
   "id": "61820b5f-af9b-4d66-bedf-11096d42f9cc",
   "metadata": {},
   "outputs": [],
   "source": [
    "df1['maritalstatus'] = df1['maritalstatus'].apply(lambda x: 'Married' if x=='M' else 'Single' if x=='S' else 'NA')"
   ]
  },
  {
   "cell_type": "code",
   "execution_count": 324,
   "id": "37f81f28-97c5-4ee1-9610-107e2f14b484",
   "metadata": {},
   "outputs": [
    {
     "data": {
      "text/plain": [
       "Index(['employeeid', 'nationalidnumber', 'title', 'phonenumber', 'birthdate',\n",
       "       'maritalstatus', 'gender', 'hiredate', 'dept', 'salary', 'job_grade'],\n",
       "      dtype='object')"
      ]
     },
     "execution_count": 324,
     "metadata": {},
     "output_type": "execute_result"
    }
   ],
   "source": [
    "df1.columns"
   ]
  },
  {
   "cell_type": "code",
   "execution_count": 325,
   "id": "ef9acb2c-c926-49de-a422-7644648ba93e",
   "metadata": {},
   "outputs": [
    {
     "data": {
      "text/html": [
       "<div>\n",
       "<style scoped>\n",
       "    .dataframe tbody tr th:only-of-type {\n",
       "        vertical-align: middle;\n",
       "    }\n",
       "\n",
       "    .dataframe tbody tr th {\n",
       "        vertical-align: top;\n",
       "    }\n",
       "\n",
       "    .dataframe thead th {\n",
       "        text-align: right;\n",
       "    }\n",
       "</style>\n",
       "<table border=\"1\" class=\"dataframe\">\n",
       "  <thead>\n",
       "    <tr style=\"text-align: right;\">\n",
       "      <th></th>\n",
       "      <th>employeeid</th>\n",
       "      <th>nationalidnumber</th>\n",
       "      <th>title</th>\n",
       "      <th>phonenumber</th>\n",
       "      <th>birthdate</th>\n",
       "      <th>maritalstatus</th>\n",
       "      <th>gender</th>\n",
       "      <th>hiredate</th>\n",
       "      <th>dept</th>\n",
       "      <th>salary</th>\n",
       "      <th>job_grade</th>\n",
       "    </tr>\n",
       "  </thead>\n",
       "  <tbody>\n",
       "    <tr>\n",
       "      <th>0</th>\n",
       "      <td>1</td>\n",
       "      <td>14417807</td>\n",
       "      <td>Gustavo Achong</td>\n",
       "      <td>9062372448</td>\n",
       "      <td>1986-02-21</td>\n",
       "      <td>Married</td>\n",
       "      <td>M</td>\n",
       "      <td>2013-02-02</td>\n",
       "      <td>Sales</td>\n",
       "      <td>2295.0</td>\n",
       "      <td>Admin</td>\n",
       "    </tr>\n",
       "    <tr>\n",
       "      <th>1</th>\n",
       "      <td>2</td>\n",
       "      <td>253022876</td>\n",
       "      <td>Catherine Abel</td>\n",
       "      <td>8086506867</td>\n",
       "      <td>1991-03-12</td>\n",
       "      <td>Single</td>\n",
       "      <td>M</td>\n",
       "      <td>2013-08-31</td>\n",
       "      <td>Sales</td>\n",
       "      <td>962.0</td>\n",
       "      <td>Management</td>\n",
       "    </tr>\n",
       "  </tbody>\n",
       "</table>\n",
       "</div>"
      ],
      "text/plain": [
       "   employeeid  nationalidnumber           title phonenumber  birthdate  \\\n",
       "0           1          14417807  Gustavo Achong  9062372448 1986-02-21   \n",
       "1           2         253022876  Catherine Abel  8086506867 1991-03-12   \n",
       "\n",
       "  maritalstatus gender   hiredate   dept  salary   job_grade  \n",
       "0       Married      M 2013-02-02  Sales  2295.0       Admin  \n",
       "1        Single      M 2013-08-31  Sales   962.0  Management  "
      ]
     },
     "execution_count": 325,
     "metadata": {},
     "output_type": "execute_result"
    }
   ],
   "source": [
    " df1.head(2)"
   ]
  },
  {
   "cell_type": "code",
   "execution_count": 327,
   "id": "01f8fdca-0480-4d89-80be-f8079619aa9a",
   "metadata": {
    "scrolled": true
   },
   "outputs": [
    {
     "data": {
      "text/plain": [
       "0    8\n",
       "1    9\n",
       "2    9\n",
       "3    9\n",
       "4    9\n",
       "Name: nationalidnumber, dtype: int64"
      ]
     },
     "execution_count": 327,
     "metadata": {},
     "output_type": "execute_result"
    }
   ],
   "source": [
    "df1['nationalidnumber'].astype(str).str.len().head()"
   ]
  },
  {
   "cell_type": "code",
   "execution_count": 328,
   "id": "4e343c2b-678e-4dc5-bf7a-fc24005e14e9",
   "metadata": {},
   "outputs": [
    {
     "name": "stdout",
     "output_type": "stream",
     "text": [
      "123456\n"
     ]
    }
   ],
   "source": [
    "mylist = ['123','123456','1234']\n",
    "print(max(mylist, key=len))"
   ]
  },
  {
   "cell_type": "code",
   "execution_count": 329,
   "id": "99b2cd45-baf4-4927-a70e-dd0d4f568f2a",
   "metadata": {},
   "outputs": [
    {
     "data": {
      "text/plain": [
       "'253022876'"
      ]
     },
     "execution_count": 329,
     "metadata": {},
     "output_type": "execute_result"
    }
   ],
   "source": [
    "# import builtins\n",
    "df1['nationalidnumber'] = df1['nationalidnumber'].astype(str)\n",
    "max(df1['nationalidnumber'],key=len)"
   ]
  },
  {
   "cell_type": "code",
   "execution_count": 333,
   "id": "b8227a20-892b-49a9-b4e2-a0606c6476b4",
   "metadata": {
    "scrolled": true
   },
   "outputs": [
    {
     "data": {
      "text/plain": [
       "0    9062372448\n",
       "1    8086506867\n",
       "2    0931237814\n",
       "3    9467533569\n",
       "4    0000000000\n",
       "Name: phonenumber, dtype: object"
      ]
     },
     "execution_count": 333,
     "metadata": {},
     "output_type": "execute_result"
    }
   ],
   "source": [
    "# df1.phonenumber = pd.to_numeric(df1.phonenumber)\n",
    "df1.phonenumber.head()"
   ]
  },
  {
   "cell_type": "code",
   "execution_count": 337,
   "id": "d861672a-3465-4402-aabe-0ffc3d563fa7",
   "metadata": {
    "scrolled": true
   },
   "outputs": [
    {
     "data": {
      "text/plain": [
       "0    90XXXXX48\n",
       "1    80XXXXX67\n",
       "2    09XXXXX14\n",
       "3    94XXXXX69\n",
       "4    00XXXXX00\n",
       "Name: phonenumber, dtype: object"
      ]
     },
     "execution_count": 337,
     "metadata": {},
     "output_type": "execute_result"
    }
   ],
   "source": [
    "#masking of  phone number 9062372448 ---> 906XXXXX48\n",
    "df1.phonenumber.apply(lambda x: x[:2]+'XXXXX'+x[-2:]).head()"
   ]
  },
  {
   "cell_type": "code",
   "execution_count": 349,
   "id": "a589564b-ec8b-446b-bb10-0637dbfd8f8a",
   "metadata": {},
   "outputs": [
    {
     "data": {
      "text/plain": [
       "0    90XXXXX48\n",
       "1    80XXXXX67\n",
       "2    09XXXXX14\n",
       "3    94XXXXX69\n",
       "4    000000000\n",
       "Name: phonenumber, dtype: object"
      ]
     },
     "execution_count": 349,
     "metadata": {},
     "output_type": "execute_result"
    }
   ],
   "source": [
    "df1.phonenumber.apply(lambda x: '000000000' if x=='0000000000' else x[:2]+'XXXXX'+x[-2:]).head()"
   ]
  },
  {
   "cell_type": "code",
   "execution_count": 350,
   "id": "1f7daf00-f111-4fad-af80-32fff7a26eaa",
   "metadata": {},
   "outputs": [
    {
     "data": {
      "text/plain": [
       "['9062372448',\n",
       " '8086506867',\n",
       " '0931237814',\n",
       " '9467533569',\n",
       " '0000000000',\n",
       " '0000000000',\n",
       " '0000000000',\n",
       " '0000000000',\n",
       " '8778647341',\n",
       " '9451409795']"
      ]
     },
     "execution_count": 350,
     "metadata": {},
     "output_type": "execute_result"
    }
   ],
   "source": [
    "li = list(df1.phonenumber.head(10))\n",
    "li"
   ]
  },
  {
   "cell_type": "code",
   "execution_count": 351,
   "id": "83778dbd-2f2b-4a79-b8c6-a35d70d1ab22",
   "metadata": {},
   "outputs": [
    {
     "data": {
      "text/plain": [
       "['90XXXXX48',\n",
       " '80XXXXX67',\n",
       " '09XXXXX14',\n",
       " '94XXXXX69',\n",
       " '0000000000',\n",
       " '0000000000',\n",
       " '0000000000',\n",
       " '0000000000',\n",
       " '87XXXXX41',\n",
       " '94XXXXX95']"
      ]
     },
     "execution_count": 351,
     "metadata": {},
     "output_type": "execute_result"
    }
   ],
   "source": [
    "list(map(lambda x: '0000000000' if x=='0000000000' else x[:2]+'XXXXX'+x[-2:] ,li))"
   ]
  },
  {
   "cell_type": "code",
   "execution_count": null,
   "id": "695a881d-299d-4889-b219-8181e86c8e5d",
   "metadata": {},
   "outputs": [],
   "source": []
  }
 ],
 "metadata": {
  "kernelspec": {
   "display_name": "Python 3 (ipykernel)",
   "language": "python",
   "name": "python3"
  },
  "language_info": {
   "codemirror_mode": {
    "name": "ipython",
    "version": 3
   },
   "file_extension": ".py",
   "mimetype": "text/x-python",
   "name": "python",
   "nbconvert_exporter": "python",
   "pygments_lexer": "ipython3",
   "version": "3.11.7"
  }
 },
 "nbformat": 4,
 "nbformat_minor": 5
}
