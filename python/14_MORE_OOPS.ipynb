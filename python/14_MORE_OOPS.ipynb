{
 "cells": [
  {
   "cell_type": "code",
   "execution_count": 2,
   "id": "b77f4a94-2f9d-4616-ae6d-ff42cb468390",
   "metadata": {},
   "outputs": [],
   "source": [
    "from abc import ABC, abstractmethod\n",
    "\n",
    "class KSRDataCleaning(ABC):\n",
    "    def __init__(self, data):\n",
    "        self.data = data\n",
    "    @abstractmethod\n",
    "    def clean_missing_values(self):\n",
    "        pass\n",
    "    @abstractmethod\n",
    "    def calculate_revenue(self):\n",
    "        pass\n",
    "    "
   ]
  },
  {
   "cell_type": "code",
   "execution_count": 4,
   "id": "67643cc4-5f77-49f4-a294-0cf2b745952f",
   "metadata": {},
   "outputs": [],
   "source": [
    "class KSRDataCleaningImplement(KSRDataCleaning):\n",
    "    def clean_missing_value(self):\n",
    "        self.data['customer_email'] = self.data['customer_email'].fillna('unknown@gmail.com')\n",
    "    def calculate_revenue(self):\n",
    "        self.rev = self.sales - self.expenses - self.salary\n",
    "        "
   ]
  },
  {
   "cell_type": "code",
   "execution_count": 5,
   "id": "23d3996e-fdba-4c66-8fbd-2df07af6aa09",
   "metadata": {},
   "outputs": [],
   "source": [
    "import pandas as pd\n",
    "import numpy as np"
   ]
  },
  {
   "cell_type": "code",
   "execution_count": 6,
   "id": "9e3096de-84e9-4bcf-b18f-744abc2b0cdf",
   "metadata": {},
   "outputs": [],
   "source": [
    "data = pd.read_excel(\"data/EmployeeDataToClean.xlsx\")"
   ]
  },
  {
   "cell_type": "code",
   "execution_count": 7,
   "id": "4115b0dc-b50d-4d72-bd35-cd408446741d",
   "metadata": {},
   "outputs": [],
   "source": [
    "df = data.copy()"
   ]
  },
  {
   "cell_type": "code",
   "execution_count": null,
   "id": "4eb5e8fa-261d-4f7a-8e34-43b05eeb1d55",
   "metadata": {},
   "outputs": [],
   "source": []
  }
 ],
 "metadata": {
  "kernelspec": {
   "display_name": "Python 3 (ipykernel)",
   "language": "python",
   "name": "python3"
  },
  "language_info": {
   "codemirror_mode": {
    "name": "ipython",
    "version": 3
   },
   "file_extension": ".py",
   "mimetype": "text/x-python",
   "name": "python",
   "nbconvert_exporter": "python",
   "pygments_lexer": "ipython3",
   "version": "3.11.7"
  }
 },
 "nbformat": 4,
 "nbformat_minor": 5
}
