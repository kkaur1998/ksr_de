{
 "cells": [
  {
   "cell_type": "code",
   "execution_count": 1,
   "id": "f2da5dc1-a7b7-4921-b96e-cc1b82013e0f",
   "metadata": {},
   "outputs": [],
   "source": [
    "import numpy as np\n",
    "import pandas as pd"
   ]
  },
  {
   "cell_type": "code",
   "execution_count": 3,
   "id": "d3139211-7162-4886-a46c-9b903cb437e4",
   "metadata": {},
   "outputs": [],
   "source": [
    "emp = pd.read_excel('data/Emp_Training_Data.xlsx')"
   ]
  },
  {
   "cell_type": "code",
   "execution_count": 4,
   "id": "f497d998-e1b3-4da1-80b0-7b6709cb4dae",
   "metadata": {},
   "outputs": [
    {
     "data": {
      "text/html": [
       "<div>\n",
       "<style scoped>\n",
       "    .dataframe tbody tr th:only-of-type {\n",
       "        vertical-align: middle;\n",
       "    }\n",
       "\n",
       "    .dataframe tbody tr th {\n",
       "        vertical-align: top;\n",
       "    }\n",
       "\n",
       "    .dataframe thead th {\n",
       "        text-align: right;\n",
       "    }\n",
       "</style>\n",
       "<table border=\"1\" class=\"dataframe\">\n",
       "  <thead>\n",
       "    <tr style=\"text-align: right;\">\n",
       "      <th></th>\n",
       "      <th>EmployeeID</th>\n",
       "      <th>ManagerID</th>\n",
       "      <th>Title</th>\n",
       "      <th>MaritalStatus</th>\n",
       "      <th>Gender</th>\n",
       "      <th>HireDate</th>\n",
       "      <th>Dept</th>\n",
       "      <th>Job Grade</th>\n",
       "    </tr>\n",
       "  </thead>\n",
       "  <tbody>\n",
       "    <tr>\n",
       "      <th>0</th>\n",
       "      <td>1</td>\n",
       "      <td>16</td>\n",
       "      <td>Gustavo Achong</td>\n",
       "      <td>M</td>\n",
       "      <td>M</td>\n",
       "      <td>2013-02-02</td>\n",
       "      <td>Sales</td>\n",
       "      <td>Admin</td>\n",
       "    </tr>\n",
       "    <tr>\n",
       "      <th>1</th>\n",
       "      <td>2</td>\n",
       "      <td>6</td>\n",
       "      <td>Catherine Abel</td>\n",
       "      <td>S</td>\n",
       "      <td>M</td>\n",
       "      <td>2013-08-31</td>\n",
       "      <td>Sales</td>\n",
       "      <td>Management</td>\n",
       "    </tr>\n",
       "  </tbody>\n",
       "</table>\n",
       "</div>"
      ],
      "text/plain": [
       "   EmployeeID  ManagerID           Title MaritalStatus Gender   HireDate  \\\n",
       "0           1         16  Gustavo Achong             M      M 2013-02-02   \n",
       "1           2          6  Catherine Abel             S      M 2013-08-31   \n",
       "\n",
       "    Dept   Job Grade  \n",
       "0  Sales       Admin  \n",
       "1  Sales  Management  "
      ]
     },
     "execution_count": 4,
     "metadata": {},
     "output_type": "execute_result"
    }
   ],
   "source": [
    "emp.head(2)"
   ]
  },
  {
   "cell_type": "code",
   "execution_count": 5,
   "id": "a2a3299d-b855-4757-947b-648b3d2d63fe",
   "metadata": {},
   "outputs": [
    {
     "data": {
      "text/plain": [
       "(50, 8)"
      ]
     },
     "execution_count": 5,
     "metadata": {},
     "output_type": "execute_result"
    }
   ],
   "source": [
    "emp.shape"
   ]
  },
  {
   "cell_type": "code",
   "execution_count": 6,
   "id": "44428e0e-5608-4cbc-8336-36c268a87148",
   "metadata": {},
   "outputs": [
    {
     "data": {
      "text/plain": [
       "50"
      ]
     },
     "execution_count": 6,
     "metadata": {},
     "output_type": "execute_result"
    }
   ],
   "source": [
    "emp.EmployeeID.count()"
   ]
  },
  {
   "cell_type": "code",
   "execution_count": 7,
   "id": "6d315866-dd3a-4eb5-810a-4cc43b1a16d2",
   "metadata": {},
   "outputs": [
    {
     "data": {
      "text/plain": [
       "EmployeeID       50\n",
       "ManagerID        28\n",
       "Title            50\n",
       "MaritalStatus     2\n",
       "Gender            2\n",
       "HireDate         39\n",
       "Dept              5\n",
       "Job Grade         3\n",
       "dtype: int64"
      ]
     },
     "execution_count": 7,
     "metadata": {},
     "output_type": "execute_result"
    }
   ],
   "source": [
    "emp.nunique()"
   ]
  },
  {
   "cell_type": "code",
   "execution_count": 8,
   "id": "e0754d28-3bf5-4595-876b-314f503f79cd",
   "metadata": {},
   "outputs": [
    {
     "data": {
      "text/plain": [
       "EmployeeID       0\n",
       "ManagerID        0\n",
       "Title            0\n",
       "MaritalStatus    0\n",
       "Gender           0\n",
       "HireDate         0\n",
       "Dept             0\n",
       "Job Grade        0\n",
       "dtype: int64"
      ]
     },
     "execution_count": 8,
     "metadata": {},
     "output_type": "execute_result"
    }
   ],
   "source": [
    "emp.isnull().sum()"
   ]
  },
  {
   "cell_type": "code",
   "execution_count": 9,
   "id": "b4e5a1f7-ab06-44d4-849b-39fde8a03d0c",
   "metadata": {},
   "outputs": [],
   "source": [
    "def rename_columns(d):\n",
    "    column_dict = {}\n",
    "    for i in d.columns:\n",
    "        j=i\n",
    "        if ' ' in j:\n",
    "            j=j.replace(' ','_')\n",
    "        column_dict[i]=j.lower()\n",
    "    return d.rename(columns=column_dict)"
   ]
  },
  {
   "cell_type": "code",
   "execution_count": 10,
   "id": "ed3b3303-f788-4d96-b8c4-76672306da0e",
   "metadata": {},
   "outputs": [],
   "source": [
    "emp = rename_columns(emp)"
   ]
  },
  {
   "cell_type": "code",
   "execution_count": 12,
   "id": "d5a7e0f4-4e69-4322-b91f-f0b0eaae9827",
   "metadata": {},
   "outputs": [
    {
     "data": {
      "text/plain": [
       "Index(['employeeid', 'managerid', 'title', 'maritalstatus', 'gender',\n",
       "       'hiredate', 'dept', 'job_grade'],\n",
       "      dtype='object')"
      ]
     },
     "execution_count": 12,
     "metadata": {},
     "output_type": "execute_result"
    }
   ],
   "source": [
    "emp.columns"
   ]
  },
  {
   "cell_type": "code",
   "execution_count": 13,
   "id": "9bb3ba5a-59b7-4adf-ac9e-d2e64b701cce",
   "metadata": {},
   "outputs": [
    {
     "data": {
      "text/plain": [
       "50"
      ]
     },
     "execution_count": 13,
     "metadata": {},
     "output_type": "execute_result"
    }
   ],
   "source": [
    "emp['employeeid'].count()"
   ]
  },
  {
   "cell_type": "code",
   "execution_count": 14,
   "id": "6adf527b-9a9e-4a99-b9c6-8eb9809f8221",
   "metadata": {},
   "outputs": [
    {
     "data": {
      "text/plain": [
       "employeeid       50\n",
       "managerid        50\n",
       "title            50\n",
       "maritalstatus    50\n",
       "gender           50\n",
       "hiredate         50\n",
       "dept             50\n",
       "job_grade        50\n",
       "dtype: int64"
      ]
     },
     "execution_count": 14,
     "metadata": {},
     "output_type": "execute_result"
    }
   ],
   "source": [
    "emp.count()"
   ]
  },
  {
   "cell_type": "code",
   "execution_count": 19,
   "id": "a2ff3fa7-9fc6-4cdb-bd33-0c965a150601",
   "metadata": {},
   "outputs": [
    {
     "data": {
      "text/html": [
       "<div>\n",
       "<style scoped>\n",
       "    .dataframe tbody tr th:only-of-type {\n",
       "        vertical-align: middle;\n",
       "    }\n",
       "\n",
       "    .dataframe tbody tr th {\n",
       "        vertical-align: top;\n",
       "    }\n",
       "\n",
       "    .dataframe thead th {\n",
       "        text-align: right;\n",
       "    }\n",
       "</style>\n",
       "<table border=\"1\" class=\"dataframe\">\n",
       "  <thead>\n",
       "    <tr style=\"text-align: right;\">\n",
       "      <th></th>\n",
       "      <th>employeeid</th>\n",
       "    </tr>\n",
       "    <tr>\n",
       "      <th>gender</th>\n",
       "      <th></th>\n",
       "    </tr>\n",
       "  </thead>\n",
       "  <tbody>\n",
       "    <tr>\n",
       "      <th>F</th>\n",
       "      <td>13</td>\n",
       "    </tr>\n",
       "    <tr>\n",
       "      <th>M</th>\n",
       "      <td>37</td>\n",
       "    </tr>\n",
       "  </tbody>\n",
       "</table>\n",
       "</div>"
      ],
      "text/plain": [
       "        employeeid\n",
       "gender            \n",
       "F               13\n",
       "M               37"
      ]
     },
     "execution_count": 19,
     "metadata": {},
     "output_type": "execute_result"
    }
   ],
   "source": [
    "emp[['employeeid','gender']].groupby('gender').count()"
   ]
  },
  {
   "cell_type": "code",
   "execution_count": 20,
   "id": "953500c0-92a3-4705-95ac-9cecc64f3fa1",
   "metadata": {},
   "outputs": [
    {
     "data": {
      "text/html": [
       "<div>\n",
       "<style scoped>\n",
       "    .dataframe tbody tr th:only-of-type {\n",
       "        vertical-align: middle;\n",
       "    }\n",
       "\n",
       "    .dataframe tbody tr th {\n",
       "        vertical-align: top;\n",
       "    }\n",
       "\n",
       "    .dataframe thead th {\n",
       "        text-align: right;\n",
       "    }\n",
       "</style>\n",
       "<table border=\"1\" class=\"dataframe\">\n",
       "  <thead>\n",
       "    <tr style=\"text-align: right;\">\n",
       "      <th></th>\n",
       "      <th>employeeid</th>\n",
       "    </tr>\n",
       "    <tr>\n",
       "      <th>dept</th>\n",
       "      <th></th>\n",
       "    </tr>\n",
       "  </thead>\n",
       "  <tbody>\n",
       "    <tr>\n",
       "      <th>Finance</th>\n",
       "      <td>11</td>\n",
       "    </tr>\n",
       "    <tr>\n",
       "      <th>Human Resource</th>\n",
       "      <td>6</td>\n",
       "    </tr>\n",
       "    <tr>\n",
       "      <th>Logistics</th>\n",
       "      <td>8</td>\n",
       "    </tr>\n",
       "    <tr>\n",
       "      <th>Production</th>\n",
       "      <td>14</td>\n",
       "    </tr>\n",
       "    <tr>\n",
       "      <th>Sales</th>\n",
       "      <td>11</td>\n",
       "    </tr>\n",
       "  </tbody>\n",
       "</table>\n",
       "</div>"
      ],
      "text/plain": [
       "                employeeid\n",
       "dept                      \n",
       "Finance                 11\n",
       "Human Resource           6\n",
       "Logistics                8\n",
       "Production              14\n",
       "Sales                   11"
      ]
     },
     "execution_count": 20,
     "metadata": {},
     "output_type": "execute_result"
    }
   ],
   "source": [
    "emp[['employeeid','dept']].groupby('dept').count()"
   ]
  },
  {
   "cell_type": "code",
   "execution_count": 33,
   "id": "860fd5d1-8f55-4d99-b1f3-e90fed8425cc",
   "metadata": {},
   "outputs": [
    {
     "data": {
      "text/html": [
       "<div>\n",
       "<style scoped>\n",
       "    .dataframe tbody tr th:only-of-type {\n",
       "        vertical-align: middle;\n",
       "    }\n",
       "\n",
       "    .dataframe tbody tr th {\n",
       "        vertical-align: top;\n",
       "    }\n",
       "\n",
       "    .dataframe thead th {\n",
       "        text-align: right;\n",
       "    }\n",
       "</style>\n",
       "<table border=\"1\" class=\"dataframe\">\n",
       "  <thead>\n",
       "    <tr style=\"text-align: right;\">\n",
       "      <th></th>\n",
       "      <th>gender</th>\n",
       "      <th>maritalstatus</th>\n",
       "      <th>employeeid</th>\n",
       "    </tr>\n",
       "  </thead>\n",
       "  <tbody>\n",
       "    <tr>\n",
       "      <th>0</th>\n",
       "      <td>Female</td>\n",
       "      <td>M</td>\n",
       "      <td>7</td>\n",
       "    </tr>\n",
       "    <tr>\n",
       "      <th>1</th>\n",
       "      <td>Female</td>\n",
       "      <td>S</td>\n",
       "      <td>6</td>\n",
       "    </tr>\n",
       "  </tbody>\n",
       "</table>\n",
       "</div>"
      ],
      "text/plain": [
       "   gender maritalstatus  employeeid\n",
       "0  Female             M           7\n",
       "1  Female             S           6"
      ]
     },
     "execution_count": 33,
     "metadata": {},
     "output_type": "execute_result"
    }
   ],
   "source": [
    "df1 = emp[['employeeid', 'maritalstatus', 'gender']].groupby(['gender','maritalstatus'],as_index=False).count()\n",
    "df1.head(2)"
   ]
  },
  {
   "cell_type": "code",
   "execution_count": 29,
   "id": "c643ad57-a35b-4422-89b3-84a6100a713c",
   "metadata": {},
   "outputs": [],
   "source": [
    "emp['gender'] = emp['gender'].replace({'F':'Female','M':'Male'})"
   ]
  },
  {
   "cell_type": "code",
   "execution_count": 34,
   "id": "22091336-ca72-427b-8cb4-2ac84e89120b",
   "metadata": {},
   "outputs": [
    {
     "data": {
      "text/html": [
       "<div>\n",
       "<style scoped>\n",
       "    .dataframe tbody tr th:only-of-type {\n",
       "        vertical-align: middle;\n",
       "    }\n",
       "\n",
       "    .dataframe tbody tr th {\n",
       "        vertical-align: top;\n",
       "    }\n",
       "\n",
       "    .dataframe thead th {\n",
       "        text-align: right;\n",
       "    }\n",
       "</style>\n",
       "<table border=\"1\" class=\"dataframe\">\n",
       "  <thead>\n",
       "    <tr style=\"text-align: right;\">\n",
       "      <th></th>\n",
       "      <th>employeeid</th>\n",
       "      <th>managerid</th>\n",
       "      <th>title</th>\n",
       "      <th>maritalstatus</th>\n",
       "      <th>gender</th>\n",
       "      <th>hiredate</th>\n",
       "      <th>dept</th>\n",
       "      <th>job_grade</th>\n",
       "    </tr>\n",
       "  </thead>\n",
       "  <tbody>\n",
       "    <tr>\n",
       "      <th>0</th>\n",
       "      <td>1</td>\n",
       "      <td>16</td>\n",
       "      <td>Gustavo Achong</td>\n",
       "      <td>M</td>\n",
       "      <td>Male</td>\n",
       "      <td>2013-02-02</td>\n",
       "      <td>Sales</td>\n",
       "      <td>Admin</td>\n",
       "    </tr>\n",
       "    <tr>\n",
       "      <th>1</th>\n",
       "      <td>2</td>\n",
       "      <td>6</td>\n",
       "      <td>Catherine Abel</td>\n",
       "      <td>S</td>\n",
       "      <td>Male</td>\n",
       "      <td>2013-08-31</td>\n",
       "      <td>Sales</td>\n",
       "      <td>Management</td>\n",
       "    </tr>\n",
       "  </tbody>\n",
       "</table>\n",
       "</div>"
      ],
      "text/plain": [
       "   employeeid  managerid           title maritalstatus gender   hiredate  \\\n",
       "0           1         16  Gustavo Achong             M   Male 2013-02-02   \n",
       "1           2          6  Catherine Abel             S   Male 2013-08-31   \n",
       "\n",
       "    dept   job_grade  \n",
       "0  Sales       Admin  \n",
       "1  Sales  Management  "
      ]
     },
     "execution_count": 34,
     "metadata": {},
     "output_type": "execute_result"
    }
   ],
   "source": [
    "emp.head(2)"
   ]
  },
  {
   "cell_type": "code",
   "execution_count": 38,
   "id": "6a1a19e4-b99d-4f68-9805-f51c8e9a5fae",
   "metadata": {},
   "outputs": [],
   "source": [
    "emp['maritalstatus'] = emp['maritalstatus'].apply(lambda x: 'Married' if 'M' else 'Single' if 'S' else 'NA')"
   ]
  },
  {
   "cell_type": "code",
   "execution_count": 39,
   "id": "8e8f4b7e-65ca-404a-905a-44738f3d27b5",
   "metadata": {},
   "outputs": [
    {
     "data": {
      "text/html": [
       "<div>\n",
       "<style scoped>\n",
       "    .dataframe tbody tr th:only-of-type {\n",
       "        vertical-align: middle;\n",
       "    }\n",
       "\n",
       "    .dataframe tbody tr th {\n",
       "        vertical-align: top;\n",
       "    }\n",
       "\n",
       "    .dataframe thead th {\n",
       "        text-align: right;\n",
       "    }\n",
       "</style>\n",
       "<table border=\"1\" class=\"dataframe\">\n",
       "  <thead>\n",
       "    <tr style=\"text-align: right;\">\n",
       "      <th></th>\n",
       "      <th>employeeid</th>\n",
       "      <th>managerid</th>\n",
       "      <th>title</th>\n",
       "      <th>maritalstatus</th>\n",
       "      <th>gender</th>\n",
       "      <th>hiredate</th>\n",
       "      <th>dept</th>\n",
       "      <th>job_grade</th>\n",
       "    </tr>\n",
       "  </thead>\n",
       "  <tbody>\n",
       "    <tr>\n",
       "      <th>0</th>\n",
       "      <td>1</td>\n",
       "      <td>16</td>\n",
       "      <td>Gustavo Achong</td>\n",
       "      <td>Married</td>\n",
       "      <td>Male</td>\n",
       "      <td>2013-02-02</td>\n",
       "      <td>Sales</td>\n",
       "      <td>Admin</td>\n",
       "    </tr>\n",
       "    <tr>\n",
       "      <th>1</th>\n",
       "      <td>2</td>\n",
       "      <td>6</td>\n",
       "      <td>Catherine Abel</td>\n",
       "      <td>Married</td>\n",
       "      <td>Male</td>\n",
       "      <td>2013-08-31</td>\n",
       "      <td>Sales</td>\n",
       "      <td>Management</td>\n",
       "    </tr>\n",
       "  </tbody>\n",
       "</table>\n",
       "</div>"
      ],
      "text/plain": [
       "   employeeid  managerid           title maritalstatus gender   hiredate  \\\n",
       "0           1         16  Gustavo Achong       Married   Male 2013-02-02   \n",
       "1           2          6  Catherine Abel       Married   Male 2013-08-31   \n",
       "\n",
       "    dept   job_grade  \n",
       "0  Sales       Admin  \n",
       "1  Sales  Management  "
      ]
     },
     "execution_count": 39,
     "metadata": {},
     "output_type": "execute_result"
    }
   ],
   "source": [
    "emp.head(2)"
   ]
  },
  {
   "cell_type": "code",
   "execution_count": 40,
   "id": "c8fd87d6-0a4f-472b-ac30-59ede39e1fa0",
   "metadata": {},
   "outputs": [],
   "source": [
    "def gender_status(a):\n",
    "    if a == 'M':\n",
    "        return 'Male'\n",
    "    elif a == 'F':\n",
    "        return 'Female'\n",
    "    else:\n",
    "        return 'NA'"
   ]
  },
  {
   "cell_type": "code",
   "execution_count": 42,
   "id": "fe10d491-f65a-4fbc-8ffe-f98dcc53dc89",
   "metadata": {},
   "outputs": [],
   "source": [
    "#emp['maritalstatus'].apply(gender_status)   #don't run it now because it is done so it will give na"
   ]
  },
  {
   "cell_type": "code",
   "execution_count": 44,
   "id": "978bef64-3b8f-4fa2-b878-d08cb73b0965",
   "metadata": {},
   "outputs": [
    {
     "data": {
      "text/html": [
       "<div>\n",
       "<style scoped>\n",
       "    .dataframe tbody tr th:only-of-type {\n",
       "        vertical-align: middle;\n",
       "    }\n",
       "\n",
       "    .dataframe tbody tr th {\n",
       "        vertical-align: top;\n",
       "    }\n",
       "\n",
       "    .dataframe thead th {\n",
       "        text-align: right;\n",
       "    }\n",
       "</style>\n",
       "<table border=\"1\" class=\"dataframe\">\n",
       "  <thead>\n",
       "    <tr style=\"text-align: right;\">\n",
       "      <th></th>\n",
       "      <th>gender</th>\n",
       "      <th>maritalstatus</th>\n",
       "      <th>employeeid</th>\n",
       "    </tr>\n",
       "  </thead>\n",
       "  <tbody>\n",
       "    <tr>\n",
       "      <th>0</th>\n",
       "      <td>Female</td>\n",
       "      <td>M</td>\n",
       "      <td>7</td>\n",
       "    </tr>\n",
       "    <tr>\n",
       "      <th>1</th>\n",
       "      <td>Female</td>\n",
       "      <td>S</td>\n",
       "      <td>6</td>\n",
       "    </tr>\n",
       "    <tr>\n",
       "      <th>2</th>\n",
       "      <td>Male</td>\n",
       "      <td>M</td>\n",
       "      <td>15</td>\n",
       "    </tr>\n",
       "    <tr>\n",
       "      <th>3</th>\n",
       "      <td>Male</td>\n",
       "      <td>S</td>\n",
       "      <td>22</td>\n",
       "    </tr>\n",
       "  </tbody>\n",
       "</table>\n",
       "</div>"
      ],
      "text/plain": [
       "   gender maritalstatus  employeeid\n",
       "0  Female             M           7\n",
       "1  Female             S           6\n",
       "2    Male             M          15\n",
       "3    Male             S          22"
      ]
     },
     "execution_count": 44,
     "metadata": {},
     "output_type": "execute_result"
    }
   ],
   "source": [
    "df1"
   ]
  }
 ],
 "metadata": {
  "kernelspec": {
   "display_name": "Python 3 (ipykernel)",
   "language": "python",
   "name": "python3"
  },
  "language_info": {
   "codemirror_mode": {
    "name": "ipython",
    "version": 3
   },
   "file_extension": ".py",
   "mimetype": "text/x-python",
   "name": "python",
   "nbconvert_exporter": "python",
   "pygments_lexer": "ipython3",
   "version": "3.11.7"
  }
 },
 "nbformat": 4,
 "nbformat_minor": 5
}
