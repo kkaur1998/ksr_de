{
 "cells": [
  {
   "cell_type": "code",
   "execution_count": 11,
   "id": "5e045d7f-1ee7-4c04-8bbc-7989358e0d6b",
   "metadata": {},
   "outputs": [],
   "source": [
    "li = list(range(1,26,2))"
   ]
  },
  {
   "cell_type": "code",
   "execution_count": 12,
   "id": "932b76a5-b1cd-404f-a54d-36ae8f3bf928",
   "metadata": {},
   "outputs": [
    {
     "data": {
      "text/plain": [
       "[1, 3, 5, 7, 9, 11, 13, 15, 17, 19, 21, 23, 25]"
      ]
     },
     "execution_count": 12,
     "metadata": {},
     "output_type": "execute_result"
    }
   ],
   "source": [
    "li"
   ]
  },
  {
   "cell_type": "code",
   "execution_count": 16,
   "id": "002cbf14-ff30-409a-8e15-5eead2911f60",
   "metadata": {},
   "outputs": [],
   "source": [
    "e_list = []\n",
    "for i in li:\n",
    "    e_list.append(i**2)"
   ]
  },
  {
   "cell_type": "code",
   "execution_count": 17,
   "id": "31b0c203-42b3-437d-8751-64585f214c11",
   "metadata": {},
   "outputs": [
    {
     "data": {
      "text/plain": [
       "[1, 9, 25, 49, 81, 121, 169, 225, 289, 361, 441, 529, 625]"
      ]
     },
     "execution_count": 17,
     "metadata": {},
     "output_type": "execute_result"
    }
   ],
   "source": [
    "e_list"
   ]
  },
  {
   "cell_type": "code",
   "execution_count": 18,
   "id": "47b1cf27-bfae-4f63-9781-579da73c06ad",
   "metadata": {},
   "outputs": [],
   "source": [
    "def find_cube(el):\n",
    "    return el**2"
   ]
  },
  {
   "cell_type": "code",
   "execution_count": 19,
   "id": "3e01bedb-e162-4b98-b9d7-b74af9fc954c",
   "metadata": {},
   "outputs": [],
   "source": [
    "lis1=[]\n",
    "for i in li:\n",
    "    lis1.append(find_cube(i))\n",
    "    "
   ]
  },
  {
   "cell_type": "code",
   "execution_count": 20,
   "id": "44d040a1-e4c3-4252-85be-3bb6062418d1",
   "metadata": {},
   "outputs": [
    {
     "data": {
      "text/plain": [
       "[1, 9, 25, 49, 81, 121, 169, 225, 289, 361, 441, 529, 625]"
      ]
     },
     "execution_count": 20,
     "metadata": {},
     "output_type": "execute_result"
    }
   ],
   "source": [
    "lis1"
   ]
  },
  {
   "cell_type": "code",
   "execution_count": 22,
   "id": "d8e4bfbb-c197-4048-9071-c359fa51effb",
   "metadata": {},
   "outputs": [
    {
     "data": {
      "text/plain": [
       "[1, 9, 25, 49, 81, 121, 169, 225, 289, 361, 441, 529, 625]"
      ]
     },
     "execution_count": 22,
     "metadata": {},
     "output_type": "execute_result"
    }
   ],
   "source": [
    "list(map(find_cube,li))"
   ]
  },
  {
   "cell_type": "code",
   "execution_count": 23,
   "id": "d2443e98-10dd-487d-9271-678506a2f589",
   "metadata": {},
   "outputs": [
    {
     "data": {
      "text/plain": [
       "169"
      ]
     },
     "execution_count": 23,
     "metadata": {},
     "output_type": "execute_result"
    }
   ],
   "source": [
    "sum(li)"
   ]
  },
  {
   "cell_type": "code",
   "execution_count": 24,
   "id": "b4cc5b51-4564-49ba-940f-729d6eec7ff2",
   "metadata": {},
   "outputs": [],
   "source": [
    "def add(a,b):\n",
    "    return a+b"
   ]
  },
  {
   "cell_type": "code",
   "execution_count": 26,
   "id": "1d368b7b-cec7-49cb-a491-95e85a026b53",
   "metadata": {},
   "outputs": [
    {
     "data": {
      "text/plain": [
       "169"
      ]
     },
     "execution_count": 26,
     "metadata": {},
     "output_type": "execute_result"
    }
   ],
   "source": [
    "from functools import reduce\n",
    "reduce(add,li)"
   ]
  },
  {
   "cell_type": "code",
   "execution_count": 37,
   "id": "4b339d4e-7618-4952-ad40-734a908528e7",
   "metadata": {},
   "outputs": [
    {
     "data": {
      "text/plain": [
       "[1, 2, 3, 4, 5, 6, 7, 8, 9, 10, 11, 12, 13, 14, 15, 16, 17]"
      ]
     },
     "execution_count": 37,
     "metadata": {},
     "output_type": "execute_result"
    }
   ],
   "source": [
    "lt = list(range(1,18))\n",
    "lt"
   ]
  },
  {
   "cell_type": "code",
   "execution_count": 42,
   "id": "234c3143-f496-4ce2-946d-e3e420d7ecb3",
   "metadata": {},
   "outputs": [
    {
     "data": {
      "text/plain": [
       "[2, 4, 6, 8, 10, 12, 14, 16]"
      ]
     },
     "execution_count": 42,
     "metadata": {},
     "output_type": "execute_result"
    }
   ],
   "source": [
    "def evens(a):\n",
    "    if a%2 == 0:\n",
    "        return a\n",
    "list(filter(evens,lt))\n"
   ]
  },
  {
   "cell_type": "code",
   "execution_count": 48,
   "id": "f30b2e9c-ca03-47b4-9719-e4ef873bb8f0",
   "metadata": {},
   "outputs": [],
   "source": [
    "def eligible(a):\n",
    "    if a>=18:\n",
    "        return a"
   ]
  },
  {
   "cell_type": "code",
   "execution_count": 50,
   "id": "77fc95e0-d7a2-42f6-a526-ebd66fb695e6",
   "metadata": {},
   "outputs": [
    {
     "data": {
      "text/plain": [
       "[18, 32, 40, 18, 19, 18, 20, 23, 23, 54, 34, 18]"
      ]
     },
     "execution_count": 50,
     "metadata": {},
     "output_type": "execute_result"
    }
   ],
   "source": [
    "voter_list = [17,18,32,40,17,18,19,18,20,23,23,54,34,17,18,16,4,9,13]\n",
    "list(filter(eligible, voter_list))\n"
   ]
  },
  {
   "cell_type": "code",
   "execution_count": 55,
   "id": "f8011ddc-a94b-43f2-bcb7-1eae2a13cc66",
   "metadata": {},
   "outputs": [
    {
     "data": {
      "text/plain": [
       "[18, 32, 40, 18, 18, 20, 54, 34, 18, 16, 4]"
      ]
     },
     "execution_count": 55,
     "metadata": {},
     "output_type": "execute_result"
    }
   ],
   "source": [
    "list(filter(lambda x: x % 2 == 0, voter_list))"
   ]
  },
  {
   "cell_type": "code",
   "execution_count": 59,
   "id": "06156685-3bfc-4594-bfe6-9bf9a15688bb",
   "metadata": {},
   "outputs": [
    {
     "data": {
      "text/plain": [
       "[18, 32, 40, 18, 19, 18, 20, 23, 23, 54, 34, 18]"
      ]
     },
     "execution_count": 59,
     "metadata": {},
     "output_type": "execute_result"
    }
   ],
   "source": [
    "#list comprehension\n",
    "[x for x in voter_list if x>=18]"
   ]
  },
  {
   "cell_type": "code",
   "execution_count": 46,
   "id": "baf098d3-d98d-4a2a-8d35-b831247349f7",
   "metadata": {},
   "outputs": [
    {
     "data": {
      "text/plain": [
       "[3, 4, 5, 6, 7, 8, 9]"
      ]
     },
     "execution_count": 46,
     "metadata": {},
     "output_type": "execute_result"
    }
   ],
   "source": [
    "[i for i in range(10) if i>2]"
   ]
  },
  {
   "cell_type": "code",
   "execution_count": 62,
   "id": "ecd2cf24-e122-402e-b7b1-04bd120861be",
   "metadata": {},
   "outputs": [
    {
     "data": {
      "text/plain": [
       "[18, 32, 40, 18, 18, 20, 54, 34, 18, 16, 4]"
      ]
     },
     "execution_count": 62,
     "metadata": {},
     "output_type": "execute_result"
    }
   ],
   "source": [
    "list(filter(lambda x: x%2==0,voter_list))"
   ]
  },
  {
   "cell_type": "code",
   "execution_count": null,
   "id": "9cda06b1-0bdc-4ec9-a10e-dad9ed4295e3",
   "metadata": {},
   "outputs": [],
   "source": []
  }
 ],
 "metadata": {
  "kernelspec": {
   "display_name": "Python 3 (ipykernel)",
   "language": "python",
   "name": "python3"
  },
  "language_info": {
   "codemirror_mode": {
    "name": "ipython",
    "version": 3
   },
   "file_extension": ".py",
   "mimetype": "text/x-python",
   "name": "python",
   "nbconvert_exporter": "python",
   "pygments_lexer": "ipython3",
   "version": "3.11.7"
  }
 },
 "nbformat": 4,
 "nbformat_minor": 5
}
