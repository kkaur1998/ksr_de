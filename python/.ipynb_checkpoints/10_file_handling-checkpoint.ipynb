{
 "cells": [
  {
   "cell_type": "code",
   "execution_count": 3,
   "id": "f288f914-b56d-4f5a-b511-c5f97faaa0d2",
   "metadata": {},
   "outputs": [],
   "source": [
    "f = open(\"data/t_file.txt\",'w')"
   ]
  },
  {
   "cell_type": "code",
   "execution_count": 4,
   "id": "9531d38b-3b65-4a40-9596-7e5c92cfb282",
   "metadata": {},
   "outputs": [
    {
     "data": {
      "text/plain": [
       "28"
      ]
     },
     "execution_count": 4,
     "metadata": {},
     "output_type": "execute_result"
    }
   ],
   "source": [
    "f.write('I have created this file now')"
   ]
  },
  {
   "cell_type": "code",
   "execution_count": 5,
   "id": "9120baa2-a841-46f4-b672-7383b34e785e",
   "metadata": {},
   "outputs": [],
   "source": [
    "f.close()"
   ]
  },
  {
   "cell_type": "code",
   "execution_count": 6,
   "id": "a7bedecb-3371-485a-a1e6-b4281064b2f5",
   "metadata": {},
   "outputs": [],
   "source": [
    "with open(\"data/t_file.txt\",'r') as f:\n",
    "    tx = f.read()"
   ]
  },
  {
   "cell_type": "code",
   "execution_count": 7,
   "id": "547857f3-668a-46d9-8692-ad705fa335b9",
   "metadata": {},
   "outputs": [
    {
     "data": {
      "text/plain": [
       "'I have created this file now'"
      ]
     },
     "execution_count": 7,
     "metadata": {},
     "output_type": "execute_result"
    }
   ],
   "source": [
    "tx"
   ]
  },
  {
   "cell_type": "code",
   "execution_count": 8,
   "id": "d201bcc8-7a38-4b49-a00e-0887aca7c5e2",
   "metadata": {},
   "outputs": [],
   "source": [
    "with open(\"data/t_file.txt\",'a') as f:\n",
    "    f.write(\"i have appened this sentence wit append mode\")"
   ]
  },
  {
   "cell_type": "code",
   "execution_count": 10,
   "id": "86bb6bac-0c8f-415d-9c46-bb1d80de567a",
   "metadata": {},
   "outputs": [
    {
     "data": {
      "text/plain": [
       "'I have created this file nowi have appened this sentence wit append mode'"
      ]
     },
     "execution_count": 10,
     "metadata": {},
     "output_type": "execute_result"
    }
   ],
   "source": [
    "with open(\"data/t_file.txt\",'r') as f:\n",
    "    tx = f.read()\n",
    "tx"
   ]
  },
  {
   "cell_type": "code",
   "execution_count": 12,
   "id": "bafdbd0f-088b-4c2e-831b-deaf511b5c4d",
   "metadata": {},
   "outputs": [],
   "source": [
    "def read_file(path):\n",
    "    with open(path,'r') as f:\n",
    "        tx = f.read()\n",
    "    return tx"
   ]
  },
  {
   "cell_type": "code",
   "execution_count": 72,
   "id": "72112255-e3b0-420f-901d-0fb60cdcea49",
   "metadata": {},
   "outputs": [],
   "source": [
    "#update whole content\n",
    "def write_file(path, content):\n",
    "    with open(path,'w') as f:\n",
    "        f.write(content)  \n",
    "        print(\"written successfully\")"
   ]
  },
  {
   "cell_type": "code",
   "execution_count": 17,
   "id": "ce6c7c02-78cf-48a7-8b0f-e81bf44182c4",
   "metadata": {},
   "outputs": [],
   "source": [
    "def append_file(path, content):\n",
    "    with open(path,'w') as f:\n",
    "        tx = f.write(content)\n",
    "    return tx  "
   ]
  },
  {
   "cell_type": "code",
   "execution_count": 19,
   "id": "be2daf27-f4ad-4ce3-8623-f3a8ac65b901",
   "metadata": {},
   "outputs": [],
   "source": [
    "import os\n",
    "import sys"
   ]
  },
  {
   "cell_type": "code",
   "execution_count": 21,
   "id": "b48c67a2-2d40-4574-aa7d-b4674780d29e",
   "metadata": {},
   "outputs": [
    {
     "data": {
      "text/plain": [
       "['C:\\\\Users\\\\Computer\\\\Desktop\\\\ksr\\\\ksr_de\\\\mine\\\\python',\n",
       " 'C:\\\\Users\\\\Computer\\\\anaconda3\\\\python311.zip',\n",
       " 'C:\\\\Users\\\\Computer\\\\anaconda3\\\\DLLs',\n",
       " 'C:\\\\Users\\\\Computer\\\\anaconda3\\\\Lib',\n",
       " 'C:\\\\Users\\\\Computer\\\\anaconda3',\n",
       " '',\n",
       " 'C:\\\\Users\\\\Computer\\\\anaconda3\\\\Lib\\\\site-packages',\n",
       " 'C:\\\\Users\\\\Computer\\\\anaconda3\\\\Lib\\\\site-packages\\\\win32',\n",
       " 'C:\\\\Users\\\\Computer\\\\anaconda3\\\\Lib\\\\site-packages\\\\win32\\\\lib',\n",
       " 'C:\\\\Users\\\\Computer\\\\anaconda3\\\\Lib\\\\site-packages\\\\Pythonwin']"
      ]
     },
     "execution_count": 21,
     "metadata": {},
     "output_type": "execute_result"
    }
   ],
   "source": [
    "sys.path"
   ]
  },
  {
   "cell_type": "code",
   "execution_count": 23,
   "id": "65c47ace-9f3b-4a50-8861-bc6114799b48",
   "metadata": {},
   "outputs": [],
   "source": [
    "# os.mkdir()"
   ]
  },
  {
   "cell_type": "code",
   "execution_count": 25,
   "id": "2cdcae39-5f08-481f-9579-6bc11cc59955",
   "metadata": {},
   "outputs": [],
   "source": [
    "#shell utilities - work with desktop files - copy, paste, move, access\n",
    "import shutil as s"
   ]
  },
  {
   "cell_type": "code",
   "execution_count": 63,
   "id": "29afca1f-17f8-42a1-8f4c-aca23d393a6a",
   "metadata": {},
   "outputs": [],
   "source": [
    "# source1 = os.listdir(\"C:/Users/ved/Documents/source/\")\n",
    "# destination = \"C:/Users/ved/Documents/dest\"\n",
    "# sys.path.append('C:\\Users\\Computer\\Desktop\\ksr\\ksr_de\\')\n",
    "# os.listdir('Desktop/ksr/ksr_de')"
   ]
  },
  {
   "cell_type": "code",
   "execution_count": 65,
   "id": "5d4158ce-ccf5-4476-84e6-452a2840bd16",
   "metadata": {},
   "outputs": [],
   "source": [
    "import os\n",
    "# sys.path.append('Desktop/ksr/ksr_de')\n",
    "os.mkdir(r'C:\\Users\\Computer\\Desktop\\ksr\\ksr_de\\src')\n",
    "os.mkdir(r'C:\\Users\\Computer\\Desktop\\ksr\\ksr_de\\dest')"
   ]
  },
  {
   "cell_type": "code",
   "execution_count": 66,
   "id": "9c9a6e1f-159c-4803-808e-860f4bd87997",
   "metadata": {},
   "outputs": [],
   "source": [
    "src_path = r'C:\\Users\\Computer\\Desktop\\ksr\\ksr_de\\src'\n",
    "des_path = r'C:\\Users\\Computer\\Desktop\\ksr\\ksr_de\\dest'"
   ]
  },
  {
   "cell_type": "code",
   "execution_count": 83,
   "id": "2e98faed-43ec-4288-aacb-7bdabd2ef28d",
   "metadata": {},
   "outputs": [
    {
     "name": "stdout",
     "output_type": "stream",
     "text": [
      "written successfully\n"
     ]
    }
   ],
   "source": [
    "write_file(src_path+'\\src_file.txt',\"hi I am writing this to source\")"
   ]
  },
  {
   "cell_type": "code",
   "execution_count": 81,
   "id": "caf02859-27ca-474e-b97b-c0a43e4da2cc",
   "metadata": {},
   "outputs": [
    {
     "data": {
      "text/plain": [
       "'C:\\\\Users\\\\Computer\\\\Desktop\\\\ksr\\\\ksr_de\\\\dest\\\\src_file.txt'"
      ]
     },
     "execution_count": 81,
     "metadata": {},
     "output_type": "execute_result"
    }
   ],
   "source": [
    "s.move(src_path+'\\src_file.txt',des_path)"
   ]
  },
  {
   "cell_type": "code",
   "execution_count": 84,
   "id": "1b5b082e-8aa8-419d-b9ba-ba361cb7ca11",
   "metadata": {},
   "outputs": [
    {
     "data": {
      "text/plain": [
       "'C:\\\\Users\\\\Computer\\\\Desktop\\\\ksr\\\\ksr_de\\\\dest\\\\src_file.txt'"
      ]
     },
     "execution_count": 84,
     "metadata": {},
     "output_type": "execute_result"
    }
   ],
   "source": [
    "s.copy(src_path+'\\src_file.txt',des_path)"
   ]
  },
  {
   "cell_type": "code",
   "execution_count": 86,
   "id": "dd47cbbd-c7a7-4e72-b58b-0bbbfff1715f",
   "metadata": {},
   "outputs": [],
   "source": [
    "#copying metadata for files\n",
    "s.copystat(src_path+'\\src_file.txt',des_path)"
   ]
  },
  {
   "cell_type": "code",
   "execution_count": 87,
   "id": "f2d9a079-6848-43be-8003-75b0ade20390",
   "metadata": {},
   "outputs": [
    {
     "name": "stdout",
     "output_type": "stream",
     "text": [
      "Last Access Time:  Sun Nov 24 00:10:38 2024\n",
      "Last Modification Time:  Sun Nov 24 00:10:38 2024\n"
     ]
    }
   ],
   "source": [
    "import time\n",
    "print(\"Last Access Time: \", time.ctime(os.stat(des_path).st_atime))\n",
    "print(\"Last Modification Time: \", time.ctime(os.stat(des_path).st_atime))"
   ]
  },
  {
   "cell_type": "code",
   "execution_count": 89,
   "id": "25b12687-19e0-49c8-baef-c76ed6f81581",
   "metadata": {
    "scrolled": true
   },
   "outputs": [
    {
     "data": {
      "text/plain": [
       "'Computer'"
      ]
     },
     "execution_count": 89,
     "metadata": {},
     "output_type": "execute_result"
    }
   ],
   "source": [
    "os.getlogin()"
   ]
  },
  {
   "cell_type": "code",
   "execution_count": 92,
   "id": "ff2a9b61-aa15-4212-9a13-1750ff206319",
   "metadata": {},
   "outputs": [
    {
     "data": {
      "text/plain": [
       "'Computer'"
      ]
     },
     "execution_count": 92,
     "metadata": {},
     "output_type": "execute_result"
    }
   ],
   "source": [
    "os.getenv('username')"
   ]
  },
  {
   "cell_type": "code",
   "execution_count": 93,
   "id": "6f0d6551-1103-46c7-acdf-c2cf436a99be",
   "metadata": {},
   "outputs": [
    {
     "data": {
      "text/plain": [
       "'C:\\\\Users\\\\Computer'"
      ]
     },
     "execution_count": 93,
     "metadata": {},
     "output_type": "execute_result"
    }
   ],
   "source": [
    "os.environ['USERPROFILE']"
   ]
  },
  {
   "cell_type": "code",
   "execution_count": 94,
   "id": "5628c14e-f2c6-4cbc-b976-292b0ecacab2",
   "metadata": {},
   "outputs": [
    {
     "data": {
      "text/plain": [
       "'DESKTOP-RVGV6TI'"
      ]
     },
     "execution_count": 94,
     "metadata": {},
     "output_type": "execute_result"
    }
   ],
   "source": [
    "import socket\n",
    "socket.gethostname()"
   ]
  },
  {
   "cell_type": "code",
   "execution_count": 95,
   "id": "67dc2d25-28bb-4a2d-9761-77efc7427832",
   "metadata": {},
   "outputs": [
    {
     "data": {
      "text/plain": [
       "'Windows-10-10.0.19045-SP0'"
      ]
     },
     "execution_count": 95,
     "metadata": {},
     "output_type": "execute_result"
    }
   ],
   "source": [
    "import platform\n",
    "platform.platform()"
   ]
  },
  {
   "cell_type": "code",
   "execution_count": 98,
   "id": "e35a9457-ff79-4f8e-bec1-224f28744b0a",
   "metadata": {},
   "outputs": [
    {
     "data": {
      "text/plain": [
       "uname_result(system='Windows', node='DESKTOP-RVGV6TI', release='10', version='10.0.19045', machine='AMD64')"
      ]
     },
     "execution_count": 98,
     "metadata": {},
     "output_type": "execute_result"
    }
   ],
   "source": [
    "platform.uname()"
   ]
  },
  {
   "cell_type": "code",
   "execution_count": null,
   "id": "c33804de-fe3b-44a8-b4c7-77ededbcbb30",
   "metadata": {},
   "outputs": [],
   "source": []
  }
 ],
 "metadata": {
  "kernelspec": {
   "display_name": "Python 3 (ipykernel)",
   "language": "python",
   "name": "python3"
  },
  "language_info": {
   "codemirror_mode": {
    "name": "ipython",
    "version": 3
   },
   "file_extension": ".py",
   "mimetype": "text/x-python",
   "name": "python",
   "nbconvert_exporter": "python",
   "pygments_lexer": "ipython3",
   "version": "3.11.7"
  }
 },
 "nbformat": 4,
 "nbformat_minor": 5
}
