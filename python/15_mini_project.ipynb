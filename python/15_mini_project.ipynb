{
 "cells": [
  {
   "cell_type": "code",
   "execution_count": 1,
   "id": "07105a18-ac40-4ed6-aee4-98579273f121",
   "metadata": {},
   "outputs": [],
   "source": [
    "import pandas as pd\n",
    "import numpy as np\n",
    "import os"
   ]
  },
  {
   "cell_type": "code",
   "execution_count": 2,
   "id": "72dc7e65-8981-4fe6-b3fd-53801281ce1b",
   "metadata": {},
   "outputs": [
    {
     "data": {
      "text/plain": [
       "['.ipynb_checkpoints',\n",
       " 'Bike_Data.xlsx',\n",
       " 'car data.csv',\n",
       " 'car.csv',\n",
       " 'config.ini',\n",
       " 'Custumer_Data.xlsx',\n",
       " 'EmployeeDataToClean.xlsx',\n",
       " 'Emp_Training_Data.xlsx',\n",
       " 'investment_banking.xlsx',\n",
       " 'Orders_Data.xlsx',\n",
       " 'Orders_Data_2.xlsx',\n",
       " 'superstore.xlsx',\n",
       " 't_file.txt']"
      ]
     },
     "execution_count": 2,
     "metadata": {},
     "output_type": "execute_result"
    }
   ],
   "source": [
    "os.listdir('data')"
   ]
  },
  {
   "cell_type": "code",
   "execution_count": 3,
   "id": "8324c038-5a3b-4a4d-94f3-e0b44a044ee9",
   "metadata": {},
   "outputs": [],
   "source": [
    "data = pd.read_excel('data/investment_banking.xlsx')"
   ]
  },
  {
   "cell_type": "code",
   "execution_count": 132,
   "id": "36dcfd76-d64b-4275-864d-89608b156be1",
   "metadata": {},
   "outputs": [],
   "source": [
    "df = data.copy()"
   ]
  },
  {
   "cell_type": "code",
   "execution_count": 133,
   "id": "cc9a5c6a-8627-449c-8b1d-026b88bdabbb",
   "metadata": {},
   "outputs": [
    {
     "data": {
      "text/plain": [
       "Index(['broker_id', 'city', 'broker_type', 'fund_category', 'email_opened',\n",
       "       'webex_meet', 'sales_call', 'firm_sales', 'global_sales'],\n",
       "      dtype='object')"
      ]
     },
     "execution_count": 133,
     "metadata": {},
     "output_type": "execute_result"
    }
   ],
   "source": [
    "df.columns"
   ]
  },
  {
   "cell_type": "code",
   "execution_count": 134,
   "id": "17f1f6a4-1d07-46f5-b8e5-6a948646ff48",
   "metadata": {},
   "outputs": [
    {
     "data": {
      "text/plain": [
       "(753089, 9)"
      ]
     },
     "execution_count": 134,
     "metadata": {},
     "output_type": "execute_result"
    }
   ],
   "source": [
    "df.shape"
   ]
  },
  {
   "cell_type": "code",
   "execution_count": 135,
   "id": "2f82acd9-1930-4f6b-9c59-98198525b2dd",
   "metadata": {},
   "outputs": [
    {
     "data": {
      "text/html": [
       "<div>\n",
       "<style scoped>\n",
       "    .dataframe tbody tr th:only-of-type {\n",
       "        vertical-align: middle;\n",
       "    }\n",
       "\n",
       "    .dataframe tbody tr th {\n",
       "        vertical-align: top;\n",
       "    }\n",
       "\n",
       "    .dataframe thead th {\n",
       "        text-align: right;\n",
       "    }\n",
       "</style>\n",
       "<table border=\"1\" class=\"dataframe\">\n",
       "  <thead>\n",
       "    <tr style=\"text-align: right;\">\n",
       "      <th></th>\n",
       "      <th>broker_id</th>\n",
       "      <th>city</th>\n",
       "      <th>broker_type</th>\n",
       "      <th>fund_category</th>\n",
       "      <th>email_opened</th>\n",
       "      <th>webex_meet</th>\n",
       "      <th>sales_call</th>\n",
       "      <th>firm_sales</th>\n",
       "      <th>global_sales</th>\n",
       "    </tr>\n",
       "  </thead>\n",
       "  <tbody>\n",
       "    <tr>\n",
       "      <th>0</th>\n",
       "      <td>BRXX-1</td>\n",
       "      <td>PLANTATION, FL</td>\n",
       "      <td>Inter-dealer broker</td>\n",
       "      <td>Emerging-Markets Local-Currency Bond</td>\n",
       "      <td>NaN</td>\n",
       "      <td>NaN</td>\n",
       "      <td>NaN</td>\n",
       "      <td>174.62</td>\n",
       "      <td>174.62</td>\n",
       "    </tr>\n",
       "    <tr>\n",
       "      <th>1</th>\n",
       "      <td>BRXX-1</td>\n",
       "      <td>BRANFORD, CT</td>\n",
       "      <td>Inter-dealer broker</td>\n",
       "      <td>Utilities</td>\n",
       "      <td>NaN</td>\n",
       "      <td>NaN</td>\n",
       "      <td>NaN</td>\n",
       "      <td>0.00</td>\n",
       "      <td>0.00</td>\n",
       "    </tr>\n",
       "  </tbody>\n",
       "</table>\n",
       "</div>"
      ],
      "text/plain": [
       "  broker_id            city          broker_type  \\\n",
       "0    BRXX-1  PLANTATION, FL  Inter-dealer broker   \n",
       "1    BRXX-1    BRANFORD, CT  Inter-dealer broker   \n",
       "\n",
       "                          fund_category email_opened webex_meet sales_call  \\\n",
       "0  Emerging-Markets Local-Currency Bond          NaN        NaN        NaN   \n",
       "1                             Utilities          NaN        NaN        NaN   \n",
       "\n",
       "   firm_sales  global_sales  \n",
       "0      174.62        174.62  \n",
       "1        0.00          0.00  "
      ]
     },
     "execution_count": 135,
     "metadata": {},
     "output_type": "execute_result"
    }
   ],
   "source": [
    "df.head(2)"
   ]
  },
  {
   "cell_type": "code",
   "execution_count": 136,
   "id": "ce4eb1db-2547-4219-b5b2-6ab1a6380806",
   "metadata": {},
   "outputs": [
    {
     "data": {
      "text/plain": [
       "1178"
      ]
     },
     "execution_count": 136,
     "metadata": {},
     "output_type": "execute_result"
    }
   ],
   "source": [
    "df.broker_id.nunique()"
   ]
  },
  {
   "cell_type": "code",
   "execution_count": 137,
   "id": "ac2afd14-a592-4e7f-b56f-388847a30dcb",
   "metadata": {},
   "outputs": [
    {
     "data": {
      "text/plain": [
       "broker_id             0\n",
       "city                  0\n",
       "broker_type           0\n",
       "fund_category         0\n",
       "email_opened     434545\n",
       "webex_meet       667429\n",
       "sales_call       573091\n",
       "firm_sales            0\n",
       "global_sales          0\n",
       "dtype: int64"
      ]
     },
     "execution_count": 137,
     "metadata": {},
     "output_type": "execute_result"
    }
   ],
   "source": [
    "df.isna().sum()"
   ]
  },
  {
   "cell_type": "code",
   "execution_count": 138,
   "id": "a2cff580-2b50-4263-9de4-8fed907fe5f8",
   "metadata": {},
   "outputs": [
    {
     "data": {
      "text/plain": [
       "array([nan, 'Y'], dtype=object)"
      ]
     },
     "execution_count": 138,
     "metadata": {},
     "output_type": "execute_result"
    }
   ],
   "source": [
    "df.webex_meet.unique()"
   ]
  },
  {
   "cell_type": "code",
   "execution_count": 139,
   "id": "0befbacf-61dc-4707-bb0d-98162725fd1d",
   "metadata": {},
   "outputs": [
    {
     "data": {
      "text/plain": [
       "array([nan, 'Y'], dtype=object)"
      ]
     },
     "execution_count": 139,
     "metadata": {},
     "output_type": "execute_result"
    }
   ],
   "source": [
    "df['email_opened'].unique()"
   ]
  },
  {
   "cell_type": "code",
   "execution_count": 140,
   "id": "04a7962c-8b4c-457b-adab-e49c48b5f757",
   "metadata": {},
   "outputs": [
    {
     "data": {
      "text/plain": [
       "array([nan, 'Y'], dtype=object)"
      ]
     },
     "execution_count": 140,
     "metadata": {},
     "output_type": "execute_result"
    }
   ],
   "source": [
    "df['sales_call'].unique()"
   ]
  },
  {
   "cell_type": "code",
   "execution_count": 141,
   "id": "2df04ef2-5be4-4a2b-b8f5-b8bc731a1a00",
   "metadata": {},
   "outputs": [],
   "source": [
    "df['email_opened'] = df['email_opened'].fillna('N')"
   ]
  },
  {
   "cell_type": "code",
   "execution_count": 142,
   "id": "665aad6f-d184-4048-9979-b18228b3a5ed",
   "metadata": {},
   "outputs": [],
   "source": [
    "df['sales_call'] = df['sales_call'].fillna('N')"
   ]
  },
  {
   "cell_type": "code",
   "execution_count": 143,
   "id": "432b76a3-4e20-4623-a3d1-6e8400f1f675",
   "metadata": {},
   "outputs": [],
   "source": [
    "df['webex_meet'] = df['webex_meet'].fillna('N')"
   ]
  },
  {
   "cell_type": "code",
   "execution_count": 144,
   "id": "aec1b652-7e2c-4a5c-962f-5f58e099c439",
   "metadata": {},
   "outputs": [
    {
     "data": {
      "text/plain": [
       "array(['Inter-dealer broker', 'full-service broker'], dtype=object)"
      ]
     },
     "execution_count": 144,
     "metadata": {},
     "output_type": "execute_result"
    }
   ],
   "source": [
    "df.broker_type.unique()"
   ]
  },
  {
   "cell_type": "code",
   "execution_count": 145,
   "id": "b261e15e-a18b-4be0-9a66-9b9b6625fe78",
   "metadata": {
    "scrolled": true
   },
   "outputs": [
    {
     "data": {
      "text/plain": [
       "broker_type\n",
       "Inter-dealer broker    696949\n",
       "full-service broker     56140\n",
       "Name: count, dtype: int64"
      ]
     },
     "execution_count": 145,
     "metadata": {},
     "output_type": "execute_result"
    }
   ],
   "source": [
    "df.broker_type.value_counts()"
   ]
  },
  {
   "cell_type": "code",
   "execution_count": 146,
   "id": "b0b8191b-85d9-416a-85de-0e7c36fd6f21",
   "metadata": {},
   "outputs": [
    {
     "data": {
      "text/plain": [
       "broker_type\n",
       "Inter-dealer broker    1173\n",
       "full-service broker       5\n",
       "Name: broker_id, dtype: int64"
      ]
     },
     "execution_count": 146,
     "metadata": {},
     "output_type": "execute_result"
    }
   ],
   "source": [
    "#select count(distinct broker_id),broker_type from df group by broker_type\n",
    "df.groupby(df['broker_type'])['broker_id'].nunique()"
   ]
  },
  {
   "cell_type": "code",
   "execution_count": 147,
   "id": "e1fcad15-ba2a-4ff6-878e-b2a60d35c1ee",
   "metadata": {},
   "outputs": [
    {
     "data": {
      "text/plain": [
       "broker_id        0\n",
       "city             0\n",
       "broker_type      0\n",
       "fund_category    0\n",
       "email_opened     0\n",
       "webex_meet       0\n",
       "sales_call       0\n",
       "firm_sales       0\n",
       "global_sales     0\n",
       "dtype: int64"
      ]
     },
     "execution_count": 147,
     "metadata": {},
     "output_type": "execute_result"
    }
   ],
   "source": [
    "df.isna().sum()"
   ]
  },
  {
   "cell_type": "code",
   "execution_count": 148,
   "id": "dc51fa02-ea69-40d0-8d81-3b6e3aa25d3a",
   "metadata": {
    "scrolled": true
   },
   "outputs": [
    {
     "data": {
      "text/html": [
       "<div>\n",
       "<style scoped>\n",
       "    .dataframe tbody tr th:only-of-type {\n",
       "        vertical-align: middle;\n",
       "    }\n",
       "\n",
       "    .dataframe tbody tr th {\n",
       "        vertical-align: top;\n",
       "    }\n",
       "\n",
       "    .dataframe thead th {\n",
       "        text-align: right;\n",
       "    }\n",
       "</style>\n",
       "<table border=\"1\" class=\"dataframe\">\n",
       "  <thead>\n",
       "    <tr style=\"text-align: right;\">\n",
       "      <th></th>\n",
       "      <th>broker_id</th>\n",
       "      <th>city</th>\n",
       "      <th>broker_type</th>\n",
       "      <th>fund_category</th>\n",
       "      <th>email_opened</th>\n",
       "      <th>webex_meet</th>\n",
       "      <th>sales_call</th>\n",
       "      <th>firm_sales</th>\n",
       "      <th>global_sales</th>\n",
       "    </tr>\n",
       "  </thead>\n",
       "  <tbody>\n",
       "    <tr>\n",
       "      <th>0</th>\n",
       "      <td>BRXX-1</td>\n",
       "      <td>PLANTATION, FL</td>\n",
       "      <td>Inter-dealer broker</td>\n",
       "      <td>Emerging-Markets Local-Currency Bond</td>\n",
       "      <td>N</td>\n",
       "      <td>N</td>\n",
       "      <td>N</td>\n",
       "      <td>174.62</td>\n",
       "      <td>174.62</td>\n",
       "    </tr>\n",
       "    <tr>\n",
       "      <th>1</th>\n",
       "      <td>BRXX-1</td>\n",
       "      <td>BRANFORD, CT</td>\n",
       "      <td>Inter-dealer broker</td>\n",
       "      <td>Utilities</td>\n",
       "      <td>N</td>\n",
       "      <td>N</td>\n",
       "      <td>N</td>\n",
       "      <td>0.00</td>\n",
       "      <td>0.00</td>\n",
       "    </tr>\n",
       "  </tbody>\n",
       "</table>\n",
       "</div>"
      ],
      "text/plain": [
       "  broker_id            city          broker_type  \\\n",
       "0    BRXX-1  PLANTATION, FL  Inter-dealer broker   \n",
       "1    BRXX-1    BRANFORD, CT  Inter-dealer broker   \n",
       "\n",
       "                          fund_category email_opened webex_meet sales_call  \\\n",
       "0  Emerging-Markets Local-Currency Bond            N          N          N   \n",
       "1                             Utilities            N          N          N   \n",
       "\n",
       "   firm_sales  global_sales  \n",
       "0      174.62        174.62  \n",
       "1        0.00          0.00  "
      ]
     },
     "execution_count": 148,
     "metadata": {},
     "output_type": "execute_result"
    }
   ],
   "source": [
    "df.head(2)"
   ]
  },
  {
   "cell_type": "code",
   "execution_count": 149,
   "id": "55102b0f-8729-44f0-b404-e9064bcf0f17",
   "metadata": {},
   "outputs": [],
   "source": [
    "stat = df.city.str[-2:]\n",
    "citi = df.city.str[:-4]"
   ]
  },
  {
   "cell_type": "code",
   "execution_count": 150,
   "id": "f46ccfd2-e0a8-477a-978b-8f2f0cf360c5",
   "metadata": {},
   "outputs": [],
   "source": [
    "df['state'] = df['city'].str.split(',',expand = True)[1]"
   ]
  },
  {
   "cell_type": "code",
   "execution_count": 151,
   "id": "48a6a4ee-7c89-4800-810c-57daf9e10a4d",
   "metadata": {},
   "outputs": [],
   "source": [
    "df['city'] = df['city'].str.split(',',expand = True)[0]"
   ]
  },
  {
   "cell_type": "code",
   "execution_count": 152,
   "id": "7d5d4773-ac12-4a0f-b0ad-8586ee9eabb3",
   "metadata": {},
   "outputs": [
    {
     "data": {
      "text/html": [
       "<div>\n",
       "<style scoped>\n",
       "    .dataframe tbody tr th:only-of-type {\n",
       "        vertical-align: middle;\n",
       "    }\n",
       "\n",
       "    .dataframe tbody tr th {\n",
       "        vertical-align: top;\n",
       "    }\n",
       "\n",
       "    .dataframe thead th {\n",
       "        text-align: right;\n",
       "    }\n",
       "</style>\n",
       "<table border=\"1\" class=\"dataframe\">\n",
       "  <thead>\n",
       "    <tr style=\"text-align: right;\">\n",
       "      <th></th>\n",
       "      <th>broker_id</th>\n",
       "      <th>city</th>\n",
       "      <th>broker_type</th>\n",
       "      <th>fund_category</th>\n",
       "      <th>email_opened</th>\n",
       "      <th>webex_meet</th>\n",
       "      <th>sales_call</th>\n",
       "      <th>firm_sales</th>\n",
       "      <th>global_sales</th>\n",
       "      <th>state</th>\n",
       "    </tr>\n",
       "  </thead>\n",
       "  <tbody>\n",
       "    <tr>\n",
       "      <th>0</th>\n",
       "      <td>BRXX-1</td>\n",
       "      <td>PLANTATION</td>\n",
       "      <td>Inter-dealer broker</td>\n",
       "      <td>Emerging-Markets Local-Currency Bond</td>\n",
       "      <td>N</td>\n",
       "      <td>N</td>\n",
       "      <td>N</td>\n",
       "      <td>174.62</td>\n",
       "      <td>174.62</td>\n",
       "      <td>FL</td>\n",
       "    </tr>\n",
       "    <tr>\n",
       "      <th>1</th>\n",
       "      <td>BRXX-1</td>\n",
       "      <td>BRANFORD</td>\n",
       "      <td>Inter-dealer broker</td>\n",
       "      <td>Utilities</td>\n",
       "      <td>N</td>\n",
       "      <td>N</td>\n",
       "      <td>N</td>\n",
       "      <td>0.00</td>\n",
       "      <td>0.00</td>\n",
       "      <td>CT</td>\n",
       "    </tr>\n",
       "    <tr>\n",
       "      <th>2</th>\n",
       "      <td>BRXX-1</td>\n",
       "      <td>JONESBORO</td>\n",
       "      <td>Inter-dealer broker</td>\n",
       "      <td>Intermediate Government</td>\n",
       "      <td>N</td>\n",
       "      <td>N</td>\n",
       "      <td>N</td>\n",
       "      <td>0.00</td>\n",
       "      <td>0.00</td>\n",
       "      <td>GA</td>\n",
       "    </tr>\n",
       "    <tr>\n",
       "      <th>3</th>\n",
       "      <td>BRXX-2</td>\n",
       "      <td>VIENNA</td>\n",
       "      <td>Inter-dealer broker</td>\n",
       "      <td>Intermediate Government</td>\n",
       "      <td>Y</td>\n",
       "      <td>N</td>\n",
       "      <td>N</td>\n",
       "      <td>0.00</td>\n",
       "      <td>30709.00</td>\n",
       "      <td>VA</td>\n",
       "    </tr>\n",
       "    <tr>\n",
       "      <th>4</th>\n",
       "      <td>BRXX-3</td>\n",
       "      <td>CHAGRIN FALLS</td>\n",
       "      <td>full-service broker</td>\n",
       "      <td>Target-Date 2050</td>\n",
       "      <td>Y</td>\n",
       "      <td>N</td>\n",
       "      <td>Y</td>\n",
       "      <td>0.00</td>\n",
       "      <td>0.00</td>\n",
       "      <td>OH</td>\n",
       "    </tr>\n",
       "  </tbody>\n",
       "</table>\n",
       "</div>"
      ],
      "text/plain": [
       "  broker_id           city          broker_type  \\\n",
       "0    BRXX-1     PLANTATION  Inter-dealer broker   \n",
       "1    BRXX-1       BRANFORD  Inter-dealer broker   \n",
       "2    BRXX-1      JONESBORO  Inter-dealer broker   \n",
       "3    BRXX-2         VIENNA  Inter-dealer broker   \n",
       "4    BRXX-3  CHAGRIN FALLS  full-service broker   \n",
       "\n",
       "                          fund_category email_opened webex_meet sales_call  \\\n",
       "0  Emerging-Markets Local-Currency Bond            N          N          N   \n",
       "1                             Utilities            N          N          N   \n",
       "2               Intermediate Government            N          N          N   \n",
       "3               Intermediate Government            Y          N          N   \n",
       "4                      Target-Date 2050            Y          N          Y   \n",
       "\n",
       "   firm_sales  global_sales state  \n",
       "0      174.62        174.62    FL  \n",
       "1        0.00          0.00    CT  \n",
       "2        0.00          0.00    GA  \n",
       "3        0.00      30709.00    VA  \n",
       "4        0.00          0.00    OH  "
      ]
     },
     "execution_count": 152,
     "metadata": {},
     "output_type": "execute_result"
    }
   ],
   "source": [
    "df.head()"
   ]
  },
  {
   "cell_type": "code",
   "execution_count": 156,
   "id": "51809010-5578-4ea9-b157-4f0d5043aa64",
   "metadata": {},
   "outputs": [
    {
     "data": {
      "text/html": [
       "<div>\n",
       "<style scoped>\n",
       "    .dataframe tbody tr th:only-of-type {\n",
       "        vertical-align: middle;\n",
       "    }\n",
       "\n",
       "    .dataframe tbody tr th {\n",
       "        vertical-align: top;\n",
       "    }\n",
       "\n",
       "    .dataframe thead th {\n",
       "        text-align: right;\n",
       "    }\n",
       "</style>\n",
       "<table border=\"1\" class=\"dataframe\">\n",
       "  <thead>\n",
       "    <tr style=\"text-align: right;\">\n",
       "      <th></th>\n",
       "      <th>broker_id</th>\n",
       "      <th>firm_sales</th>\n",
       "    </tr>\n",
       "  </thead>\n",
       "  <tbody>\n",
       "    <tr>\n",
       "      <th>0</th>\n",
       "      <td>BRXX-1</td>\n",
       "      <td>11157673.73</td>\n",
       "    </tr>\n",
       "    <tr>\n",
       "      <th>1</th>\n",
       "      <td>BRXX-10</td>\n",
       "      <td>0.00</td>\n",
       "    </tr>\n",
       "    <tr>\n",
       "      <th>2</th>\n",
       "      <td>BRXX-100</td>\n",
       "      <td>267918.14</td>\n",
       "    </tr>\n",
       "    <tr>\n",
       "      <th>3</th>\n",
       "      <td>BRXX-1000</td>\n",
       "      <td>0.00</td>\n",
       "    </tr>\n",
       "    <tr>\n",
       "      <th>4</th>\n",
       "      <td>BRXX-1001</td>\n",
       "      <td>0.00</td>\n",
       "    </tr>\n",
       "  </tbody>\n",
       "</table>\n",
       "</div>"
      ],
      "text/plain": [
       "   broker_id   firm_sales\n",
       "0     BRXX-1  11157673.73\n",
       "1    BRXX-10         0.00\n",
       "2   BRXX-100    267918.14\n",
       "3  BRXX-1000         0.00\n",
       "4  BRXX-1001         0.00"
      ]
     },
     "execution_count": 156,
     "metadata": {},
     "output_type": "execute_result"
    }
   ],
   "source": [
    "df1 = df[['broker_id','firm_sales']]\n",
    "broker_firm_sales = df1.groupby('broker_id',as_index=False).sum()\n",
    "broker_firm_sales.head()"
   ]
  },
  {
   "cell_type": "code",
   "execution_count": 158,
   "id": "b493d28d-1805-4550-9ca3-c98112f1b2b8",
   "metadata": {},
   "outputs": [
    {
     "data": {
      "text/html": [
       "<div>\n",
       "<style scoped>\n",
       "    .dataframe tbody tr th:only-of-type {\n",
       "        vertical-align: middle;\n",
       "    }\n",
       "\n",
       "    .dataframe tbody tr th {\n",
       "        vertical-align: top;\n",
       "    }\n",
       "\n",
       "    .dataframe thead th {\n",
       "        text-align: right;\n",
       "    }\n",
       "</style>\n",
       "<table border=\"1\" class=\"dataframe\">\n",
       "  <thead>\n",
       "    <tr style=\"text-align: right;\">\n",
       "      <th></th>\n",
       "      <th>broker_id</th>\n",
       "      <th>global_sales</th>\n",
       "    </tr>\n",
       "  </thead>\n",
       "  <tbody>\n",
       "    <tr>\n",
       "      <th>0</th>\n",
       "      <td>BRXX-1</td>\n",
       "      <td>1.066317e+08</td>\n",
       "    </tr>\n",
       "    <tr>\n",
       "      <th>1</th>\n",
       "      <td>BRXX-10</td>\n",
       "      <td>7.483650e+05</td>\n",
       "    </tr>\n",
       "    <tr>\n",
       "      <th>2</th>\n",
       "      <td>BRXX-100</td>\n",
       "      <td>8.150361e+06</td>\n",
       "    </tr>\n",
       "    <tr>\n",
       "      <th>3</th>\n",
       "      <td>BRXX-1000</td>\n",
       "      <td>0.000000e+00</td>\n",
       "    </tr>\n",
       "    <tr>\n",
       "      <th>4</th>\n",
       "      <td>BRXX-1001</td>\n",
       "      <td>1.089745e+06</td>\n",
       "    </tr>\n",
       "  </tbody>\n",
       "</table>\n",
       "</div>"
      ],
      "text/plain": [
       "   broker_id  global_sales\n",
       "0     BRXX-1  1.066317e+08\n",
       "1    BRXX-10  7.483650e+05\n",
       "2   BRXX-100  8.150361e+06\n",
       "3  BRXX-1000  0.000000e+00\n",
       "4  BRXX-1001  1.089745e+06"
      ]
     },
     "execution_count": 158,
     "metadata": {},
     "output_type": "execute_result"
    }
   ],
   "source": [
    "df2 = df[['broker_id','global_sales']]\n",
    "broker_global_sales = df2.groupby('broker_id',as_index=False).sum()\n",
    "broker_global_sales.head()"
   ]
  },
  {
   "cell_type": "code",
   "execution_count": 168,
   "id": "a48befcb-8d6b-49b5-88c4-476e8fb1528e",
   "metadata": {},
   "outputs": [],
   "source": [
    "del data\n",
    "del stat\n",
    "del citi"
   ]
  },
  {
   "cell_type": "code",
   "execution_count": 169,
   "id": "769d458b-4485-43de-9295-2c33e7910f36",
   "metadata": {},
   "outputs": [
    {
     "name": "stdout",
     "output_type": "stream",
     "text": [
      "Garbage collector: collected 2962 objects.\n"
     ]
    }
   ],
   "source": [
    "import gc\n",
    "collected = gc.collect()\n",
    "print(\"Garbage collector: collected\",\n",
    "          \"%d objects.\" % collected)"
   ]
  },
  {
   "cell_type": "code",
   "execution_count": 173,
   "id": "1ef18ebe-2d3f-4bcb-b781-c0c475248024",
   "metadata": {},
   "outputs": [
    {
     "ename": "MemoryError",
     "evalue": "Unable to allocate 139. GiB for an array with shape (18713020829,) and data type int64",
     "output_type": "error",
     "traceback": [
      "\u001b[1;31m---------------------------------------------------------------------------\u001b[0m",
      "\u001b[1;31mMemoryError\u001b[0m                               Traceback (most recent call last)",
      "Cell \u001b[1;32mIn[173], line 1\u001b[0m\n\u001b[1;32m----> 1\u001b[0m df1\u001b[38;5;241m.\u001b[39mmerge(df2, how\u001b[38;5;241m=\u001b[39m\u001b[38;5;124m'\u001b[39m\u001b[38;5;124minner\u001b[39m\u001b[38;5;124m'\u001b[39m)\n",
      "File \u001b[1;32m~\\anaconda3\\Lib\\site-packages\\pandas\\core\\frame.py:10487\u001b[0m, in \u001b[0;36mDataFrame.merge\u001b[1;34m(self, right, how, on, left_on, right_on, left_index, right_index, sort, suffixes, copy, indicator, validate)\u001b[0m\n\u001b[0;32m  10468\u001b[0m \u001b[38;5;129m@Substitution\u001b[39m(\u001b[38;5;124m\"\u001b[39m\u001b[38;5;124m\"\u001b[39m)\n\u001b[0;32m  10469\u001b[0m \u001b[38;5;129m@Appender\u001b[39m(_merge_doc, indents\u001b[38;5;241m=\u001b[39m\u001b[38;5;241m2\u001b[39m)\n\u001b[0;32m  10470\u001b[0m \u001b[38;5;28;01mdef\u001b[39;00m \u001b[38;5;21mmerge\u001b[39m(\n\u001b[1;32m   (...)\u001b[0m\n\u001b[0;32m  10483\u001b[0m     validate: MergeValidate \u001b[38;5;241m|\u001b[39m \u001b[38;5;28;01mNone\u001b[39;00m \u001b[38;5;241m=\u001b[39m \u001b[38;5;28;01mNone\u001b[39;00m,\n\u001b[0;32m  10484\u001b[0m ) \u001b[38;5;241m-\u001b[39m\u001b[38;5;241m>\u001b[39m DataFrame:\n\u001b[0;32m  10485\u001b[0m     \u001b[38;5;28;01mfrom\u001b[39;00m \u001b[38;5;21;01mpandas\u001b[39;00m\u001b[38;5;21;01m.\u001b[39;00m\u001b[38;5;21;01mcore\u001b[39;00m\u001b[38;5;21;01m.\u001b[39;00m\u001b[38;5;21;01mreshape\u001b[39;00m\u001b[38;5;21;01m.\u001b[39;00m\u001b[38;5;21;01mmerge\u001b[39;00m \u001b[38;5;28;01mimport\u001b[39;00m merge\n\u001b[1;32m> 10487\u001b[0m     \u001b[38;5;28;01mreturn\u001b[39;00m merge(\n\u001b[0;32m  10488\u001b[0m         \u001b[38;5;28mself\u001b[39m,\n\u001b[0;32m  10489\u001b[0m         right,\n\u001b[0;32m  10490\u001b[0m         how\u001b[38;5;241m=\u001b[39mhow,\n\u001b[0;32m  10491\u001b[0m         on\u001b[38;5;241m=\u001b[39mon,\n\u001b[0;32m  10492\u001b[0m         left_on\u001b[38;5;241m=\u001b[39mleft_on,\n\u001b[0;32m  10493\u001b[0m         right_on\u001b[38;5;241m=\u001b[39mright_on,\n\u001b[0;32m  10494\u001b[0m         left_index\u001b[38;5;241m=\u001b[39mleft_index,\n\u001b[0;32m  10495\u001b[0m         right_index\u001b[38;5;241m=\u001b[39mright_index,\n\u001b[0;32m  10496\u001b[0m         sort\u001b[38;5;241m=\u001b[39msort,\n\u001b[0;32m  10497\u001b[0m         suffixes\u001b[38;5;241m=\u001b[39msuffixes,\n\u001b[0;32m  10498\u001b[0m         copy\u001b[38;5;241m=\u001b[39mcopy,\n\u001b[0;32m  10499\u001b[0m         indicator\u001b[38;5;241m=\u001b[39mindicator,\n\u001b[0;32m  10500\u001b[0m         validate\u001b[38;5;241m=\u001b[39mvalidate,\n\u001b[0;32m  10501\u001b[0m     )\n",
      "File \u001b[1;32m~\\anaconda3\\Lib\\site-packages\\pandas\\core\\reshape\\merge.py:183\u001b[0m, in \u001b[0;36mmerge\u001b[1;34m(left, right, how, on, left_on, right_on, left_index, right_index, sort, suffixes, copy, indicator, validate)\u001b[0m\n\u001b[0;32m    168\u001b[0m \u001b[38;5;28;01melse\u001b[39;00m:\n\u001b[0;32m    169\u001b[0m     op \u001b[38;5;241m=\u001b[39m _MergeOperation(\n\u001b[0;32m    170\u001b[0m         left_df,\n\u001b[0;32m    171\u001b[0m         right_df,\n\u001b[1;32m   (...)\u001b[0m\n\u001b[0;32m    181\u001b[0m         validate\u001b[38;5;241m=\u001b[39mvalidate,\n\u001b[0;32m    182\u001b[0m     )\n\u001b[1;32m--> 183\u001b[0m     \u001b[38;5;28;01mreturn\u001b[39;00m op\u001b[38;5;241m.\u001b[39mget_result(copy\u001b[38;5;241m=\u001b[39mcopy)\n",
      "File \u001b[1;32m~\\anaconda3\\Lib\\site-packages\\pandas\\core\\reshape\\merge.py:883\u001b[0m, in \u001b[0;36m_MergeOperation.get_result\u001b[1;34m(self, copy)\u001b[0m\n\u001b[0;32m    880\u001b[0m \u001b[38;5;28;01mif\u001b[39;00m \u001b[38;5;28mself\u001b[39m\u001b[38;5;241m.\u001b[39mindicator:\n\u001b[0;32m    881\u001b[0m     \u001b[38;5;28mself\u001b[39m\u001b[38;5;241m.\u001b[39mleft, \u001b[38;5;28mself\u001b[39m\u001b[38;5;241m.\u001b[39mright \u001b[38;5;241m=\u001b[39m \u001b[38;5;28mself\u001b[39m\u001b[38;5;241m.\u001b[39m_indicator_pre_merge(\u001b[38;5;28mself\u001b[39m\u001b[38;5;241m.\u001b[39mleft, \u001b[38;5;28mself\u001b[39m\u001b[38;5;241m.\u001b[39mright)\n\u001b[1;32m--> 883\u001b[0m join_index, left_indexer, right_indexer \u001b[38;5;241m=\u001b[39m \u001b[38;5;28mself\u001b[39m\u001b[38;5;241m.\u001b[39m_get_join_info()\n\u001b[0;32m    885\u001b[0m result \u001b[38;5;241m=\u001b[39m \u001b[38;5;28mself\u001b[39m\u001b[38;5;241m.\u001b[39m_reindex_and_concat(\n\u001b[0;32m    886\u001b[0m     join_index, left_indexer, right_indexer, copy\u001b[38;5;241m=\u001b[39mcopy\n\u001b[0;32m    887\u001b[0m )\n\u001b[0;32m    888\u001b[0m result \u001b[38;5;241m=\u001b[39m result\u001b[38;5;241m.\u001b[39m__finalize__(\u001b[38;5;28mself\u001b[39m, method\u001b[38;5;241m=\u001b[39m\u001b[38;5;28mself\u001b[39m\u001b[38;5;241m.\u001b[39m_merge_type)\n",
      "File \u001b[1;32m~\\anaconda3\\Lib\\site-packages\\pandas\\core\\reshape\\merge.py:1133\u001b[0m, in \u001b[0;36m_MergeOperation._get_join_info\u001b[1;34m(self)\u001b[0m\n\u001b[0;32m   1129\u001b[0m     join_index, right_indexer, left_indexer \u001b[38;5;241m=\u001b[39m _left_join_on_index(\n\u001b[0;32m   1130\u001b[0m         right_ax, left_ax, \u001b[38;5;28mself\u001b[39m\u001b[38;5;241m.\u001b[39mright_join_keys, sort\u001b[38;5;241m=\u001b[39m\u001b[38;5;28mself\u001b[39m\u001b[38;5;241m.\u001b[39msort\n\u001b[0;32m   1131\u001b[0m     )\n\u001b[0;32m   1132\u001b[0m \u001b[38;5;28;01melse\u001b[39;00m:\n\u001b[1;32m-> 1133\u001b[0m     (left_indexer, right_indexer) \u001b[38;5;241m=\u001b[39m \u001b[38;5;28mself\u001b[39m\u001b[38;5;241m.\u001b[39m_get_join_indexers()\n\u001b[0;32m   1135\u001b[0m     \u001b[38;5;28;01mif\u001b[39;00m \u001b[38;5;28mself\u001b[39m\u001b[38;5;241m.\u001b[39mright_index:\n\u001b[0;32m   1136\u001b[0m         \u001b[38;5;28;01mif\u001b[39;00m \u001b[38;5;28mlen\u001b[39m(\u001b[38;5;28mself\u001b[39m\u001b[38;5;241m.\u001b[39mleft) \u001b[38;5;241m>\u001b[39m \u001b[38;5;241m0\u001b[39m:\n",
      "File \u001b[1;32m~\\anaconda3\\Lib\\site-packages\\pandas\\core\\reshape\\merge.py:1105\u001b[0m, in \u001b[0;36m_MergeOperation._get_join_indexers\u001b[1;34m(self)\u001b[0m\n\u001b[0;32m   1103\u001b[0m \u001b[38;5;28;01mdef\u001b[39;00m \u001b[38;5;21m_get_join_indexers\u001b[39m(\u001b[38;5;28mself\u001b[39m) \u001b[38;5;241m-\u001b[39m\u001b[38;5;241m>\u001b[39m \u001b[38;5;28mtuple\u001b[39m[npt\u001b[38;5;241m.\u001b[39mNDArray[np\u001b[38;5;241m.\u001b[39mintp], npt\u001b[38;5;241m.\u001b[39mNDArray[np\u001b[38;5;241m.\u001b[39mintp]]:\n\u001b[0;32m   1104\u001b[0m \u001b[38;5;250m    \u001b[39m\u001b[38;5;124;03m\"\"\"return the join indexers\"\"\"\u001b[39;00m\n\u001b[1;32m-> 1105\u001b[0m     \u001b[38;5;28;01mreturn\u001b[39;00m get_join_indexers(\n\u001b[0;32m   1106\u001b[0m         \u001b[38;5;28mself\u001b[39m\u001b[38;5;241m.\u001b[39mleft_join_keys, \u001b[38;5;28mself\u001b[39m\u001b[38;5;241m.\u001b[39mright_join_keys, sort\u001b[38;5;241m=\u001b[39m\u001b[38;5;28mself\u001b[39m\u001b[38;5;241m.\u001b[39msort, how\u001b[38;5;241m=\u001b[39m\u001b[38;5;28mself\u001b[39m\u001b[38;5;241m.\u001b[39mhow\n\u001b[0;32m   1107\u001b[0m     )\n",
      "File \u001b[1;32m~\\anaconda3\\Lib\\site-packages\\pandas\\core\\reshape\\merge.py:1728\u001b[0m, in \u001b[0;36mget_join_indexers\u001b[1;34m(left_keys, right_keys, sort, how)\u001b[0m\n\u001b[0;32m   1718\u001b[0m join_func \u001b[38;5;241m=\u001b[39m {\n\u001b[0;32m   1719\u001b[0m     \u001b[38;5;124m\"\u001b[39m\u001b[38;5;124minner\u001b[39m\u001b[38;5;124m\"\u001b[39m: libjoin\u001b[38;5;241m.\u001b[39minner_join,\n\u001b[0;32m   1720\u001b[0m     \u001b[38;5;124m\"\u001b[39m\u001b[38;5;124mleft\u001b[39m\u001b[38;5;124m\"\u001b[39m: libjoin\u001b[38;5;241m.\u001b[39mleft_outer_join,\n\u001b[1;32m   (...)\u001b[0m\n\u001b[0;32m   1724\u001b[0m     \u001b[38;5;124m\"\u001b[39m\u001b[38;5;124mouter\u001b[39m\u001b[38;5;124m\"\u001b[39m: libjoin\u001b[38;5;241m.\u001b[39mfull_outer_join,\n\u001b[0;32m   1725\u001b[0m }[how]\n\u001b[0;32m   1727\u001b[0m \u001b[38;5;66;03m# error: Cannot call function of unknown type\u001b[39;00m\n\u001b[1;32m-> 1728\u001b[0m \u001b[38;5;28;01mreturn\u001b[39;00m join_func(lkey, rkey, count, \u001b[38;5;241m*\u001b[39m\u001b[38;5;241m*\u001b[39mkwargs)\n",
      "File \u001b[1;32mjoin.pyx:48\u001b[0m, in \u001b[0;36mpandas._libs.join.inner_join\u001b[1;34m()\u001b[0m\n",
      "\u001b[1;31mMemoryError\u001b[0m: Unable to allocate 139. GiB for an array with shape (18713020829,) and data type int64"
     ]
    }
   ],
   "source": [
    "df1.merge(df2, how='inner')"
   ]
  },
  {
   "cell_type": "code",
   "execution_count": 164,
   "id": "9dd0aa56-5964-4b90-a96d-866ba2ed5f76",
   "metadata": {},
   "outputs": [
    {
     "name": "stderr",
     "output_type": "stream",
     "text": [
      "C:\\Users\\Computer\\AppData\\Local\\Temp\\ipykernel_16160\\3590492922.py:1: SettingWithCopyWarning: \n",
      "A value is trying to be set on a copy of a slice from a DataFrame.\n",
      "Try using .loc[row_indexer,col_indexer] = value instead\n",
      "\n",
      "See the caveats in the documentation: https://pandas.pydata.org/pandas-docs/stable/user_guide/indexing.html#returning-a-view-versus-a-copy\n",
      "  df1.broker_id = df1.broker_id.astype(str)\n",
      "C:\\Users\\Computer\\AppData\\Local\\Temp\\ipykernel_16160\\3590492922.py:2: SettingWithCopyWarning: \n",
      "A value is trying to be set on a copy of a slice from a DataFrame.\n",
      "Try using .loc[row_indexer,col_indexer] = value instead\n",
      "\n",
      "See the caveats in the documentation: https://pandas.pydata.org/pandas-docs/stable/user_guide/indexing.html#returning-a-view-versus-a-copy\n",
      "  df2.broker_id = df2.broker_id.astype(str)\n"
     ]
    }
   ],
   "source": [
    "df1.broker_id = df1.broker_id.astype(str)\n",
    "df2.broker_id = df2.broker_id.astype(str)\n",
    "# df1.merge(df2, on='broker_id',how='inner')"
   ]
  },
  {
   "cell_type": "code",
   "execution_count": null,
   "id": "b0f296ec-7f70-4d5a-aaeb-aa10bcb42600",
   "metadata": {},
   "outputs": [],
   "source": []
  },
  {
   "cell_type": "code",
   "execution_count": null,
   "id": "a955fb52-75ee-4c2c-941f-3a9f3efbd164",
   "metadata": {},
   "outputs": [],
   "source": []
  },
  {
   "cell_type": "code",
   "execution_count": null,
   "id": "2c9fdc80-f291-452f-9951-ef51118b8d17",
   "metadata": {},
   "outputs": [],
   "source": []
  },
  {
   "cell_type": "code",
   "execution_count": 6,
   "id": "8f95506c-9271-4eaf-ad75-dceb6282b69f",
   "metadata": {},
   "outputs": [],
   "source": [
    "class Broker:\n",
    "    def __init__(self):\n",
    "        pass\n",
    "    "
   ]
  },
  {
   "cell_type": "code",
   "execution_count": 7,
   "id": "7160a2bc-48b3-42f0-899a-e760aa58ab05",
   "metadata": {},
   "outputs": [],
   "source": [
    "class Bank:\n",
    "    def __init__(self):\n",
    "        pass"
   ]
  },
  {
   "cell_type": "code",
   "execution_count": null,
   "id": "6f9482cc-8d41-431a-aaba-e356c88385e3",
   "metadata": {},
   "outputs": [],
   "source": []
  }
 ],
 "metadata": {
  "kernelspec": {
   "display_name": "Python 3 (ipykernel)",
   "language": "python",
   "name": "python3"
  },
  "language_info": {
   "codemirror_mode": {
    "name": "ipython",
    "version": 3
   },
   "file_extension": ".py",
   "mimetype": "text/x-python",
   "name": "python",
   "nbconvert_exporter": "python",
   "pygments_lexer": "ipython3",
   "version": "3.11.7"
  }
 },
 "nbformat": 4,
 "nbformat_minor": 5
}
