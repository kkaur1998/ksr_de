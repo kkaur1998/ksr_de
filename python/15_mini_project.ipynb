{
 "cells": [
  {
   "cell_type": "code",
   "execution_count": 1,
   "id": "07105a18-ac40-4ed6-aee4-98579273f121",
   "metadata": {},
   "outputs": [],
   "source": [
    "import pandas as pd\n",
    "import numpy as np\n",
    "import os"
   ]
  },
  {
   "cell_type": "code",
   "execution_count": 2,
   "id": "72dc7e65-8981-4fe6-b3fd-53801281ce1b",
   "metadata": {},
   "outputs": [
    {
     "data": {
      "text/plain": [
       "['.ipynb_checkpoints',\n",
       " 'Bike_Data.xlsx',\n",
       " 'car data.csv',\n",
       " 'car.csv',\n",
       " 'config.ini',\n",
       " 'Custumer_Data.xlsx',\n",
       " 'EmployeeDataToClean.xlsx',\n",
       " 'Emp_Training_Data.xlsx',\n",
       " 'investment_banking.xlsx',\n",
       " 'Orders_Data.xlsx',\n",
       " 'Orders_Data_2.xlsx',\n",
       " 'superstore.xlsx',\n",
       " 't_file.txt']"
      ]
     },
     "execution_count": 2,
     "metadata": {},
     "output_type": "execute_result"
    }
   ],
   "source": [
    "os.listdir('data')"
   ]
  },
  {
   "cell_type": "code",
   "execution_count": 3,
   "id": "8324c038-5a3b-4a4d-94f3-e0b44a044ee9",
   "metadata": {},
   "outputs": [],
   "source": [
    "data = pd.read_excel('data/investment_banking.xlsx')"
   ]
  },
  {
   "cell_type": "code",
   "execution_count": 132,
   "id": "36dcfd76-d64b-4275-864d-89608b156be1",
   "metadata": {},
   "outputs": [],
   "source": [
    "df = data.copy()"
   ]
  },
  {
   "cell_type": "code",
   "execution_count": 133,
   "id": "cc9a5c6a-8627-449c-8b1d-026b88bdabbb",
   "metadata": {},
   "outputs": [
    {
     "data": {
      "text/plain": [
       "Index(['broker_id', 'city', 'broker_type', 'fund_category', 'email_opened',\n",
       "       'webex_meet', 'sales_call', 'firm_sales', 'global_sales'],\n",
       "      dtype='object')"
      ]
     },
     "execution_count": 133,
     "metadata": {},
     "output_type": "execute_result"
    }
   ],
   "source": [
    "df.columns"
   ]
  },
  {
   "cell_type": "code",
   "execution_count": 134,
   "id": "17f1f6a4-1d07-46f5-b8e5-6a948646ff48",
   "metadata": {},
   "outputs": [
    {
     "data": {
      "text/plain": [
       "(753089, 9)"
      ]
     },
     "execution_count": 134,
     "metadata": {},
     "output_type": "execute_result"
    }
   ],
   "source": [
    "df.shape"
   ]
  },
  {
   "cell_type": "code",
   "execution_count": 135,
   "id": "2f82acd9-1930-4f6b-9c59-98198525b2dd",
   "metadata": {},
   "outputs": [
    {
     "data": {
      "text/html": [
       "<div>\n",
       "<style scoped>\n",
       "    .dataframe tbody tr th:only-of-type {\n",
       "        vertical-align: middle;\n",
       "    }\n",
       "\n",
       "    .dataframe tbody tr th {\n",
       "        vertical-align: top;\n",
       "    }\n",
       "\n",
       "    .dataframe thead th {\n",
       "        text-align: right;\n",
       "    }\n",
       "</style>\n",
       "<table border=\"1\" class=\"dataframe\">\n",
       "  <thead>\n",
       "    <tr style=\"text-align: right;\">\n",
       "      <th></th>\n",
       "      <th>broker_id</th>\n",
       "      <th>city</th>\n",
       "      <th>broker_type</th>\n",
       "      <th>fund_category</th>\n",
       "      <th>email_opened</th>\n",
       "      <th>webex_meet</th>\n",
       "      <th>sales_call</th>\n",
       "      <th>firm_sales</th>\n",
       "      <th>global_sales</th>\n",
       "    </tr>\n",
       "  </thead>\n",
       "  <tbody>\n",
       "    <tr>\n",
       "      <th>0</th>\n",
       "      <td>BRXX-1</td>\n",
       "      <td>PLANTATION, FL</td>\n",
       "      <td>Inter-dealer broker</td>\n",
       "      <td>Emerging-Markets Local-Currency Bond</td>\n",
       "      <td>NaN</td>\n",
       "      <td>NaN</td>\n",
       "      <td>NaN</td>\n",
       "      <td>174.62</td>\n",
       "      <td>174.62</td>\n",
       "    </tr>\n",
       "    <tr>\n",
       "      <th>1</th>\n",
       "      <td>BRXX-1</td>\n",
       "      <td>BRANFORD, CT</td>\n",
       "      <td>Inter-dealer broker</td>\n",
       "      <td>Utilities</td>\n",
       "      <td>NaN</td>\n",
       "      <td>NaN</td>\n",
       "      <td>NaN</td>\n",
       "      <td>0.00</td>\n",
       "      <td>0.00</td>\n",
       "    </tr>\n",
       "  </tbody>\n",
       "</table>\n",
       "</div>"
      ],
      "text/plain": [
       "  broker_id            city          broker_type  \\\n",
       "0    BRXX-1  PLANTATION, FL  Inter-dealer broker   \n",
       "1    BRXX-1    BRANFORD, CT  Inter-dealer broker   \n",
       "\n",
       "                          fund_category email_opened webex_meet sales_call  \\\n",
       "0  Emerging-Markets Local-Currency Bond          NaN        NaN        NaN   \n",
       "1                             Utilities          NaN        NaN        NaN   \n",
       "\n",
       "   firm_sales  global_sales  \n",
       "0      174.62        174.62  \n",
       "1        0.00          0.00  "
      ]
     },
     "execution_count": 135,
     "metadata": {},
     "output_type": "execute_result"
    }
   ],
   "source": [
    "df.head(2)"
   ]
  },
  {
   "cell_type": "code",
   "execution_count": 136,
   "id": "ce4eb1db-2547-4219-b5b2-6ab1a6380806",
   "metadata": {},
   "outputs": [
    {
     "data": {
      "text/plain": [
       "1178"
      ]
     },
     "execution_count": 136,
     "metadata": {},
     "output_type": "execute_result"
    }
   ],
   "source": [
    "df.broker_id.nunique()"
   ]
  },
  {
   "cell_type": "code",
   "execution_count": 137,
   "id": "ac2afd14-a592-4e7f-b56f-388847a30dcb",
   "metadata": {},
   "outputs": [
    {
     "data": {
      "text/plain": [
       "broker_id             0\n",
       "city                  0\n",
       "broker_type           0\n",
       "fund_category         0\n",
       "email_opened     434545\n",
       "webex_meet       667429\n",
       "sales_call       573091\n",
       "firm_sales            0\n",
       "global_sales          0\n",
       "dtype: int64"
      ]
     },
     "execution_count": 137,
     "metadata": {},
     "output_type": "execute_result"
    }
   ],
   "source": [
    "df.isna().sum()"
   ]
  },
  {
   "cell_type": "code",
   "execution_count": 138,
   "id": "a2cff580-2b50-4263-9de4-8fed907fe5f8",
   "metadata": {},
   "outputs": [
    {
     "data": {
      "text/plain": [
       "array([nan, 'Y'], dtype=object)"
      ]
     },
     "execution_count": 138,
     "metadata": {},
     "output_type": "execute_result"
    }
   ],
   "source": [
    "df.webex_meet.unique()"
   ]
  },
  {
   "cell_type": "code",
   "execution_count": 139,
   "id": "0befbacf-61dc-4707-bb0d-98162725fd1d",
   "metadata": {},
   "outputs": [
    {
     "data": {
      "text/plain": [
       "array([nan, 'Y'], dtype=object)"
      ]
     },
     "execution_count": 139,
     "metadata": {},
     "output_type": "execute_result"
    }
   ],
   "source": [
    "df['email_opened'].unique()"
   ]
  },
  {
   "cell_type": "code",
   "execution_count": 140,
   "id": "04a7962c-8b4c-457b-adab-e49c48b5f757",
   "metadata": {},
   "outputs": [
    {
     "data": {
      "text/plain": [
       "array([nan, 'Y'], dtype=object)"
      ]
     },
     "execution_count": 140,
     "metadata": {},
     "output_type": "execute_result"
    }
   ],
   "source": [
    "df['sales_call'].unique()"
   ]
  },
  {
   "cell_type": "code",
   "execution_count": 141,
   "id": "2df04ef2-5be4-4a2b-b8f5-b8bc731a1a00",
   "metadata": {},
   "outputs": [],
   "source": [
    "df['email_opened'] = df['email_opened'].fillna('N')"
   ]
  },
  {
   "cell_type": "code",
   "execution_count": 142,
   "id": "665aad6f-d184-4048-9979-b18228b3a5ed",
   "metadata": {},
   "outputs": [],
   "source": [
    "df['sales_call'] = df['sales_call'].fillna('N')"
   ]
  },
  {
   "cell_type": "code",
   "execution_count": 143,
   "id": "432b76a3-4e20-4623-a3d1-6e8400f1f675",
   "metadata": {},
   "outputs": [],
   "source": [
    "df['webex_meet'] = df['webex_meet'].fillna('N')"
   ]
  },
  {
   "cell_type": "code",
   "execution_count": 144,
   "id": "aec1b652-7e2c-4a5c-962f-5f58e099c439",
   "metadata": {},
   "outputs": [
    {
     "data": {
      "text/plain": [
       "array(['Inter-dealer broker', 'full-service broker'], dtype=object)"
      ]
     },
     "execution_count": 144,
     "metadata": {},
     "output_type": "execute_result"
    }
   ],
   "source": [
    "df.broker_type.unique()"
   ]
  },
  {
   "cell_type": "code",
   "execution_count": 145,
   "id": "b261e15e-a18b-4be0-9a66-9b9b6625fe78",
   "metadata": {
    "scrolled": true
   },
   "outputs": [
    {
     "data": {
      "text/plain": [
       "broker_type\n",
       "Inter-dealer broker    696949\n",
       "full-service broker     56140\n",
       "Name: count, dtype: int64"
      ]
     },
     "execution_count": 145,
     "metadata": {},
     "output_type": "execute_result"
    }
   ],
   "source": [
    "df.broker_type.value_counts()"
   ]
  },
  {
   "cell_type": "code",
   "execution_count": 146,
   "id": "b0b8191b-85d9-416a-85de-0e7c36fd6f21",
   "metadata": {},
   "outputs": [
    {
     "data": {
      "text/plain": [
       "broker_type\n",
       "Inter-dealer broker    1173\n",
       "full-service broker       5\n",
       "Name: broker_id, dtype: int64"
      ]
     },
     "execution_count": 146,
     "metadata": {},
     "output_type": "execute_result"
    }
   ],
   "source": [
    "#select count(distinct broker_id),broker_type from df group by broker_type\n",
    "df.groupby(df['broker_type'])['broker_id'].nunique()"
   ]
  },
  {
   "cell_type": "code",
   "execution_count": 147,
   "id": "e1fcad15-ba2a-4ff6-878e-b2a60d35c1ee",
   "metadata": {},
   "outputs": [
    {
     "data": {
      "text/plain": [
       "broker_id        0\n",
       "city             0\n",
       "broker_type      0\n",
       "fund_category    0\n",
       "email_opened     0\n",
       "webex_meet       0\n",
       "sales_call       0\n",
       "firm_sales       0\n",
       "global_sales     0\n",
       "dtype: int64"
      ]
     },
     "execution_count": 147,
     "metadata": {},
     "output_type": "execute_result"
    }
   ],
   "source": [
    "df.isna().sum()"
   ]
  },
  {
   "cell_type": "code",
   "execution_count": 148,
   "id": "dc51fa02-ea69-40d0-8d81-3b6e3aa25d3a",
   "metadata": {
    "scrolled": true
   },
   "outputs": [
    {
     "data": {
      "text/html": [
       "<div>\n",
       "<style scoped>\n",
       "    .dataframe tbody tr th:only-of-type {\n",
       "        vertical-align: middle;\n",
       "    }\n",
       "\n",
       "    .dataframe tbody tr th {\n",
       "        vertical-align: top;\n",
       "    }\n",
       "\n",
       "    .dataframe thead th {\n",
       "        text-align: right;\n",
       "    }\n",
       "</style>\n",
       "<table border=\"1\" class=\"dataframe\">\n",
       "  <thead>\n",
       "    <tr style=\"text-align: right;\">\n",
       "      <th></th>\n",
       "      <th>broker_id</th>\n",
       "      <th>city</th>\n",
       "      <th>broker_type</th>\n",
       "      <th>fund_category</th>\n",
       "      <th>email_opened</th>\n",
       "      <th>webex_meet</th>\n",
       "      <th>sales_call</th>\n",
       "      <th>firm_sales</th>\n",
       "      <th>global_sales</th>\n",
       "    </tr>\n",
       "  </thead>\n",
       "  <tbody>\n",
       "    <tr>\n",
       "      <th>0</th>\n",
       "      <td>BRXX-1</td>\n",
       "      <td>PLANTATION, FL</td>\n",
       "      <td>Inter-dealer broker</td>\n",
       "      <td>Emerging-Markets Local-Currency Bond</td>\n",
       "      <td>N</td>\n",
       "      <td>N</td>\n",
       "      <td>N</td>\n",
       "      <td>174.62</td>\n",
       "      <td>174.62</td>\n",
       "    </tr>\n",
       "    <tr>\n",
       "      <th>1</th>\n",
       "      <td>BRXX-1</td>\n",
       "      <td>BRANFORD, CT</td>\n",
       "      <td>Inter-dealer broker</td>\n",
       "      <td>Utilities</td>\n",
       "      <td>N</td>\n",
       "      <td>N</td>\n",
       "      <td>N</td>\n",
       "      <td>0.00</td>\n",
       "      <td>0.00</td>\n",
       "    </tr>\n",
       "  </tbody>\n",
       "</table>\n",
       "</div>"
      ],
      "text/plain": [
       "  broker_id            city          broker_type  \\\n",
       "0    BRXX-1  PLANTATION, FL  Inter-dealer broker   \n",
       "1    BRXX-1    BRANFORD, CT  Inter-dealer broker   \n",
       "\n",
       "                          fund_category email_opened webex_meet sales_call  \\\n",
       "0  Emerging-Markets Local-Currency Bond            N          N          N   \n",
       "1                             Utilities            N          N          N   \n",
       "\n",
       "   firm_sales  global_sales  \n",
       "0      174.62        174.62  \n",
       "1        0.00          0.00  "
      ]
     },
     "execution_count": 148,
     "metadata": {},
     "output_type": "execute_result"
    }
   ],
   "source": [
    "df.head(2)"
   ]
  },
  {
   "cell_type": "code",
   "execution_count": 149,
   "id": "55102b0f-8729-44f0-b404-e9064bcf0f17",
   "metadata": {},
   "outputs": [],
   "source": [
    "stat = df.city.str[-2:]\n",
    "citi = df.city.str[:-4]"
   ]
  },
  {
   "cell_type": "code",
   "execution_count": 150,
   "id": "f46ccfd2-e0a8-477a-978b-8f2f0cf360c5",
   "metadata": {},
   "outputs": [],
   "source": [
    "df['state'] = df['city'].str.split(',',expand = True)[1]"
   ]
  },
  {
   "cell_type": "code",
   "execution_count": 151,
   "id": "48a6a4ee-7c89-4800-810c-57daf9e10a4d",
   "metadata": {},
   "outputs": [],
   "source": [
    "df['city'] = df['city'].str.split(',',expand = True)[0]"
   ]
  },
  {
   "cell_type": "code",
   "execution_count": 214,
   "id": "d60d2497-7536-4590-95ce-9b78c011d3b0",
   "metadata": {},
   "outputs": [
    {
     "data": {
      "text/html": [
       "<div>\n",
       "<style scoped>\n",
       "    .dataframe tbody tr th:only-of-type {\n",
       "        vertical-align: middle;\n",
       "    }\n",
       "\n",
       "    .dataframe tbody tr th {\n",
       "        vertical-align: top;\n",
       "    }\n",
       "\n",
       "    .dataframe thead th {\n",
       "        text-align: right;\n",
       "    }\n",
       "</style>\n",
       "<table border=\"1\" class=\"dataframe\">\n",
       "  <thead>\n",
       "    <tr style=\"text-align: right;\">\n",
       "      <th></th>\n",
       "      <th>broker_id</th>\n",
       "      <th>city</th>\n",
       "      <th>broker_type</th>\n",
       "      <th>fund_category</th>\n",
       "      <th>email_opened</th>\n",
       "      <th>webex_meet</th>\n",
       "      <th>sales_call</th>\n",
       "      <th>firm_sales</th>\n",
       "      <th>global_sales</th>\n",
       "      <th>state</th>\n",
       "    </tr>\n",
       "  </thead>\n",
       "  <tbody>\n",
       "  </tbody>\n",
       "</table>\n",
       "</div>"
      ],
      "text/plain": [
       "Empty DataFrame\n",
       "Columns: [broker_id, city, broker_type, fund_category, email_opened, webex_meet, sales_call, firm_sales, global_sales, state]\n",
       "Index: []"
      ]
     },
     "execution_count": 214,
     "metadata": {},
     "output_type": "execute_result"
    }
   ],
   "source": [
    "df[df['state'].str.len()>2]"
   ]
  },
  {
   "cell_type": "code",
   "execution_count": 215,
   "id": "957bf03b-c00e-4659-b5a7-e3677b1551b9",
   "metadata": {
    "scrolled": true
   },
   "outputs": [
    {
     "data": {
      "text/plain": [
       "0"
      ]
     },
     "execution_count": 215,
     "metadata": {},
     "output_type": "execute_result"
    }
   ],
   "source": [
    "df['state'].str.isnumeric().sum()"
   ]
  },
  {
   "cell_type": "code",
   "execution_count": 216,
   "id": "3962b110-4174-4549-ae9a-1abfcf90f3ef",
   "metadata": {},
   "outputs": [
    {
     "data": {
      "text/plain": [
       "37"
      ]
     },
     "execution_count": 216,
     "metadata": {},
     "output_type": "execute_result"
    }
   ],
   "source": [
    "df['city'].str.isnumeric().sum()"
   ]
  },
  {
   "cell_type": "code",
   "execution_count": 221,
   "id": "523df903-fbc7-45dc-b21e-b68e3d31ed04",
   "metadata": {},
   "outputs": [
    {
     "data": {
      "text/plain": [
       "array(['64150', '15801', '95678'], dtype=object)"
      ]
     },
     "execution_count": 221,
     "metadata": {},
     "output_type": "execute_result"
    }
   ],
   "source": [
    "df[df['city'].str.isnumeric()]['city'].unique()"
   ]
  },
  {
   "cell_type": "code",
   "execution_count": 222,
   "id": "42517605-7f35-440e-8ba3-acaa791f803e",
   "metadata": {},
   "outputs": [],
   "source": [
    "df['city'] = df['city'].replace({'64150': 'Riverside','15801': 'Pennsylvania', '95678': 'Roseville' })"
   ]
  },
  {
   "cell_type": "code",
   "execution_count": 224,
   "id": "a3f25974-755e-4935-b407-702a40fb299b",
   "metadata": {},
   "outputs": [
    {
     "data": {
      "text/plain": [
       "0"
      ]
     },
     "execution_count": 224,
     "metadata": {},
     "output_type": "execute_result"
    }
   ],
   "source": [
    "df['city'].str.isnumeric().sum()"
   ]
  },
  {
   "cell_type": "code",
   "execution_count": 210,
   "id": "b1dac0bb-e35a-472a-ab56-2778981f4f46",
   "metadata": {},
   "outputs": [],
   "source": [
    "cit = pd.DataFrame()"
   ]
  },
  {
   "cell_type": "code",
   "execution_count": 217,
   "id": "61bd37f8-e83b-40a3-8bf0-f3ffe4e10572",
   "metadata": {},
   "outputs": [],
   "source": [
    "# cit[['city','state']] = df['city'].str.split(',',expand = True, n=1)"
   ]
  },
  {
   "cell_type": "code",
   "execution_count": 212,
   "id": "dc595d07-471e-4928-bea8-481bd04702e1",
   "metadata": {},
   "outputs": [
    {
     "data": {
      "text/html": [
       "<div>\n",
       "<style scoped>\n",
       "    .dataframe tbody tr th:only-of-type {\n",
       "        vertical-align: middle;\n",
       "    }\n",
       "\n",
       "    .dataframe tbody tr th {\n",
       "        vertical-align: top;\n",
       "    }\n",
       "\n",
       "    .dataframe thead th {\n",
       "        text-align: right;\n",
       "    }\n",
       "</style>\n",
       "<table border=\"1\" class=\"dataframe\">\n",
       "  <thead>\n",
       "    <tr style=\"text-align: right;\">\n",
       "      <th></th>\n",
       "    </tr>\n",
       "  </thead>\n",
       "  <tbody>\n",
       "  </tbody>\n",
       "</table>\n",
       "</div>"
      ],
      "text/plain": [
       "Empty DataFrame\n",
       "Columns: []\n",
       "Index: []"
      ]
     },
     "execution_count": 212,
     "metadata": {},
     "output_type": "execute_result"
    }
   ],
   "source": [
    "cit.head(2)"
   ]
  },
  {
   "cell_type": "code",
   "execution_count": 152,
   "id": "7d5d4773-ac12-4a0f-b0ad-8586ee9eabb3",
   "metadata": {},
   "outputs": [
    {
     "data": {
      "text/html": [
       "<div>\n",
       "<style scoped>\n",
       "    .dataframe tbody tr th:only-of-type {\n",
       "        vertical-align: middle;\n",
       "    }\n",
       "\n",
       "    .dataframe tbody tr th {\n",
       "        vertical-align: top;\n",
       "    }\n",
       "\n",
       "    .dataframe thead th {\n",
       "        text-align: right;\n",
       "    }\n",
       "</style>\n",
       "<table border=\"1\" class=\"dataframe\">\n",
       "  <thead>\n",
       "    <tr style=\"text-align: right;\">\n",
       "      <th></th>\n",
       "      <th>broker_id</th>\n",
       "      <th>city</th>\n",
       "      <th>broker_type</th>\n",
       "      <th>fund_category</th>\n",
       "      <th>email_opened</th>\n",
       "      <th>webex_meet</th>\n",
       "      <th>sales_call</th>\n",
       "      <th>firm_sales</th>\n",
       "      <th>global_sales</th>\n",
       "      <th>state</th>\n",
       "    </tr>\n",
       "  </thead>\n",
       "  <tbody>\n",
       "    <tr>\n",
       "      <th>0</th>\n",
       "      <td>BRXX-1</td>\n",
       "      <td>PLANTATION</td>\n",
       "      <td>Inter-dealer broker</td>\n",
       "      <td>Emerging-Markets Local-Currency Bond</td>\n",
       "      <td>N</td>\n",
       "      <td>N</td>\n",
       "      <td>N</td>\n",
       "      <td>174.62</td>\n",
       "      <td>174.62</td>\n",
       "      <td>FL</td>\n",
       "    </tr>\n",
       "    <tr>\n",
       "      <th>1</th>\n",
       "      <td>BRXX-1</td>\n",
       "      <td>BRANFORD</td>\n",
       "      <td>Inter-dealer broker</td>\n",
       "      <td>Utilities</td>\n",
       "      <td>N</td>\n",
       "      <td>N</td>\n",
       "      <td>N</td>\n",
       "      <td>0.00</td>\n",
       "      <td>0.00</td>\n",
       "      <td>CT</td>\n",
       "    </tr>\n",
       "    <tr>\n",
       "      <th>2</th>\n",
       "      <td>BRXX-1</td>\n",
       "      <td>JONESBORO</td>\n",
       "      <td>Inter-dealer broker</td>\n",
       "      <td>Intermediate Government</td>\n",
       "      <td>N</td>\n",
       "      <td>N</td>\n",
       "      <td>N</td>\n",
       "      <td>0.00</td>\n",
       "      <td>0.00</td>\n",
       "      <td>GA</td>\n",
       "    </tr>\n",
       "    <tr>\n",
       "      <th>3</th>\n",
       "      <td>BRXX-2</td>\n",
       "      <td>VIENNA</td>\n",
       "      <td>Inter-dealer broker</td>\n",
       "      <td>Intermediate Government</td>\n",
       "      <td>Y</td>\n",
       "      <td>N</td>\n",
       "      <td>N</td>\n",
       "      <td>0.00</td>\n",
       "      <td>30709.00</td>\n",
       "      <td>VA</td>\n",
       "    </tr>\n",
       "    <tr>\n",
       "      <th>4</th>\n",
       "      <td>BRXX-3</td>\n",
       "      <td>CHAGRIN FALLS</td>\n",
       "      <td>full-service broker</td>\n",
       "      <td>Target-Date 2050</td>\n",
       "      <td>Y</td>\n",
       "      <td>N</td>\n",
       "      <td>Y</td>\n",
       "      <td>0.00</td>\n",
       "      <td>0.00</td>\n",
       "      <td>OH</td>\n",
       "    </tr>\n",
       "  </tbody>\n",
       "</table>\n",
       "</div>"
      ],
      "text/plain": [
       "  broker_id           city          broker_type  \\\n",
       "0    BRXX-1     PLANTATION  Inter-dealer broker   \n",
       "1    BRXX-1       BRANFORD  Inter-dealer broker   \n",
       "2    BRXX-1      JONESBORO  Inter-dealer broker   \n",
       "3    BRXX-2         VIENNA  Inter-dealer broker   \n",
       "4    BRXX-3  CHAGRIN FALLS  full-service broker   \n",
       "\n",
       "                          fund_category email_opened webex_meet sales_call  \\\n",
       "0  Emerging-Markets Local-Currency Bond            N          N          N   \n",
       "1                             Utilities            N          N          N   \n",
       "2               Intermediate Government            N          N          N   \n",
       "3               Intermediate Government            Y          N          N   \n",
       "4                      Target-Date 2050            Y          N          Y   \n",
       "\n",
       "   firm_sales  global_sales state  \n",
       "0      174.62        174.62    FL  \n",
       "1        0.00          0.00    CT  \n",
       "2        0.00          0.00    GA  \n",
       "3        0.00      30709.00    VA  \n",
       "4        0.00          0.00    OH  "
      ]
     },
     "execution_count": 152,
     "metadata": {},
     "output_type": "execute_result"
    }
   ],
   "source": [
    "df.head()"
   ]
  },
  {
   "cell_type": "code",
   "execution_count": 230,
   "id": "51809010-5578-4ea9-b157-4f0d5043aa64",
   "metadata": {
    "scrolled": true
   },
   "outputs": [
    {
     "data": {
      "text/html": [
       "<div>\n",
       "<style scoped>\n",
       "    .dataframe tbody tr th:only-of-type {\n",
       "        vertical-align: middle;\n",
       "    }\n",
       "\n",
       "    .dataframe tbody tr th {\n",
       "        vertical-align: top;\n",
       "    }\n",
       "\n",
       "    .dataframe thead th {\n",
       "        text-align: right;\n",
       "    }\n",
       "</style>\n",
       "<table border=\"1\" class=\"dataframe\">\n",
       "  <thead>\n",
       "    <tr style=\"text-align: right;\">\n",
       "      <th></th>\n",
       "      <th>broker_id</th>\n",
       "      <th>firm_sales</th>\n",
       "      <th>global_sales</th>\n",
       "    </tr>\n",
       "  </thead>\n",
       "  <tbody>\n",
       "    <tr>\n",
       "      <th>0</th>\n",
       "      <td>BRXX-1</td>\n",
       "      <td>11157673.73</td>\n",
       "      <td>1.066317e+08</td>\n",
       "    </tr>\n",
       "    <tr>\n",
       "      <th>1</th>\n",
       "      <td>BRXX-10</td>\n",
       "      <td>0.00</td>\n",
       "      <td>7.483650e+05</td>\n",
       "    </tr>\n",
       "    <tr>\n",
       "      <th>2</th>\n",
       "      <td>BRXX-100</td>\n",
       "      <td>267918.14</td>\n",
       "      <td>8.150361e+06</td>\n",
       "    </tr>\n",
       "    <tr>\n",
       "      <th>3</th>\n",
       "      <td>BRXX-1000</td>\n",
       "      <td>0.00</td>\n",
       "      <td>0.000000e+00</td>\n",
       "    </tr>\n",
       "    <tr>\n",
       "      <th>4</th>\n",
       "      <td>BRXX-1001</td>\n",
       "      <td>0.00</td>\n",
       "      <td>1.089745e+06</td>\n",
       "    </tr>\n",
       "  </tbody>\n",
       "</table>\n",
       "</div>"
      ],
      "text/plain": [
       "   broker_id   firm_sales  global_sales\n",
       "0     BRXX-1  11157673.73  1.066317e+08\n",
       "1    BRXX-10         0.00  7.483650e+05\n",
       "2   BRXX-100    267918.14  8.150361e+06\n",
       "3  BRXX-1000         0.00  0.000000e+00\n",
       "4  BRXX-1001         0.00  1.089745e+06"
      ]
     },
     "execution_count": 230,
     "metadata": {},
     "output_type": "execute_result"
    }
   ],
   "source": [
    "df1 = df[['broker_id','firm_sales','global_sales']]\n",
    "broker_firm_sales = df1.groupby('broker_id', as_index=False).sum()\n",
    "broker_firm_sales.head()"
   ]
  },
  {
   "cell_type": "code",
   "execution_count": 229,
   "id": "b1cfb166-e057-4a22-b824-4c6d7cc84268",
   "metadata": {},
   "outputs": [
    {
     "data": {
      "text/plain": [
       "(1178, 2)"
      ]
     },
     "execution_count": 229,
     "metadata": {},
     "output_type": "execute_result"
    }
   ],
   "source": [
    "broker_firm_sales.shape"
   ]
  },
  {
   "cell_type": "code",
   "execution_count": 179,
   "id": "64837089-8789-414e-ae4c-8861e9915e56",
   "metadata": {},
   "outputs": [],
   "source": [
    "del df1\n",
    "del df2"
   ]
  },
  {
   "cell_type": "code",
   "execution_count": 168,
   "id": "a48befcb-8d6b-49b5-88c4-476e8fb1528e",
   "metadata": {},
   "outputs": [],
   "source": [
    "del data\n",
    "del stat\n",
    "del citi"
   ]
  },
  {
   "cell_type": "code",
   "execution_count": 169,
   "id": "769d458b-4485-43de-9295-2c33e7910f36",
   "metadata": {},
   "outputs": [
    {
     "name": "stdout",
     "output_type": "stream",
     "text": [
      "Garbage collector: collected 2962 objects.\n"
     ]
    }
   ],
   "source": [
    "import gc\n",
    "collected = gc.collect()\n",
    "print(\"Garbage collector: collected\",\n",
    "          \"%d objects.\" % collected)"
   ]
  },
  {
   "cell_type": "code",
   "execution_count": 177,
   "id": "146765a1-9d7e-4a6f-b6f7-0174d821cdef",
   "metadata": {},
   "outputs": [
    {
     "data": {
      "text/plain": [
       "(753089, 2)"
      ]
     },
     "execution_count": 177,
     "metadata": {},
     "output_type": "execute_result"
    }
   ],
   "source": [
    "df1.shape"
   ]
  },
  {
   "cell_type": "code",
   "execution_count": 176,
   "id": "2abfc249-8a3e-4293-a2ac-dd8edf6f011f",
   "metadata": {},
   "outputs": [
    {
     "data": {
      "text/plain": [
       "(753089, 2)"
      ]
     },
     "execution_count": 176,
     "metadata": {},
     "output_type": "execute_result"
    }
   ],
   "source": [
    "df2.shape"
   ]
  },
  {
   "cell_type": "code",
   "execution_count": null,
   "id": "1ef18ebe-2d3f-4bcb-b781-c0c475248024",
   "metadata": {},
   "outputs": [],
   "source": [
    "\n"
   ]
  },
  {
   "cell_type": "code",
   "execution_count": 239,
   "id": "6f99fccc-ed66-49ef-951f-be875a7d1b45",
   "metadata": {},
   "outputs": [
    {
     "data": {
      "text/html": [
       "<div>\n",
       "<style scoped>\n",
       "    .dataframe tbody tr th:only-of-type {\n",
       "        vertical-align: middle;\n",
       "    }\n",
       "\n",
       "    .dataframe tbody tr th {\n",
       "        vertical-align: top;\n",
       "    }\n",
       "\n",
       "    .dataframe thead th {\n",
       "        text-align: right;\n",
       "    }\n",
       "</style>\n",
       "<table border=\"1\" class=\"dataframe\">\n",
       "  <thead>\n",
       "    <tr style=\"text-align: right;\">\n",
       "      <th></th>\n",
       "      <th>broker_id</th>\n",
       "      <th>firm_sales</th>\n",
       "      <th>global_sales</th>\n",
       "      <th>loyalty_percent</th>\n",
       "      <th>loyalty_category</th>\n",
       "    </tr>\n",
       "  </thead>\n",
       "  <tbody>\n",
       "    <tr>\n",
       "      <th>0</th>\n",
       "      <td>BRXX-1</td>\n",
       "      <td>11157673</td>\n",
       "      <td>106631687</td>\n",
       "      <td>10.463750</td>\n",
       "      <td>Less Inclinded Brokers</td>\n",
       "    </tr>\n",
       "    <tr>\n",
       "      <th>1</th>\n",
       "      <td>BRXX-10</td>\n",
       "      <td>0</td>\n",
       "      <td>748365</td>\n",
       "      <td>0.000000</td>\n",
       "      <td>Non Comitted Brokers</td>\n",
       "    </tr>\n",
       "    <tr>\n",
       "      <th>2</th>\n",
       "      <td>BRXX-100</td>\n",
       "      <td>267918</td>\n",
       "      <td>8150360</td>\n",
       "      <td>3.287192</td>\n",
       "      <td>Less Inclinded Brokers</td>\n",
       "    </tr>\n",
       "    <tr>\n",
       "      <th>3</th>\n",
       "      <td>BRXX-1000</td>\n",
       "      <td>0</td>\n",
       "      <td>0</td>\n",
       "      <td>NaN</td>\n",
       "      <td>Stagnant Brokers</td>\n",
       "    </tr>\n",
       "    <tr>\n",
       "      <th>4</th>\n",
       "      <td>BRXX-1001</td>\n",
       "      <td>0</td>\n",
       "      <td>1089745</td>\n",
       "      <td>0.000000</td>\n",
       "      <td>Non Comitted Brokers</td>\n",
       "    </tr>\n",
       "  </tbody>\n",
       "</table>\n",
       "</div>"
      ],
      "text/plain": [
       "   broker_id  firm_sales  global_sales  loyalty_percent  \\\n",
       "0     BRXX-1    11157673     106631687        10.463750   \n",
       "1    BRXX-10           0        748365         0.000000   \n",
       "2   BRXX-100      267918       8150360         3.287192   \n",
       "3  BRXX-1000           0             0              NaN   \n",
       "4  BRXX-1001           0       1089745         0.000000   \n",
       "\n",
       "         loyalty_category  \n",
       "0  Less Inclinded Brokers  \n",
       "1    Non Comitted Brokers  \n",
       "2  Less Inclinded Brokers  \n",
       "3        Stagnant Brokers  \n",
       "4    Non Comitted Brokers  "
      ]
     },
     "execution_count": 239,
     "metadata": {},
     "output_type": "execute_result"
    }
   ],
   "source": [
    "report['firm_sales'] = report['firm_sales'].astype('int64')\n",
    "report['global_sales'] = report['global_sales'].astype('int64')\n",
    "report['loyalty_percent'] = (report['firm_sales']/report['global_sales'])*100\n",
    "report.head()"
   ]
  },
  {
   "cell_type": "code",
   "execution_count": 240,
   "id": "a4bfdb2a-70eb-446f-8ab7-c76737acc08b",
   "metadata": {},
   "outputs": [
    {
     "data": {
      "text/html": [
       "<div>\n",
       "<style scoped>\n",
       "    .dataframe tbody tr th:only-of-type {\n",
       "        vertical-align: middle;\n",
       "    }\n",
       "\n",
       "    .dataframe tbody tr th {\n",
       "        vertical-align: top;\n",
       "    }\n",
       "\n",
       "    .dataframe thead th {\n",
       "        text-align: right;\n",
       "    }\n",
       "</style>\n",
       "<table border=\"1\" class=\"dataframe\">\n",
       "  <thead>\n",
       "    <tr style=\"text-align: right;\">\n",
       "      <th></th>\n",
       "      <th>broker_id</th>\n",
       "      <th>firm_sales</th>\n",
       "      <th>global_sales</th>\n",
       "      <th>loyalty_percent</th>\n",
       "      <th>loyalty_category</th>\n",
       "    </tr>\n",
       "  </thead>\n",
       "  <tbody>\n",
       "    <tr>\n",
       "      <th>8</th>\n",
       "      <td>BRXX-1005</td>\n",
       "      <td>77</td>\n",
       "      <td>77</td>\n",
       "      <td>100.0</td>\n",
       "      <td>Loyal Brokers</td>\n",
       "    </tr>\n",
       "    <tr>\n",
       "      <th>23</th>\n",
       "      <td>BRXX-1019</td>\n",
       "      <td>5571</td>\n",
       "      <td>5571</td>\n",
       "      <td>100.0</td>\n",
       "      <td>Loyal Brokers</td>\n",
       "    </tr>\n",
       "    <tr>\n",
       "      <th>42</th>\n",
       "      <td>BRXX-1036</td>\n",
       "      <td>245</td>\n",
       "      <td>245</td>\n",
       "      <td>100.0</td>\n",
       "      <td>Loyal Brokers</td>\n",
       "    </tr>\n",
       "    <tr>\n",
       "      <th>621</th>\n",
       "      <td>BRXX-498</td>\n",
       "      <td>13042</td>\n",
       "      <td>13042</td>\n",
       "      <td>100.0</td>\n",
       "      <td>Loyal Brokers</td>\n",
       "    </tr>\n",
       "  </tbody>\n",
       "</table>\n",
       "</div>"
      ],
      "text/plain": [
       "     broker_id  firm_sales  global_sales  loyalty_percent loyalty_category\n",
       "8    BRXX-1005          77            77            100.0    Loyal Brokers\n",
       "23   BRXX-1019        5571          5571            100.0    Loyal Brokers\n",
       "42   BRXX-1036         245           245            100.0    Loyal Brokers\n",
       "621   BRXX-498       13042         13042            100.0    Loyal Brokers"
      ]
     },
     "execution_count": 240,
     "metadata": {},
     "output_type": "execute_result"
    }
   ],
   "source": [
    "report[report['loyalty_percent']==100]"
   ]
  },
  {
   "cell_type": "code",
   "execution_count": 241,
   "id": "d4702ea3-5681-4d67-9bf9-8054c5052310",
   "metadata": {
    "scrolled": true
   },
   "outputs": [],
   "source": [
    "def loyalty_check(l_percent):\n",
    "    if l_percent == 100:\n",
    "        return \"Loyal Brokers\"\n",
    "    elif l_percent >= 85:\n",
    "        return \"Steadyfast Brokers\"\n",
    "    elif l_percent == 0:\n",
    "        return \"Non Comitted Brokers\"\n",
    "    elif l_percent <= 50:\n",
    "        return \"Less Inclinded Brokers\"\n",
    "    elif l_percent <85:\n",
    "        return \"Reasonably Devoted Brokers(Moderate)\"\n",
    "    else:\n",
    "        return \"Stagnant Brokers\""
   ]
  },
  {
   "cell_type": "code",
   "execution_count": 242,
   "id": "a85d2da1-b8d4-459a-b2f8-28008f96a324",
   "metadata": {},
   "outputs": [],
   "source": [
    "report['loyalty_category'] = report['loyalty_percent'].apply(loyalty_check)"
   ]
  },
  {
   "cell_type": "code",
   "execution_count": 245,
   "id": "e0addf67-3420-4455-bc10-b891bd1fbd18",
   "metadata": {},
   "outputs": [
    {
     "data": {
      "text/html": [
       "<div>\n",
       "<style scoped>\n",
       "    .dataframe tbody tr th:only-of-type {\n",
       "        vertical-align: middle;\n",
       "    }\n",
       "\n",
       "    .dataframe tbody tr th {\n",
       "        vertical-align: top;\n",
       "    }\n",
       "\n",
       "    .dataframe thead th {\n",
       "        text-align: right;\n",
       "    }\n",
       "</style>\n",
       "<table border=\"1\" class=\"dataframe\">\n",
       "  <thead>\n",
       "    <tr style=\"text-align: right;\">\n",
       "      <th></th>\n",
       "      <th>loyalty_category</th>\n",
       "      <th>broker_id</th>\n",
       "    </tr>\n",
       "  </thead>\n",
       "  <tbody>\n",
       "    <tr>\n",
       "      <th>0</th>\n",
       "      <td>Less Inclinded Brokers</td>\n",
       "      <td>310</td>\n",
       "    </tr>\n",
       "    <tr>\n",
       "      <th>1</th>\n",
       "      <td>Loyal Brokers</td>\n",
       "      <td>4</td>\n",
       "    </tr>\n",
       "    <tr>\n",
       "      <th>2</th>\n",
       "      <td>Non Comitted Brokers</td>\n",
       "      <td>686</td>\n",
       "    </tr>\n",
       "    <tr>\n",
       "      <th>3</th>\n",
       "      <td>Reasonably Devoted Brokers(Moderate)</td>\n",
       "      <td>7</td>\n",
       "    </tr>\n",
       "    <tr>\n",
       "      <th>4</th>\n",
       "      <td>Stagnant Brokers</td>\n",
       "      <td>166</td>\n",
       "    </tr>\n",
       "    <tr>\n",
       "      <th>5</th>\n",
       "      <td>Steadyfast Brokers</td>\n",
       "      <td>5</td>\n",
       "    </tr>\n",
       "  </tbody>\n",
       "</table>\n",
       "</div>"
      ],
      "text/plain": [
       "                       loyalty_category  broker_id\n",
       "0                Less Inclinded Brokers        310\n",
       "1                         Loyal Brokers          4\n",
       "2                  Non Comitted Brokers        686\n",
       "3  Reasonably Devoted Brokers(Moderate)          7\n",
       "4                      Stagnant Brokers        166\n",
       "5                    Steadyfast Brokers          5"
      ]
     },
     "execution_count": 245,
     "metadata": {},
     "output_type": "execute_result"
    }
   ],
   "source": [
    "report[['loyalty_category','broker_id']].groupby('loyalty_category',as_index=False).count()"
   ]
  },
  {
   "cell_type": "code",
   "execution_count": 256,
   "id": "31e5a9d9-203e-466a-8bca-99677c8e3206",
   "metadata": {},
   "outputs": [
    {
     "data": {
      "text/html": [
       "<div>\n",
       "<style scoped>\n",
       "    .dataframe tbody tr th:only-of-type {\n",
       "        vertical-align: middle;\n",
       "    }\n",
       "\n",
       "    .dataframe tbody tr th {\n",
       "        vertical-align: top;\n",
       "    }\n",
       "\n",
       "    .dataframe thead th {\n",
       "        text-align: right;\n",
       "    }\n",
       "</style>\n",
       "<table border=\"1\" class=\"dataframe\">\n",
       "  <thead>\n",
       "    <tr style=\"text-align: right;\">\n",
       "      <th></th>\n",
       "      <th>loyalty_category</th>\n",
       "      <th>broker_id</th>\n",
       "    </tr>\n",
       "  </thead>\n",
       "  <tbody>\n",
       "    <tr>\n",
       "      <th>0</th>\n",
       "      <td>Less Inclinded Brokers</td>\n",
       "      <td>310</td>\n",
       "    </tr>\n",
       "    <tr>\n",
       "      <th>1</th>\n",
       "      <td>Loyal Brokers</td>\n",
       "      <td>4</td>\n",
       "    </tr>\n",
       "    <tr>\n",
       "      <th>2</th>\n",
       "      <td>Non Comitted Brokers</td>\n",
       "      <td>686</td>\n",
       "    </tr>\n",
       "    <tr>\n",
       "      <th>3</th>\n",
       "      <td>Reasonably Devoted Brokers(Moderate)</td>\n",
       "      <td>7</td>\n",
       "    </tr>\n",
       "    <tr>\n",
       "      <th>4</th>\n",
       "      <td>Stagnant Brokers</td>\n",
       "      <td>166</td>\n",
       "    </tr>\n",
       "    <tr>\n",
       "      <th>5</th>\n",
       "      <td>Steadyfast Brokers</td>\n",
       "      <td>5</td>\n",
       "    </tr>\n",
       "  </tbody>\n",
       "</table>\n",
       "</div>"
      ],
      "text/plain": [
       "                       loyalty_category  broker_id\n",
       "0                Less Inclinded Brokers        310\n",
       "1                         Loyal Brokers          4\n",
       "2                  Non Comitted Brokers        686\n",
       "3  Reasonably Devoted Brokers(Moderate)          7\n",
       "4                      Stagnant Brokers        166\n",
       "5                    Steadyfast Brokers          5"
      ]
     },
     "execution_count": 256,
     "metadata": {},
     "output_type": "execute_result"
    }
   ],
   "source": [
    "report[['loyalty_category','broker_id']].groupby('loyalty_category',as_index=False).nunique()"
   ]
  },
  {
   "cell_type": "code",
   "execution_count": 246,
   "id": "a955fb52-75ee-4c2c-941f-3a9f3efbd164",
   "metadata": {},
   "outputs": [
    {
     "data": {
      "text/html": [
       "<div>\n",
       "<style scoped>\n",
       "    .dataframe tbody tr th:only-of-type {\n",
       "        vertical-align: middle;\n",
       "    }\n",
       "\n",
       "    .dataframe tbody tr th {\n",
       "        vertical-align: top;\n",
       "    }\n",
       "\n",
       "    .dataframe thead th {\n",
       "        text-align: right;\n",
       "    }\n",
       "</style>\n",
       "<table border=\"1\" class=\"dataframe\">\n",
       "  <thead>\n",
       "    <tr style=\"text-align: right;\">\n",
       "      <th></th>\n",
       "      <th>broker_id</th>\n",
       "      <th>firm_sales</th>\n",
       "      <th>global_sales</th>\n",
       "      <th>loyalty_percent</th>\n",
       "      <th>loyalty_category</th>\n",
       "    </tr>\n",
       "  </thead>\n",
       "  <tbody>\n",
       "    <tr>\n",
       "      <th>0</th>\n",
       "      <td>BRXX-1</td>\n",
       "      <td>11157673</td>\n",
       "      <td>106631687</td>\n",
       "      <td>10.463750</td>\n",
       "      <td>Less Inclinded Brokers</td>\n",
       "    </tr>\n",
       "    <tr>\n",
       "      <th>1</th>\n",
       "      <td>BRXX-10</td>\n",
       "      <td>0</td>\n",
       "      <td>748365</td>\n",
       "      <td>0.000000</td>\n",
       "      <td>Non Comitted Brokers</td>\n",
       "    </tr>\n",
       "    <tr>\n",
       "      <th>2</th>\n",
       "      <td>BRXX-100</td>\n",
       "      <td>267918</td>\n",
       "      <td>8150360</td>\n",
       "      <td>3.287192</td>\n",
       "      <td>Less Inclinded Brokers</td>\n",
       "    </tr>\n",
       "    <tr>\n",
       "      <th>3</th>\n",
       "      <td>BRXX-1000</td>\n",
       "      <td>0</td>\n",
       "      <td>0</td>\n",
       "      <td>NaN</td>\n",
       "      <td>Stagnant Brokers</td>\n",
       "    </tr>\n",
       "    <tr>\n",
       "      <th>4</th>\n",
       "      <td>BRXX-1001</td>\n",
       "      <td>0</td>\n",
       "      <td>1089745</td>\n",
       "      <td>0.000000</td>\n",
       "      <td>Non Comitted Brokers</td>\n",
       "    </tr>\n",
       "    <tr>\n",
       "      <th>...</th>\n",
       "      <td>...</td>\n",
       "      <td>...</td>\n",
       "      <td>...</td>\n",
       "      <td>...</td>\n",
       "      <td>...</td>\n",
       "    </tr>\n",
       "    <tr>\n",
       "      <th>1173</th>\n",
       "      <td>BRXX-995</td>\n",
       "      <td>0</td>\n",
       "      <td>18126</td>\n",
       "      <td>0.000000</td>\n",
       "      <td>Non Comitted Brokers</td>\n",
       "    </tr>\n",
       "    <tr>\n",
       "      <th>1174</th>\n",
       "      <td>BRXX-996</td>\n",
       "      <td>0</td>\n",
       "      <td>31967</td>\n",
       "      <td>0.000000</td>\n",
       "      <td>Non Comitted Brokers</td>\n",
       "    </tr>\n",
       "    <tr>\n",
       "      <th>1175</th>\n",
       "      <td>BRXX-997</td>\n",
       "      <td>0</td>\n",
       "      <td>165500</td>\n",
       "      <td>0.000000</td>\n",
       "      <td>Non Comitted Brokers</td>\n",
       "    </tr>\n",
       "    <tr>\n",
       "      <th>1176</th>\n",
       "      <td>BRXX-998</td>\n",
       "      <td>0</td>\n",
       "      <td>0</td>\n",
       "      <td>NaN</td>\n",
       "      <td>Stagnant Brokers</td>\n",
       "    </tr>\n",
       "    <tr>\n",
       "      <th>1177</th>\n",
       "      <td>BRXX-999</td>\n",
       "      <td>0</td>\n",
       "      <td>12870</td>\n",
       "      <td>0.000000</td>\n",
       "      <td>Non Comitted Brokers</td>\n",
       "    </tr>\n",
       "  </tbody>\n",
       "</table>\n",
       "<p>1178 rows × 5 columns</p>\n",
       "</div>"
      ],
      "text/plain": [
       "      broker_id  firm_sales  global_sales  loyalty_percent  \\\n",
       "0        BRXX-1    11157673     106631687        10.463750   \n",
       "1       BRXX-10           0        748365         0.000000   \n",
       "2      BRXX-100      267918       8150360         3.287192   \n",
       "3     BRXX-1000           0             0              NaN   \n",
       "4     BRXX-1001           0       1089745         0.000000   \n",
       "...         ...         ...           ...              ...   \n",
       "1173   BRXX-995           0         18126         0.000000   \n",
       "1174   BRXX-996           0         31967         0.000000   \n",
       "1175   BRXX-997           0        165500         0.000000   \n",
       "1176   BRXX-998           0             0              NaN   \n",
       "1177   BRXX-999           0         12870         0.000000   \n",
       "\n",
       "            loyalty_category  \n",
       "0     Less Inclinded Brokers  \n",
       "1       Non Comitted Brokers  \n",
       "2     Less Inclinded Brokers  \n",
       "3           Stagnant Brokers  \n",
       "4       Non Comitted Brokers  \n",
       "...                      ...  \n",
       "1173    Non Comitted Brokers  \n",
       "1174    Non Comitted Brokers  \n",
       "1175    Non Comitted Brokers  \n",
       "1176        Stagnant Brokers  \n",
       "1177    Non Comitted Brokers  \n",
       "\n",
       "[1178 rows x 5 columns]"
      ]
     },
     "execution_count": 246,
     "metadata": {},
     "output_type": "execute_result"
    }
   ],
   "source": [
    "report"
   ]
  },
  {
   "cell_type": "code",
   "execution_count": 257,
   "id": "0661a583-34a9-4829-816e-980dd94de03d",
   "metadata": {},
   "outputs": [
    {
     "data": {
      "text/html": [
       "<div>\n",
       "<style scoped>\n",
       "    .dataframe tbody tr th:only-of-type {\n",
       "        vertical-align: middle;\n",
       "    }\n",
       "\n",
       "    .dataframe tbody tr th {\n",
       "        vertical-align: top;\n",
       "    }\n",
       "\n",
       "    .dataframe thead th {\n",
       "        text-align: right;\n",
       "    }\n",
       "</style>\n",
       "<table border=\"1\" class=\"dataframe\">\n",
       "  <thead>\n",
       "    <tr style=\"text-align: right;\">\n",
       "      <th></th>\n",
       "      <th>broker_id</th>\n",
       "      <th>city</th>\n",
       "      <th>broker_type</th>\n",
       "      <th>fund_category</th>\n",
       "      <th>email_opened</th>\n",
       "      <th>webex_meet</th>\n",
       "      <th>sales_call</th>\n",
       "      <th>firm_sales</th>\n",
       "      <th>global_sales</th>\n",
       "      <th>state</th>\n",
       "      <th>loyalty_category</th>\n",
       "    </tr>\n",
       "  </thead>\n",
       "  <tbody>\n",
       "    <tr>\n",
       "      <th>0</th>\n",
       "      <td>BRXX-1</td>\n",
       "      <td>PLANTATION</td>\n",
       "      <td>Inter-dealer broker</td>\n",
       "      <td>Emerging-Markets Local-Currency Bond</td>\n",
       "      <td>N</td>\n",
       "      <td>N</td>\n",
       "      <td>N</td>\n",
       "      <td>174.62</td>\n",
       "      <td>174.62</td>\n",
       "      <td>FL</td>\n",
       "      <td>Less Inclinded Brokers</td>\n",
       "    </tr>\n",
       "    <tr>\n",
       "      <th>1</th>\n",
       "      <td>BRXX-1</td>\n",
       "      <td>BRANFORD</td>\n",
       "      <td>Inter-dealer broker</td>\n",
       "      <td>Utilities</td>\n",
       "      <td>N</td>\n",
       "      <td>N</td>\n",
       "      <td>N</td>\n",
       "      <td>0.00</td>\n",
       "      <td>0.00</td>\n",
       "      <td>CT</td>\n",
       "      <td>Less Inclinded Brokers</td>\n",
       "    </tr>\n",
       "  </tbody>\n",
       "</table>\n",
       "</div>"
      ],
      "text/plain": [
       "  broker_id        city          broker_type  \\\n",
       "0    BRXX-1  PLANTATION  Inter-dealer broker   \n",
       "1    BRXX-1    BRANFORD  Inter-dealer broker   \n",
       "\n",
       "                          fund_category email_opened webex_meet sales_call  \\\n",
       "0  Emerging-Markets Local-Currency Bond            N          N          N   \n",
       "1                             Utilities            N          N          N   \n",
       "\n",
       "   firm_sales  global_sales state        loyalty_category  \n",
       "0      174.62        174.62    FL  Less Inclinded Brokers  \n",
       "1        0.00          0.00    CT  Less Inclinded Brokers  "
      ]
     },
     "execution_count": 257,
     "metadata": {},
     "output_type": "execute_result"
    }
   ],
   "source": [
    "df1 = df.merge(report[['broker_id','loyalty_category']],how='inner',on='broker_id')\n",
    "df1.head(2)"
   ]
  },
  {
   "cell_type": "code",
   "execution_count": 258,
   "id": "42168f78-f317-42b8-b3b4-6f54378498d1",
   "metadata": {},
   "outputs": [
    {
     "data": {
      "text/plain": [
       "(753089, 11)"
      ]
     },
     "execution_count": 258,
     "metadata": {},
     "output_type": "execute_result"
    }
   ],
   "source": [
    "df1.shape"
   ]
  },
  {
   "cell_type": "code",
   "execution_count": 259,
   "id": "6d162c0b-831b-4de1-8627-f4640701ffc2",
   "metadata": {},
   "outputs": [
    {
     "data": {
      "text/html": [
       "<div>\n",
       "<style scoped>\n",
       "    .dataframe tbody tr th:only-of-type {\n",
       "        vertical-align: middle;\n",
       "    }\n",
       "\n",
       "    .dataframe tbody tr th {\n",
       "        vertical-align: top;\n",
       "    }\n",
       "\n",
       "    .dataframe thead th {\n",
       "        text-align: right;\n",
       "    }\n",
       "</style>\n",
       "<table border=\"1\" class=\"dataframe\">\n",
       "  <thead>\n",
       "    <tr style=\"text-align: right;\">\n",
       "      <th></th>\n",
       "      <th></th>\n",
       "      <th>broker_id</th>\n",
       "    </tr>\n",
       "    <tr>\n",
       "      <th>email_opened</th>\n",
       "      <th>loyalty_category</th>\n",
       "      <th></th>\n",
       "    </tr>\n",
       "  </thead>\n",
       "  <tbody>\n",
       "    <tr>\n",
       "      <th rowspan=\"6\" valign=\"top\">N</th>\n",
       "      <th>Less Inclinded Brokers</th>\n",
       "      <td>299</td>\n",
       "    </tr>\n",
       "    <tr>\n",
       "      <th>Loyal Brokers</th>\n",
       "      <td>3</td>\n",
       "    </tr>\n",
       "    <tr>\n",
       "      <th>Non Comitted Brokers</th>\n",
       "      <td>570</td>\n",
       "    </tr>\n",
       "    <tr>\n",
       "      <th>Reasonably Devoted Brokers(Moderate)</th>\n",
       "      <td>4</td>\n",
       "    </tr>\n",
       "    <tr>\n",
       "      <th>Stagnant Brokers</th>\n",
       "      <td>134</td>\n",
       "    </tr>\n",
       "    <tr>\n",
       "      <th>Steadyfast Brokers</th>\n",
       "      <td>4</td>\n",
       "    </tr>\n",
       "    <tr>\n",
       "      <th rowspan=\"6\" valign=\"top\">Y</th>\n",
       "      <th>Less Inclinded Brokers</th>\n",
       "      <td>291</td>\n",
       "    </tr>\n",
       "    <tr>\n",
       "      <th>Loyal Brokers</th>\n",
       "      <td>1</td>\n",
       "    </tr>\n",
       "    <tr>\n",
       "      <th>Non Comitted Brokers</th>\n",
       "      <td>245</td>\n",
       "    </tr>\n",
       "    <tr>\n",
       "      <th>Reasonably Devoted Brokers(Moderate)</th>\n",
       "      <td>6</td>\n",
       "    </tr>\n",
       "    <tr>\n",
       "      <th>Stagnant Brokers</th>\n",
       "      <td>36</td>\n",
       "    </tr>\n",
       "    <tr>\n",
       "      <th>Steadyfast Brokers</th>\n",
       "      <td>4</td>\n",
       "    </tr>\n",
       "  </tbody>\n",
       "</table>\n",
       "</div>"
      ],
      "text/plain": [
       "                                                   broker_id\n",
       "email_opened loyalty_category                               \n",
       "N            Less Inclinded Brokers                      299\n",
       "             Loyal Brokers                                 3\n",
       "             Non Comitted Brokers                        570\n",
       "             Reasonably Devoted Brokers(Moderate)          4\n",
       "             Stagnant Brokers                            134\n",
       "             Steadyfast Brokers                            4\n",
       "Y            Less Inclinded Brokers                      291\n",
       "             Loyal Brokers                                 1\n",
       "             Non Comitted Brokers                        245\n",
       "             Reasonably Devoted Brokers(Moderate)          6\n",
       "             Stagnant Brokers                             36\n",
       "             Steadyfast Brokers                            4"
      ]
     },
     "execution_count": 259,
     "metadata": {},
     "output_type": "execute_result"
    }
   ],
   "source": [
    "df1[['broker_id','email_opened','loyalty_category']].groupby(['email_opened','loyalty_category']).nunique()"
   ]
  },
  {
   "cell_type": "code",
   "execution_count": 260,
   "id": "fe2db569-0986-4f71-a2a0-393df0d8be2d",
   "metadata": {},
   "outputs": [
    {
     "data": {
      "text/html": [
       "<div>\n",
       "<style scoped>\n",
       "    .dataframe tbody tr th:only-of-type {\n",
       "        vertical-align: middle;\n",
       "    }\n",
       "\n",
       "    .dataframe tbody tr th {\n",
       "        vertical-align: top;\n",
       "    }\n",
       "\n",
       "    .dataframe thead th {\n",
       "        text-align: right;\n",
       "    }\n",
       "</style>\n",
       "<table border=\"1\" class=\"dataframe\">\n",
       "  <thead>\n",
       "    <tr style=\"text-align: right;\">\n",
       "      <th></th>\n",
       "      <th></th>\n",
       "      <th>broker_id</th>\n",
       "    </tr>\n",
       "    <tr>\n",
       "      <th>broker_type</th>\n",
       "      <th>loyalty_category</th>\n",
       "      <th></th>\n",
       "    </tr>\n",
       "  </thead>\n",
       "  <tbody>\n",
       "    <tr>\n",
       "      <th rowspan=\"6\" valign=\"top\">Inter-dealer broker</th>\n",
       "      <th>Less Inclinded Brokers</th>\n",
       "      <td>306</td>\n",
       "    </tr>\n",
       "    <tr>\n",
       "      <th>Loyal Brokers</th>\n",
       "      <td>4</td>\n",
       "    </tr>\n",
       "    <tr>\n",
       "      <th>Non Comitted Brokers</th>\n",
       "      <td>685</td>\n",
       "    </tr>\n",
       "    <tr>\n",
       "      <th>Reasonably Devoted Brokers(Moderate)</th>\n",
       "      <td>7</td>\n",
       "    </tr>\n",
       "    <tr>\n",
       "      <th>Stagnant Brokers</th>\n",
       "      <td>166</td>\n",
       "    </tr>\n",
       "    <tr>\n",
       "      <th>Steadyfast Brokers</th>\n",
       "      <td>5</td>\n",
       "    </tr>\n",
       "    <tr>\n",
       "      <th rowspan=\"2\" valign=\"top\">full-service broker</th>\n",
       "      <th>Less Inclinded Brokers</th>\n",
       "      <td>4</td>\n",
       "    </tr>\n",
       "    <tr>\n",
       "      <th>Non Comitted Brokers</th>\n",
       "      <td>1</td>\n",
       "    </tr>\n",
       "  </tbody>\n",
       "</table>\n",
       "</div>"
      ],
      "text/plain": [
       "                                                          broker_id\n",
       "broker_type         loyalty_category                               \n",
       "Inter-dealer broker Less Inclinded Brokers                      306\n",
       "                    Loyal Brokers                                 4\n",
       "                    Non Comitted Brokers                        685\n",
       "                    Reasonably Devoted Brokers(Moderate)          7\n",
       "                    Stagnant Brokers                            166\n",
       "                    Steadyfast Brokers                            5\n",
       "full-service broker Less Inclinded Brokers                        4\n",
       "                    Non Comitted Brokers                          1"
      ]
     },
     "execution_count": 260,
     "metadata": {},
     "output_type": "execute_result"
    }
   ],
   "source": [
    "df1[['broker_id','broker_type','loyalty_category']].groupby(['broker_type','loyalty_category']).nunique()"
   ]
  },
  {
   "cell_type": "code",
   "execution_count": 264,
   "id": "3861123d-4fc5-4e55-9721-fc8eac94a542",
   "metadata": {},
   "outputs": [
    {
     "data": {
      "text/html": [
       "<div>\n",
       "<style scoped>\n",
       "    .dataframe tbody tr th:only-of-type {\n",
       "        vertical-align: middle;\n",
       "    }\n",
       "\n",
       "    .dataframe tbody tr th {\n",
       "        vertical-align: top;\n",
       "    }\n",
       "\n",
       "    .dataframe thead th {\n",
       "        text-align: right;\n",
       "    }\n",
       "</style>\n",
       "<table border=\"1\" class=\"dataframe\">\n",
       "  <thead>\n",
       "    <tr style=\"text-align: right;\">\n",
       "      <th></th>\n",
       "      <th></th>\n",
       "      <th>broker_id</th>\n",
       "    </tr>\n",
       "    <tr>\n",
       "      <th>state</th>\n",
       "      <th>loyalty_category</th>\n",
       "      <th></th>\n",
       "    </tr>\n",
       "  </thead>\n",
       "  <tbody>\n",
       "    <tr>\n",
       "      <th rowspan=\"2\" valign=\"top\"></th>\n",
       "      <th>Less Inclinded Brokers</th>\n",
       "      <td>4</td>\n",
       "    </tr>\n",
       "    <tr>\n",
       "      <th>Non Comitted Brokers</th>\n",
       "      <td>1</td>\n",
       "    </tr>\n",
       "    <tr>\n",
       "      <th>AK</th>\n",
       "      <th>Less Inclinded Brokers</th>\n",
       "      <td>41</td>\n",
       "    </tr>\n",
       "    <tr>\n",
       "      <th rowspan=\"2\" valign=\"top\">AL</th>\n",
       "      <th>Less Inclinded Brokers</th>\n",
       "      <td>108</td>\n",
       "    </tr>\n",
       "    <tr>\n",
       "      <th>Non Comitted Brokers</th>\n",
       "      <td>9</td>\n",
       "    </tr>\n",
       "    <tr>\n",
       "      <th>...</th>\n",
       "      <th>...</th>\n",
       "      <td>...</td>\n",
       "    </tr>\n",
       "    <tr>\n",
       "      <th rowspan=\"2\" valign=\"top\">WI</th>\n",
       "      <th>Non Comitted Brokers</th>\n",
       "      <td>27</td>\n",
       "    </tr>\n",
       "    <tr>\n",
       "      <th>Stagnant Brokers</th>\n",
       "      <td>1</td>\n",
       "    </tr>\n",
       "    <tr>\n",
       "      <th rowspan=\"2\" valign=\"top\">WV</th>\n",
       "      <th>Less Inclinded Brokers</th>\n",
       "      <td>84</td>\n",
       "    </tr>\n",
       "    <tr>\n",
       "      <th>Non Comitted Brokers</th>\n",
       "      <td>2</td>\n",
       "    </tr>\n",
       "    <tr>\n",
       "      <th>WY</th>\n",
       "      <th>Less Inclinded Brokers</th>\n",
       "      <td>58</td>\n",
       "    </tr>\n",
       "  </tbody>\n",
       "</table>\n",
       "<p>182 rows × 1 columns</p>\n",
       "</div>"
      ],
      "text/plain": [
       "                              broker_id\n",
       "state loyalty_category                 \n",
       "      Less Inclinded Brokers          4\n",
       "      Non Comitted Brokers            1\n",
       "AK    Less Inclinded Brokers         41\n",
       "AL    Less Inclinded Brokers        108\n",
       "      Non Comitted Brokers            9\n",
       "...                                 ...\n",
       "WI    Non Comitted Brokers           27\n",
       "      Stagnant Brokers                1\n",
       "WV    Less Inclinded Brokers         84\n",
       "      Non Comitted Brokers            2\n",
       "WY    Less Inclinded Brokers         58\n",
       "\n",
       "[182 rows x 1 columns]"
      ]
     },
     "execution_count": 264,
     "metadata": {},
     "output_type": "execute_result"
    }
   ],
   "source": [
    "df1[['broker_id','state','loyalty_category']].groupby(['state','loyalty_category']).nunique()"
   ]
  },
  {
   "cell_type": "code",
   "execution_count": null,
   "id": "3df360f8-0c80-4217-a22e-ae5f5fa0a449",
   "metadata": {},
   "outputs": [],
   "source": []
  },
  {
   "cell_type": "code",
   "execution_count": null,
   "id": "1157ddc7-24d4-4573-acc1-670ffe1f9618",
   "metadata": {},
   "outputs": [],
   "source": []
  },
  {
   "cell_type": "code",
   "execution_count": null,
   "id": "2c9fdc80-f291-452f-9951-ef51118b8d17",
   "metadata": {},
   "outputs": [],
   "source": []
  },
  {
   "cell_type": "code",
   "execution_count": 6,
   "id": "8f95506c-9271-4eaf-ad75-dceb6282b69f",
   "metadata": {},
   "outputs": [],
   "source": [
    "class Broker:\n",
    "    def __init__(self):\n",
    "        pass\n",
    "    "
   ]
  },
  {
   "cell_type": "code",
   "execution_count": 7,
   "id": "7160a2bc-48b3-42f0-899a-e760aa58ab05",
   "metadata": {},
   "outputs": [],
   "source": [
    "class Bank:\n",
    "    def __init__(self):\n",
    "        pass"
   ]
  },
  {
   "cell_type": "code",
   "execution_count": null,
   "id": "6f9482cc-8d41-431a-aaba-e356c88385e3",
   "metadata": {},
   "outputs": [],
   "source": []
  }
 ],
 "metadata": {
  "kernelspec": {
   "display_name": "Python 3 (ipykernel)",
   "language": "python",
   "name": "python3"
  },
  "language_info": {
   "codemirror_mode": {
    "name": "ipython",
    "version": 3
   },
   "file_extension": ".py",
   "mimetype": "text/x-python",
   "name": "python",
   "nbconvert_exporter": "python",
   "pygments_lexer": "ipython3",
   "version": "3.11.7"
  }
 },
 "nbformat": 4,
 "nbformat_minor": 5
}
