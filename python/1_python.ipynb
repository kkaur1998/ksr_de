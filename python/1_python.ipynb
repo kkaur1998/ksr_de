{
 "cells": [
  {
   "cell_type": "code",
   "execution_count": null,
   "metadata": {
    "vscode": {
     "languageId": "plaintext"
    }
   },
   "outputs": [],
   "source": [
    "print(\"hi\")"
   ]
  },
  {
   "cell_type": "code",
   "execution_count": 1,
   "metadata": {},
   "outputs": [
    {
     "data": {
      "text/plain": [
       "'dfj'"
      ]
     },
     "execution_count": 1,
     "metadata": {},
     "output_type": "execute_result"
    }
   ],
   "source": [
    "k='abdfjiehfuhe;f'\n",
    "k[2:5]"
   ]
  },
  {
   "cell_type": "code",
   "execution_count": 14,
   "metadata": {},
   "outputs": [
    {
     "data": {
      "text/plain": [
       "[3, 2, 1]"
      ]
     },
     "execution_count": 14,
     "metadata": {},
     "output_type": "execute_result"
    }
   ],
   "source": [
    "def rev(ls):\n",
    "    k = []\n",
    "    for i in range(len(ls)):\n",
    "        k.append(ls[-1])\n",
    "        ls.pop()\n",
    "    return k\n",
    "rev([1,2,3])\n",
    "        "
   ]
  },
  {
   "cell_type": "code",
   "execution_count": 17,
   "metadata": {},
   "outputs": [
    {
     "data": {
      "text/plain": [
       "[6, 9, 1, 3, 7, 2]"
      ]
     },
     "execution_count": 17,
     "metadata": {},
     "output_type": "execute_result"
    }
   ],
   "source": [
    "def rev(ls):\n",
    "    if not ls:\n",
    "        return []\n",
    "    else:\n",
    "        return [ls[-1]]+rev(ls[:-1])\n",
    "rev([2,7,3,1,9,6])"
   ]
  },
  {
   "cell_type": "code",
   "execution_count": 18,
   "metadata": {},
   "outputs": [
    {
     "data": {
      "text/plain": [
       "'nku'"
      ]
     },
     "execution_count": 18,
     "metadata": {},
     "output_type": "execute_result"
    }
   ],
   "source": [
    "'kun'[-1]+'kun'[:-1]"
   ]
  },
  {
   "cell_type": "code",
   "execution_count": 21,
   "metadata": {},
   "outputs": [
    {
     "name": "stdout",
     "output_type": "stream",
     "text": [
      "kun\n",
      "now returning\n",
      "ku\n",
      "now returning\n",
      "k\n",
      "now returning\n",
      "s is not\n"
     ]
    },
    {
     "data": {
      "text/plain": [
       "'nuk'"
      ]
     },
     "execution_count": 21,
     "metadata": {},
     "output_type": "execute_result"
    }
   ],
   "source": [
    "def rev_str(s):\n",
    "    if not s:\n",
    "        print('s is not')\n",
    "        return \"\"\n",
    "    else:\n",
    "        print(s)\n",
    "        print(\"now returning\")\n",
    "        return s[-1]+rev_str(s[:-1])\n",
    "rev_str('kun')"
   ]
  },
  {
   "cell_type": "code",
   "execution_count": 27,
   "metadata": {},
   "outputs": [
    {
     "data": {
      "text/plain": [
       "'nuk'"
      ]
     },
     "execution_count": 27,
     "metadata": {},
     "output_type": "execute_result"
    }
   ],
   "source": [
    "#reverse string without recursion\n",
    "def rev(k):\n",
    "    st = \"\"\n",
    "    for i in range(len(k),0,-1):\n",
    "        n=i-1\n",
    "        st+=k[n]\n",
    "    return st\n",
    "rev('kun')"
   ]
  },
  {
   "cell_type": "code",
   "execution_count": 26,
   "metadata": {},
   "outputs": [],
   "source": [
    "#string has close bracket with every open bracket\n",
    "di = {'(':')','{':'}','[':']'}\n",
    "# def validate(st):\n",
    "#     for i in range(len(st)):\n",
    "       \n",
    "            \n",
    "# validate('{}()[[()]]{()}')"
   ]
  },
  {
   "cell_type": "code",
   "execution_count": 33,
   "metadata": {},
   "outputs": [
    {
     "data": {
      "text/plain": [
       "'hfkjs'"
      ]
     },
     "execution_count": 33,
     "metadata": {},
     "output_type": "execute_result"
    }
   ],
   "source": [
    "k = 'kshfjjjjj'\n",
    "set(k)\n",
    "\"\".join(set(k))"
   ]
  },
  {
   "cell_type": "code",
   "execution_count": 34,
   "metadata": {},
   "outputs": [
    {
     "data": {
      "text/plain": [
       "'kshfj,'"
      ]
     },
     "execution_count": 34,
     "metadata": {},
     "output_type": "execute_result"
    }
   ],
   "source": [
    "#remove duplicates\n",
    "k = 'kshfj,jjjj'\n",
    "st = \"\"\n",
    "for i in k:\n",
    "    if i not in st:\n",
    "        st+=i\n",
    "st"
   ]
  },
  {
   "cell_type": "code",
   "execution_count": 35,
   "metadata": {},
   "outputs": [
    {
     "name": "stdout",
     "output_type": "stream",
     "text": [
      "Kshfj,99jjjj\n",
      "kshfj,99jjjj\n",
      "KSHFJ,99JJJJ\n",
      "False\n",
      "False\n",
      "True\n",
      "False\n",
      "True\n"
     ]
    }
   ],
   "source": [
    "k = 'kshfj,99jjjj'\n",
    "l = '999999'\n",
    "print(k.capitalize())\n",
    "print(k.lower())\n",
    "print(k.upper())\n",
    "print(k.isdigit())\n",
    "print(k.isalnum())\n",
    "print(k[4].isalpha())\n",
    "print(k[7].isalpha())\n",
    "print(l.isalnum())"
   ]
  },
  {
   "cell_type": "code",
   "execution_count": 36,
   "metadata": {},
   "outputs": [
    {
     "name": "stdout",
     "output_type": "stream",
     "text": [
      "['k', 's', 'h', 'f', 'j', ',', '9', '9', 'j', 'j', 'j', 'j']\n"
     ]
    },
    {
     "data": {
      "text/plain": [
       "'k,s,h,f,j,,,9,9,j,j,j,j'"
      ]
     },
     "execution_count": 36,
     "metadata": {},
     "output_type": "execute_result"
    }
   ],
   "source": [
    "l = list(k)\n",
    "print(l)\n",
    "\",\".join(l)"
   ]
  },
  {
   "cell_type": "code",
   "execution_count": 49,
   "metadata": {
    "scrolled": true
   },
   "outputs": [
    {
     "data": {
      "text/plain": [
       "True"
      ]
     },
     "execution_count": 49,
     "metadata": {},
     "output_type": "execute_result"
    }
   ],
   "source": [
    "'k'.isalnum()"
   ]
  },
  {
   "cell_type": "code",
   "execution_count": 50,
   "metadata": {},
   "outputs": [
    {
     "name": "stdout",
     "output_type": "stream",
     "text": [
      "@p$nk@hd#dk\n"
     ]
    }
   ],
   "source": [
    "k = 'kd#dh@kn$p@'\n",
    "#expected\n",
    "'pn#kh@dd$k@'\n",
    "rev = k[::-1]\n",
    "print(rev)"
   ]
  },
  {
   "cell_type": "code",
   "execution_count": 61,
   "metadata": {},
   "outputs": [
    {
     "name": "stdout",
     "output_type": "stream",
     "text": [
      "@p$nk@hd#dk\n",
      "#@$@\n",
      "kddhknp\n"
     ]
    },
    {
     "data": {
      "text/plain": [
       "'pn#kh@dd$k@'"
      ]
     },
     "execution_count": 61,
     "metadata": {},
     "output_type": "execute_result"
    }
   ],
   "source": [
    "#Reverse string without changing special characters in it\n",
    "k = 'kd#dh@kn$p@'\n",
    "#expected\n",
    "'pn#kh@dd$k@'\n",
    "rev = k[::-1]\n",
    "print(rev)\n",
    "st = \"\"\n",
    "sp = \"\"\n",
    "for i in k:\n",
    "    if i.isalnum():\n",
    "        st+=i\n",
    "    else:\n",
    "        # st+='_'\n",
    "        sp+=i          \n",
    "print(sp)\n",
    "print(st)\n",
    "r = st[::-1]\n",
    "res = \"\"\n",
    "r_count=0\n",
    "sp_count=0\n",
    "for i in range(len(k)):\n",
    "    if k[i].isalnum():\n",
    "        res+=r[r_count]\n",
    "        r_count+=1\n",
    "    else:\n",
    "        res+=sp[sp_count]\n",
    "        sp_count+=1\n",
    "    \n",
    "res\n",
    " \n",
    "# s = \"a!!!b.c.d,e'f,ghi\"\n",
    "# 'i!!!h.g.f,e'd,cba'\n",
    "# kd#dh@kn$p@'"
   ]
  },
  {
   "cell_type": "code",
   "execution_count": 123,
   "metadata": {},
   "outputs": [
    {
     "data": {
      "text/plain": [
       "'454'"
      ]
     },
     "execution_count": 123,
     "metadata": {},
     "output_type": "execute_result"
    }
   ],
   "source": [
    "#reverse witout recursion\n",
    "\n",
    "def rever(st):\n",
    "    k = \"\"\n",
    "    for i in range(len(st)):\n",
    "        if len(st)>=1:\n",
    "            k+=st[-1]\n",
    "            st=st[:-1]\n",
    "    return k\n",
    "rever('454')"
   ]
  },
  {
   "cell_type": "code",
   "execution_count": 129,
   "metadata": {},
   "outputs": [
    {
     "name": "stdout",
     "output_type": "stream",
     "text": [
      "yes\n"
     ]
    }
   ],
   "source": [
    "#palindrom\n",
    "def check_palin(st):\n",
    "    s = st\n",
    "    if rever(st)==st:\n",
    "        print('yes')\n",
    "    else:\n",
    "        print('no')\n",
    "# print(rever(st))\n",
    "check_palin('454')"
   ]
  },
  {
   "cell_type": "code",
   "execution_count": 135,
   "metadata": {},
   "outputs": [
    {
     "name": "stdout",
     "output_type": "stream",
     "text": [
      "720\n"
     ]
    }
   ],
   "source": [
    "#factorial\n",
    "def fact(n):\n",
    "    fact = 1\n",
    "    for i in range(n+1,1,-1):\n",
    "        fact=fact*i\n",
    "    return fact\n",
    "print(fact(5))"
   ]
  },
  {
   "cell_type": "code",
   "execution_count": 153,
   "metadata": {},
   "outputs": [
    {
     "name": "stdout",
     "output_type": "stream",
     "text": [
      "kddhknp\n",
      "6 1\n",
      "k ddhknp p\n",
      "5 2\n",
      "d dhknp np\n",
      "4 3\n",
      "d hknp knp\n",
      "3 4\n",
      "h knp hknp\n",
      "2 5\n",
      "k np dhknp\n",
      "1 6\n",
      "n p ddhknp\n"
     ]
    }
   ],
   "source": [
    "# def get_all_rotations(st):\n",
    "#     for i in st:\n",
    "print(st)\n",
    "l = len(st)-1\n",
    "for i in range(l):\n",
    "    start= l-i\n",
    "    end=i+1\n",
    "    print(start,end)\n",
    "    print(st[i],st[end:],st[start:])"
   ]
  },
  {
   "cell_type": "code",
   "execution_count": 137,
   "metadata": {},
   "outputs": [
    {
     "name": "stdout",
     "output_type": "stream",
     "text": [
      "['k']\n",
      "['k', 'ka']\n",
      "['k', 'ka', 'kas']\n",
      "['k', 'ka', 'kas', 'kasf']\n",
      "['k', 'ka', 'kas', 'kasf', 'kasfm']\n",
      "['k', 'ka', 'kas', 'kasf', 'kasfm', 'a']\n",
      "['k', 'ka', 'kas', 'kasf', 'kasfm', 'a', 'as']\n",
      "['k', 'ka', 'kas', 'kasf', 'kasfm', 'a', 'as', 'asf']\n",
      "['k', 'ka', 'kas', 'kasf', 'kasfm', 'a', 'as', 'asf', 'asfm']\n",
      "['k', 'ka', 'kas', 'kasf', 'kasfm', 'a', 'as', 'asf', 'asfm', 's']\n",
      "['k', 'ka', 'kas', 'kasf', 'kasfm', 'a', 'as', 'asf', 'asfm', 's', 'sf']\n",
      "['k', 'ka', 'kas', 'kasf', 'kasfm', 'a', 'as', 'asf', 'asfm', 's', 'sf', 'sfm']\n",
      "['k', 'ka', 'kas', 'kasf', 'kasfm', 'a', 'as', 'asf', 'asfm', 's', 'sf', 'sfm', 'f']\n",
      "['k', 'ka', 'kas', 'kasf', 'kasfm', 'a', 'as', 'asf', 'asfm', 's', 'sf', 'sfm', 'f', 'fm']\n",
      "['k', 'ka', 'kas', 'kasf', 'kasfm', 'a', 'as', 'asf', 'asfm', 's', 'sf', 'sfm', 'f', 'fm', 'm']\n"
     ]
    }
   ],
   "source": [
    "#possible permutation of string\n",
    "\n",
    "def create_perm(st):\n",
    "    perm_list=[]\n",
    "    rev = st[::-1]\n",
    "    for i in range(len(st)):\n",
    "        for j in range(i+1,len(st)+1):\n",
    "            perm_list.append(st[i:j])\n",
    "            print(perm_list)\n",
    "            \n",
    "create_perm('kasfm')       "
   ]
  },
  {
   "cell_type": "code",
   "execution_count": 67,
   "metadata": {},
   "outputs": [
    {
     "name": "stdout",
     "output_type": "stream",
     "text": [
      "['k']\n",
      "['k', 'ka']\n",
      "['k', 'ka', 'kas']\n",
      "['k', 'ka', 'kas', 'kasf']\n",
      "['k', 'ka', 'kas', 'kasf', 'kasfm']\n",
      "['k', 'ka', 'kas', 'kasf', 'kasfm', 'ak']\n",
      "['k', 'ka', 'kas', 'kasf', 'kasfm', 'ak', 'ask']\n",
      "['k', 'ka', 'kas', 'kasf', 'kasfm', 'ak', 'ask', 'asfk']\n",
      "['k', 'ka', 'kas', 'kasf', 'kasfm', 'ak', 'ask', 'asfk', 'asfmk']\n",
      "['k', 'ka', 'kas', 'kasf', 'kasfm', 'ak', 'ask', 'asfk', 'asfmk', 'ska']\n",
      "['k', 'ka', 'kas', 'kasf', 'kasfm', 'ak', 'ask', 'asfk', 'asfmk', 'ska', 'sfka']\n",
      "['k', 'ka', 'kas', 'kasf', 'kasfm', 'ak', 'ask', 'asfk', 'asfmk', 'ska', 'sfka', 'sfmka']\n",
      "['k', 'ka', 'kas', 'kasf', 'kasfm', 'ak', 'ask', 'asfk', 'asfmk', 'ska', 'sfka', 'sfmka', 'fkas']\n",
      "['k', 'ka', 'kas', 'kasf', 'kasfm', 'ak', 'ask', 'asfk', 'asfmk', 'ska', 'sfka', 'sfmka', 'fkas', 'fmkas']\n",
      "['k', 'ka', 'kas', 'kasf', 'kasfm', 'ak', 'ask', 'asfk', 'asfmk', 'ska', 'sfka', 'sfmka', 'fkas', 'fmkas', 'mkasf']\n"
     ]
    }
   ],
   "source": [
    "#possible permutation of string\n",
    "def create_perm(st):\n",
    "    perm_list=[]\n",
    "    for i in range(len(st)):\n",
    "        for j in range(i+1,len(st)+1):\n",
    "            perm_list.append(st[i:j]+st[:i])\n",
    "            print(perm_list)\n",
    "            \n",
    "create_perm('kasfm')       "
   ]
  },
  {
   "cell_type": "code",
   "execution_count": 68,
   "metadata": {},
   "outputs": [
    {
     "name": "stdout",
     "output_type": "stream",
     "text": [
      "[1, 2, 5, 8, 9]\n"
     ]
    }
   ],
   "source": [
    "#bubble sort\n",
    "def bubble_sort(elements):\n",
    "    n = len(elements)\n",
    "    for i in range(n - 1):\n",
    "        for j in range(n - i - 1):\n",
    "            if elements[j] > elements[j + 1]:\n",
    "                elements[j], elements[j + 1] = elements[j + 1], elements[j]\n",
    "\n",
    "# Test the function\n",
    "nums = [5, 2, 8, 1, 9]\n",
    "bubble_sort(nums)\n",
    "print(nums)"
   ]
  },
  {
   "cell_type": "code",
   "execution_count": null,
   "metadata": {},
   "outputs": [],
   "source": []
  }
 ],
 "metadata": {
  "kernelspec": {
   "display_name": "Python 3 (ipykernel)",
   "language": "python",
   "name": "python3"
  },
  "language_info": {
   "codemirror_mode": {
    "name": "ipython",
    "version": 3
   },
   "file_extension": ".py",
   "mimetype": "text/x-python",
   "name": "python",
   "nbconvert_exporter": "python",
   "pygments_lexer": "ipython3",
   "version": "3.11.7"
  }
 },
 "nbformat": 4,
 "nbformat_minor": 4
}
