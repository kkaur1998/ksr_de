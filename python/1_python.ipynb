{
 "cells": [
  {
   "cell_type": "code",
   "execution_count": null,
   "metadata": {
    "vscode": {
     "languageId": "plaintext"
    }
   },
   "outputs": [],
   "source": [
    "print(\"hi\")"
   ]
  },
  {
   "cell_type": "code",
   "execution_count": 1,
   "metadata": {},
   "outputs": [
    {
     "data": {
      "text/plain": [
       "'dfj'"
      ]
     },
     "execution_count": 1,
     "metadata": {},
     "output_type": "execute_result"
    }
   ],
   "source": [
    "k='abdfjiehfuhe;f'\n",
    "k[2:5]"
   ]
  },
  {
   "cell_type": "code",
   "execution_count": 4,
   "metadata": {},
   "outputs": [
    {
     "data": {
      "text/plain": [
       "[3, 2, 1]"
      ]
     },
     "execution_count": 4,
     "metadata": {},
     "output_type": "execute_result"
    }
   ],
   "source": [
    "def rev(ls):\n",
    "    k = []\n",
    "    for i in range(len(ls)):\n",
    "        k.append(ls[-1])\n",
    "        ls.pop()\n",
    "    return k\n",
    "rev([1,2,3])\n",
    "        "
   ]
  },
  {
   "cell_type": "code",
   "execution_count": 7,
   "metadata": {},
   "outputs": [
    {
     "data": {
      "text/plain": [
       "[6, 5, 4]"
      ]
     },
     "execution_count": 7,
     "metadata": {},
     "output_type": "execute_result"
    }
   ],
   "source": [
    "def rev(ls):\n",
    "    k = []\n",
    "    for i in range(len(ls)):\n",
    "        k.append(ls[-1])\n",
    "        ls.pop()\n",
    "    return k\n",
    "rev([4,5,6])"
   ]
  },
  {
   "cell_type": "code",
   "execution_count": 28,
   "metadata": {},
   "outputs": [
    {
     "data": {
      "text/plain": [
       "[2, 3, 4, 5, 6]"
      ]
     },
     "execution_count": 28,
     "metadata": {},
     "output_type": "execute_result"
    }
   ],
   "source": [
    "[2,3]+[4,5,6]"
   ]
  },
  {
   "cell_type": "code",
   "execution_count": 49,
   "metadata": {},
   "outputs": [
    {
     "data": {
      "text/plain": [
       "[5, 3, 2]"
      ]
     },
     "execution_count": 49,
     "metadata": {},
     "output_type": "execute_result"
    }
   ],
   "source": [
    "k = []\n",
    "def rev(ls):\n",
    "        # print(ls)\n",
    "        if not ls:\n",
    "            return []\n",
    "        return [ls[-1]]+rev(ls[:-1])\n",
    "        \n",
    "rev([2,3,5])"
   ]
  },
  {
   "cell_type": "code",
   "execution_count": 11,
   "metadata": {},
   "outputs": [
    {
     "data": {
      "text/plain": [
       "'nuk'"
      ]
     },
     "execution_count": 11,
     "metadata": {},
     "output_type": "execute_result"
    }
   ],
   "source": [
    "#reverse string without recursion\n",
    "def rev(k):\n",
    "    st = \"\"\n",
    "    for i in range(len(k),0,-1):\n",
    "        n=i-1\n",
    "        st+=k[n]\n",
    "    return st\n",
    "        \n",
    "        \n",
    "rev('kun')"
   ]
  },
  {
   "cell_type": "code",
   "execution_count": 26,
   "metadata": {},
   "outputs": [],
   "source": [
    "#string has close bracket with every open bracket\n",
    "di = {'(':')','{':'}','[':']'}\n",
    "# def validate(st):\n",
    "#     for i in range(len(st)):\n",
    "       \n",
    "            \n",
    "# validate('{}()[[()]]{()}')"
   ]
  },
  {
   "cell_type": "code",
   "execution_count": 23,
   "metadata": {},
   "outputs": [
    {
     "data": {
      "text/plain": [
       "'fjksh'"
      ]
     },
     "execution_count": 23,
     "metadata": {},
     "output_type": "execute_result"
    }
   ],
   "source": [
    "k = 'kshfjjjjj'\n",
    "set(k)\n",
    "\"\".join(set(k))"
   ]
  },
  {
   "cell_type": "code",
   "execution_count": 24,
   "metadata": {
    "scrolled": true
   },
   "outputs": [
    {
     "data": {
      "text/plain": [
       "'fjksh'"
      ]
     },
     "execution_count": 24,
     "metadata": {},
     "output_type": "execute_result"
    }
   ],
   "source": [
    "\"\".join(['f', 'j', 'k', 's', 'h'])"
   ]
  },
  {
   "cell_type": "code",
   "execution_count": 54,
   "metadata": {},
   "outputs": [
    {
     "data": {
      "text/plain": [
       "'kshfj,'"
      ]
     },
     "execution_count": 54,
     "metadata": {},
     "output_type": "execute_result"
    }
   ],
   "source": [
    "#remove duplicates\n",
    "k = 'kshfj,jjjj'\n",
    "st = \"\"\n",
    "for i in k:\n",
    "    if i not in st:\n",
    "        st+=i\n",
    "st"
   ]
  },
  {
   "cell_type": "code",
   "execution_count": 76,
   "metadata": {},
   "outputs": [
    {
     "name": "stdout",
     "output_type": "stream",
     "text": [
      "Kshfj,99jjjj\n",
      "kshfj,99jjjj\n",
      "KSHFJ,99JJJJ\n",
      "False\n",
      "False\n",
      "True\n",
      "False\n",
      "True\n"
     ]
    }
   ],
   "source": [
    "k = 'kshfj,99jjjj'\n",
    "l = '999999'\n",
    "print(k.capitalize())\n",
    "print(k.lower())\n",
    "print(k.upper())\n",
    "print(k.isdigit())\n",
    "print(k.isalnum())\n",
    "print(k[4].isalpha())\n",
    "print(k[7].isalpha())\n",
    "print(l.isalnum())"
   ]
  },
  {
   "cell_type": "code",
   "execution_count": 79,
   "metadata": {},
   "outputs": [
    {
     "name": "stdout",
     "output_type": "stream",
     "text": [
      "['k', 's', 'h', 'f', 'j', ',', '9', '9', 'j', 'j', 'j', 'j']\n"
     ]
    },
    {
     "data": {
      "text/plain": [
       "'k,s,h,f,j,,,9,9,j,j,j,j'"
      ]
     },
     "execution_count": 79,
     "metadata": {},
     "output_type": "execute_result"
    }
   ],
   "source": [
    "l = list(k)\n",
    "print(l)\n",
    "\",\".join(l)"
   ]
  },
  {
   "cell_type": "code",
   "execution_count": 93,
   "metadata": {},
   "outputs": [
    {
     "name": "stdout",
     "output_type": "stream",
     "text": [
      "@p$nk@hd#dk\n"
     ]
    }
   ],
   "source": [
    "#Reverse string without changing special characters in it\n",
    "k = 'kd#dh@kn$p@'\n",
    "#expected\n",
    "'pn#kh@dd$k@'\n",
    "st = ''\n",
    "sp = ''\n",
    "rev = k[::-1]\n",
    "print(rev)\n",
    "\n",
    "# for i in k:\n",
    "#     if i.isalpha():\n",
    "        \n",
    "    \n",
    "# print(st)\n",
    "# print(sp)\n",
    "# for i in st:\n",
    "#     if i=='_':\n",
    "#         st\n",
    "    \n",
    "# s = \"a!!!b.c.d,e'f,ghi\"\n",
    "# 'i!!!h.g.f,e'd,cba'"
   ]
  },
  {
   "cell_type": "code",
   "execution_count": 23,
   "metadata": {},
   "outputs": [
    {
     "data": {
      "text/plain": [
       "'tkks'"
      ]
     },
     "execution_count": 23,
     "metadata": {},
     "output_type": "execute_result"
    }
   ],
   "source": [
    "#reverse using recursion\n",
    "def rev(st):\n",
    "    return st[-1]+st[:-1]\n",
    "rev('kkst')"
   ]
  },
  {
   "cell_type": "code",
   "execution_count": 33,
   "metadata": {},
   "outputs": [
    {
     "data": {
      "text/plain": [
       "'tsk'"
      ]
     },
     "execution_count": 33,
     "metadata": {},
     "output_type": "execute_result"
    }
   ],
   "source": [
    "#reverse witout recursion\n",
    "k = \"\"\n",
    "def rev(st):\n",
    "    global k\n",
    "    for i in range(len(st)):\n",
    "        if len(st)>=1:\n",
    "            k+=st[-1]\n",
    "            st=st[:-1]\n",
    "    return k\n",
    "rev('kst')"
   ]
  },
  {
   "cell_type": "code",
   "execution_count": 45,
   "metadata": {},
   "outputs": [
    {
     "name": "stdout",
     "output_type": "stream",
     "text": [
      "no\n"
     ]
    }
   ],
   "source": [
    "#palindrom\n",
    "def check_palin(st):\n",
    "    if rev(st)==st:\n",
    "        print('yes')\n",
    "    else:\n",
    "        print('no')\n",
    "check_palin('454')"
   ]
  },
  {
   "cell_type": "code",
   "execution_count": 52,
   "metadata": {},
   "outputs": [
    {
     "name": "stdout",
     "output_type": "stream",
     "text": [
      "720\n"
     ]
    }
   ],
   "source": [
    "#factorial\n",
    "def fact(n):\n",
    "    fact = 1\n",
    "    for i in range(n+1,1,-1):\n",
    "        fact=fact*i\n",
    "    return fact\n",
    "print(fact(5))"
   ]
  },
  {
   "cell_type": "code",
   "execution_count": 66,
   "metadata": {},
   "outputs": [
    {
     "name": "stdout",
     "output_type": "stream",
     "text": [
      "['k']\n",
      "['k', 'ka']\n",
      "['k', 'ka', 'kas']\n",
      "['k', 'ka', 'kas', 'kasf']\n",
      "['k', 'ka', 'kas', 'kasf', 'kasfm']\n",
      "['k', 'ka', 'kas', 'kasf', 'kasfm', 'a']\n",
      "['k', 'ka', 'kas', 'kasf', 'kasfm', 'a', 'as']\n",
      "['k', 'ka', 'kas', 'kasf', 'kasfm', 'a', 'as', 'asf']\n",
      "['k', 'ka', 'kas', 'kasf', 'kasfm', 'a', 'as', 'asf', 'asfm']\n",
      "['k', 'ka', 'kas', 'kasf', 'kasfm', 'a', 'as', 'asf', 'asfm', 's']\n",
      "['k', 'ka', 'kas', 'kasf', 'kasfm', 'a', 'as', 'asf', 'asfm', 's', 'sf']\n",
      "['k', 'ka', 'kas', 'kasf', 'kasfm', 'a', 'as', 'asf', 'asfm', 's', 'sf', 'sfm']\n",
      "['k', 'ka', 'kas', 'kasf', 'kasfm', 'a', 'as', 'asf', 'asfm', 's', 'sf', 'sfm', 'f']\n",
      "['k', 'ka', 'kas', 'kasf', 'kasfm', 'a', 'as', 'asf', 'asfm', 's', 'sf', 'sfm', 'f', 'fm']\n",
      "['k', 'ka', 'kas', 'kasf', 'kasfm', 'a', 'as', 'asf', 'asfm', 's', 'sf', 'sfm', 'f', 'fm', 'm']\n"
     ]
    }
   ],
   "source": [
    "#possible permutation of string\n",
    "def create_perm(st):\n",
    "    perm_list=[]\n",
    "    for i in range(len(st)):\n",
    "        for j in range(i+1,len(st)+1):\n",
    "            perm_list.append(st[i:j])\n",
    "            print(perm_list)\n",
    "            \n",
    "create_perm('kasfm')       "
   ]
  },
  {
   "cell_type": "code",
   "execution_count": 67,
   "metadata": {},
   "outputs": [
    {
     "name": "stdout",
     "output_type": "stream",
     "text": [
      "['k']\n",
      "['k', 'ka']\n",
      "['k', 'ka', 'kas']\n",
      "['k', 'ka', 'kas', 'kasf']\n",
      "['k', 'ka', 'kas', 'kasf', 'kasfm']\n",
      "['k', 'ka', 'kas', 'kasf', 'kasfm', 'ak']\n",
      "['k', 'ka', 'kas', 'kasf', 'kasfm', 'ak', 'ask']\n",
      "['k', 'ka', 'kas', 'kasf', 'kasfm', 'ak', 'ask', 'asfk']\n",
      "['k', 'ka', 'kas', 'kasf', 'kasfm', 'ak', 'ask', 'asfk', 'asfmk']\n",
      "['k', 'ka', 'kas', 'kasf', 'kasfm', 'ak', 'ask', 'asfk', 'asfmk', 'ska']\n",
      "['k', 'ka', 'kas', 'kasf', 'kasfm', 'ak', 'ask', 'asfk', 'asfmk', 'ska', 'sfka']\n",
      "['k', 'ka', 'kas', 'kasf', 'kasfm', 'ak', 'ask', 'asfk', 'asfmk', 'ska', 'sfka', 'sfmka']\n",
      "['k', 'ka', 'kas', 'kasf', 'kasfm', 'ak', 'ask', 'asfk', 'asfmk', 'ska', 'sfka', 'sfmka', 'fkas']\n",
      "['k', 'ka', 'kas', 'kasf', 'kasfm', 'ak', 'ask', 'asfk', 'asfmk', 'ska', 'sfka', 'sfmka', 'fkas', 'fmkas']\n",
      "['k', 'ka', 'kas', 'kasf', 'kasfm', 'ak', 'ask', 'asfk', 'asfmk', 'ska', 'sfka', 'sfmka', 'fkas', 'fmkas', 'mkasf']\n"
     ]
    }
   ],
   "source": [
    "#possible permutation of string\n",
    "def create_perm(st):\n",
    "    perm_list=[]\n",
    "    for i in range(len(st)):\n",
    "        for j in range(i+1,len(st)+1):\n",
    "            perm_list.append(st[i:j]+st[:i])\n",
    "            print(perm_list)\n",
    "            \n",
    "create_perm('kasfm')       "
   ]
  },
  {
   "cell_type": "code",
   "execution_count": 68,
   "metadata": {},
   "outputs": [
    {
     "name": "stdout",
     "output_type": "stream",
     "text": [
      "[1, 2, 5, 8, 9]\n"
     ]
    }
   ],
   "source": [
    "#bubble sort\n",
    "def bubble_sort(elements):\n",
    "    n = len(elements)\n",
    "    for i in range(n - 1):\n",
    "        for j in range(n - i - 1):\n",
    "            if elements[j] > elements[j + 1]:\n",
    "                elements[j], elements[j + 1] = elements[j + 1], elements[j]\n",
    "\n",
    "# Test the function\n",
    "nums = [5, 2, 8, 1, 9]\n",
    "bubble_sort(nums)\n",
    "print(nums)"
   ]
  },
  {
   "cell_type": "code",
   "execution_count": null,
   "metadata": {},
   "outputs": [],
   "source": []
  }
 ],
 "metadata": {
  "kernelspec": {
   "display_name": "Python 3 (ipykernel)",
   "language": "python",
   "name": "python3"
  },
  "language_info": {
   "codemirror_mode": {
    "name": "ipython",
    "version": 3
   },
   "file_extension": ".py",
   "mimetype": "text/x-python",
   "name": "python",
   "nbconvert_exporter": "python",
   "pygments_lexer": "ipython3",
   "version": "3.11.7"
  }
 },
 "nbformat": 4,
 "nbformat_minor": 4
}
