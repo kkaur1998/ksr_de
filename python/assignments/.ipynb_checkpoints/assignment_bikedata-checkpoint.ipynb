{
 "cells": [
  {
   "cell_type": "code",
   "execution_count": 1,
   "id": "8a2a4e47-8a33-4d91-af31-9c23b1965d52",
   "metadata": {},
   "outputs": [],
   "source": [
    "import numpy as np\n",
    "import pandas as pd"
   ]
  },
  {
   "cell_type": "code",
   "execution_count": 2,
   "id": "d97b8ea6-66fe-4ef6-adb6-5289325031fd",
   "metadata": {},
   "outputs": [],
   "source": [
    "data = pd.read_excel(\"data/Bike_Data.xlsx\")"
   ]
  },
  {
   "cell_type": "code",
   "execution_count": 3,
   "id": "5ab9bb21-d4d5-409e-9bc5-c541e1b50f17",
   "metadata": {},
   "outputs": [],
   "source": [
    "df = data.copy()"
   ]
  },
  {
   "cell_type": "code",
   "execution_count": 4,
   "id": "046d103e-3706-4bd1-92c6-cff8674ddc94",
   "metadata": {},
   "outputs": [
    {
     "data": {
      "text/html": [
       "<div>\n",
       "<style scoped>\n",
       "    .dataframe tbody tr th:only-of-type {\n",
       "        vertical-align: middle;\n",
       "    }\n",
       "\n",
       "    .dataframe tbody tr th {\n",
       "        vertical-align: top;\n",
       "    }\n",
       "\n",
       "    .dataframe thead th {\n",
       "        text-align: right;\n",
       "    }\n",
       "</style>\n",
       "<table border=\"1\" class=\"dataframe\">\n",
       "  <thead>\n",
       "    <tr style=\"text-align: right;\">\n",
       "      <th></th>\n",
       "      <th>Region</th>\n",
       "      <th>Country</th>\n",
       "      <th>Customer</th>\n",
       "      <th>Business Segment</th>\n",
       "      <th>Category</th>\n",
       "      <th>Model</th>\n",
       "      <th>Color</th>\n",
       "      <th>SalesDate</th>\n",
       "      <th>ListPrice</th>\n",
       "      <th>UnitPrice</th>\n",
       "      <th>OrderQty</th>\n",
       "    </tr>\n",
       "  </thead>\n",
       "  <tbody>\n",
       "    <tr>\n",
       "      <th>0</th>\n",
       "      <td>North America</td>\n",
       "      <td>United States</td>\n",
       "      <td>Advanced Bike Components</td>\n",
       "      <td>Components</td>\n",
       "      <td>Road Frames</td>\n",
       "      <td>LL Road Frame</td>\n",
       "      <td>Red</td>\n",
       "      <td>2020-04-01</td>\n",
       "      <td>337.22</td>\n",
       "      <td>183.94</td>\n",
       "      <td>1</td>\n",
       "    </tr>\n",
       "    <tr>\n",
       "      <th>1</th>\n",
       "      <td>North America</td>\n",
       "      <td>United States</td>\n",
       "      <td>Central Discount Store</td>\n",
       "      <td>Bikes</td>\n",
       "      <td>Mountain Bikes</td>\n",
       "      <td>Mountain-100</td>\n",
       "      <td>Silver</td>\n",
       "      <td>2020-04-01</td>\n",
       "      <td>3399.99</td>\n",
       "      <td>2039.99</td>\n",
       "      <td>1</td>\n",
       "    </tr>\n",
       "  </tbody>\n",
       "</table>\n",
       "</div>"
      ],
      "text/plain": [
       "          Region        Country                  Customer Business Segment  \\\n",
       "0  North America  United States  Advanced Bike Components       Components   \n",
       "1  North America  United States    Central Discount Store            Bikes   \n",
       "\n",
       "         Category          Model   Color  SalesDate  ListPrice  UnitPrice  \\\n",
       "0     Road Frames  LL Road Frame     Red 2020-04-01     337.22     183.94   \n",
       "1  Mountain Bikes   Mountain-100  Silver 2020-04-01    3399.99    2039.99   \n",
       "\n",
       "   OrderQty  \n",
       "0         1  \n",
       "1         1  "
      ]
     },
     "execution_count": 4,
     "metadata": {},
     "output_type": "execute_result"
    }
   ],
   "source": [
    "df.head(2)"
   ]
  },
  {
   "cell_type": "code",
   "execution_count": 5,
   "id": "139dc78a-91d2-4743-a166-855725879456",
   "metadata": {},
   "outputs": [
    {
     "data": {
      "text/plain": [
       "(60919, 11)"
      ]
     },
     "execution_count": 5,
     "metadata": {},
     "output_type": "execute_result"
    }
   ],
   "source": [
    "df.shape"
   ]
  },
  {
   "cell_type": "code",
   "execution_count": 8,
   "id": "652ea070-4ea9-4a3d-b19f-a1157be01680",
   "metadata": {
    "scrolled": true
   },
   "outputs": [
    {
     "data": {
      "text/plain": [
       "Index(['Region', 'Country', 'Customer', 'Business Segment', 'Category',\n",
       "       'Model', 'Color', 'SalesDate', 'ListPrice', 'UnitPrice', 'OrderQty'],\n",
       "      dtype='object')"
      ]
     },
     "execution_count": 8,
     "metadata": {},
     "output_type": "execute_result"
    }
   ],
   "source": [
    "df.columns"
   ]
  },
  {
   "cell_type": "code",
   "execution_count": 10,
   "id": "fb608f63-ce1e-4f71-9c15-8905a0f61735",
   "metadata": {},
   "outputs": [],
   "source": [
    "def rename_columns(d):\n",
    "    column_dict = {}\n",
    "    for i in d.columns:\n",
    "        j=i\n",
    "        if ' ' in j:\n",
    "            j=j.replace(' ','_')\n",
    "        column_dict[i]=j.lower()\n",
    "    return d.rename(columns=column_dict)"
   ]
  },
  {
   "cell_type": "code",
   "execution_count": 11,
   "id": "7e8350a9-bef3-4548-ae5d-66f4b8b2e81c",
   "metadata": {},
   "outputs": [],
   "source": [
    "df1 = rename_columns(df)"
   ]
  },
  {
   "cell_type": "code",
   "execution_count": 13,
   "id": "0933c1f6-a549-437e-952c-63836c2b05b4",
   "metadata": {},
   "outputs": [
    {
     "data": {
      "text/plain": [
       "Index(['region', 'country', 'customer', 'business_segment', 'category',\n",
       "       'model', 'color', 'salesdate', 'listprice', 'unitprice', 'orderqty'],\n",
       "      dtype='object')"
      ]
     },
     "execution_count": 13,
     "metadata": {},
     "output_type": "execute_result"
    }
   ],
   "source": [
    "df1.columns"
   ]
  },
  {
   "cell_type": "code",
   "execution_count": 15,
   "id": "221854ab-8c02-441c-8b68-88bd1a08d732",
   "metadata": {},
   "outputs": [],
   "source": [
    "df1['cost'] = df1['unitprice'] * df1['orderqty']"
   ]
  },
  {
   "cell_type": "code",
   "execution_count": 17,
   "id": "ae20dad7-47bc-457f-88c8-650e98f5bf51",
   "metadata": {},
   "outputs": [
    {
     "data": {
      "text/html": [
       "<div>\n",
       "<style scoped>\n",
       "    .dataframe tbody tr th:only-of-type {\n",
       "        vertical-align: middle;\n",
       "    }\n",
       "\n",
       "    .dataframe tbody tr th {\n",
       "        vertical-align: top;\n",
       "    }\n",
       "\n",
       "    .dataframe thead th {\n",
       "        text-align: right;\n",
       "    }\n",
       "</style>\n",
       "<table border=\"1\" class=\"dataframe\">\n",
       "  <thead>\n",
       "    <tr style=\"text-align: right;\">\n",
       "      <th></th>\n",
       "      <th>region</th>\n",
       "      <th>country</th>\n",
       "      <th>customer</th>\n",
       "      <th>business_segment</th>\n",
       "      <th>category</th>\n",
       "      <th>model</th>\n",
       "      <th>color</th>\n",
       "      <th>salesdate</th>\n",
       "      <th>listprice</th>\n",
       "      <th>unitprice</th>\n",
       "      <th>orderqty</th>\n",
       "      <th>cost</th>\n",
       "    </tr>\n",
       "  </thead>\n",
       "  <tbody>\n",
       "    <tr>\n",
       "      <th>0</th>\n",
       "      <td>North America</td>\n",
       "      <td>United States</td>\n",
       "      <td>Advanced Bike Components</td>\n",
       "      <td>Components</td>\n",
       "      <td>Road Frames</td>\n",
       "      <td>LL Road Frame</td>\n",
       "      <td>Red</td>\n",
       "      <td>2020-04-01</td>\n",
       "      <td>337.22</td>\n",
       "      <td>183.94</td>\n",
       "      <td>1</td>\n",
       "      <td>183.94</td>\n",
       "    </tr>\n",
       "    <tr>\n",
       "      <th>1</th>\n",
       "      <td>North America</td>\n",
       "      <td>United States</td>\n",
       "      <td>Central Discount Store</td>\n",
       "      <td>Bikes</td>\n",
       "      <td>Mountain Bikes</td>\n",
       "      <td>Mountain-100</td>\n",
       "      <td>Silver</td>\n",
       "      <td>2020-04-01</td>\n",
       "      <td>3399.99</td>\n",
       "      <td>2039.99</td>\n",
       "      <td>1</td>\n",
       "      <td>2039.99</td>\n",
       "    </tr>\n",
       "  </tbody>\n",
       "</table>\n",
       "</div>"
      ],
      "text/plain": [
       "          region        country                  customer business_segment  \\\n",
       "0  North America  United States  Advanced Bike Components       Components   \n",
       "1  North America  United States    Central Discount Store            Bikes   \n",
       "\n",
       "         category          model   color  salesdate  listprice  unitprice  \\\n",
       "0     Road Frames  LL Road Frame     Red 2020-04-01     337.22     183.94   \n",
       "1  Mountain Bikes   Mountain-100  Silver 2020-04-01    3399.99    2039.99   \n",
       "\n",
       "   orderqty     cost  \n",
       "0         1   183.94  \n",
       "1         1  2039.99  "
      ]
     },
     "execution_count": 17,
     "metadata": {},
     "output_type": "execute_result"
    }
   ],
   "source": [
    "df1.head(2)"
   ]
  },
  {
   "cell_type": "code",
   "execution_count": 18,
   "id": "ad0fc7e1-34c6-4b81-bf3c-559fdd12fbd3",
   "metadata": {},
   "outputs": [],
   "source": [
    "df1['sales'] = df1['listprice'] * df1['orderqty']"
   ]
  },
  {
   "cell_type": "code",
   "execution_count": 19,
   "id": "f4744bcf-0ae0-4f05-874a-57f21f1cb235",
   "metadata": {},
   "outputs": [
    {
     "data": {
      "text/html": [
       "<div>\n",
       "<style scoped>\n",
       "    .dataframe tbody tr th:only-of-type {\n",
       "        vertical-align: middle;\n",
       "    }\n",
       "\n",
       "    .dataframe tbody tr th {\n",
       "        vertical-align: top;\n",
       "    }\n",
       "\n",
       "    .dataframe thead th {\n",
       "        text-align: right;\n",
       "    }\n",
       "</style>\n",
       "<table border=\"1\" class=\"dataframe\">\n",
       "  <thead>\n",
       "    <tr style=\"text-align: right;\">\n",
       "      <th></th>\n",
       "      <th>region</th>\n",
       "      <th>country</th>\n",
       "      <th>customer</th>\n",
       "      <th>business_segment</th>\n",
       "      <th>category</th>\n",
       "      <th>model</th>\n",
       "      <th>color</th>\n",
       "      <th>salesdate</th>\n",
       "      <th>listprice</th>\n",
       "      <th>unitprice</th>\n",
       "      <th>orderqty</th>\n",
       "      <th>cost</th>\n",
       "      <th>sales</th>\n",
       "    </tr>\n",
       "  </thead>\n",
       "  <tbody>\n",
       "    <tr>\n",
       "      <th>0</th>\n",
       "      <td>North America</td>\n",
       "      <td>United States</td>\n",
       "      <td>Advanced Bike Components</td>\n",
       "      <td>Components</td>\n",
       "      <td>Road Frames</td>\n",
       "      <td>LL Road Frame</td>\n",
       "      <td>Red</td>\n",
       "      <td>2020-04-01</td>\n",
       "      <td>337.22</td>\n",
       "      <td>183.94</td>\n",
       "      <td>1</td>\n",
       "      <td>183.94</td>\n",
       "      <td>337.22</td>\n",
       "    </tr>\n",
       "    <tr>\n",
       "      <th>1</th>\n",
       "      <td>North America</td>\n",
       "      <td>United States</td>\n",
       "      <td>Central Discount Store</td>\n",
       "      <td>Bikes</td>\n",
       "      <td>Mountain Bikes</td>\n",
       "      <td>Mountain-100</td>\n",
       "      <td>Silver</td>\n",
       "      <td>2020-04-01</td>\n",
       "      <td>3399.99</td>\n",
       "      <td>2039.99</td>\n",
       "      <td>1</td>\n",
       "      <td>2039.99</td>\n",
       "      <td>3399.99</td>\n",
       "    </tr>\n",
       "  </tbody>\n",
       "</table>\n",
       "</div>"
      ],
      "text/plain": [
       "          region        country                  customer business_segment  \\\n",
       "0  North America  United States  Advanced Bike Components       Components   \n",
       "1  North America  United States    Central Discount Store            Bikes   \n",
       "\n",
       "         category          model   color  salesdate  listprice  unitprice  \\\n",
       "0     Road Frames  LL Road Frame     Red 2020-04-01     337.22     183.94   \n",
       "1  Mountain Bikes   Mountain-100  Silver 2020-04-01    3399.99    2039.99   \n",
       "\n",
       "   orderqty     cost    sales  \n",
       "0         1   183.94   337.22  \n",
       "1         1  2039.99  3399.99  "
      ]
     },
     "execution_count": 19,
     "metadata": {},
     "output_type": "execute_result"
    }
   ],
   "source": [
    "df1.head(2)"
   ]
  },
  {
   "cell_type": "code",
   "execution_count": 20,
   "id": "07274292-2be9-4162-81a6-eb82e66fa699",
   "metadata": {},
   "outputs": [],
   "source": [
    "df1['profit'] = df1['sales'] - df1['cost']"
   ]
  },
  {
   "cell_type": "code",
   "execution_count": 22,
   "id": "ce5e5576-9eed-4cb9-a990-c470a671dc82",
   "metadata": {},
   "outputs": [
    {
     "data": {
      "text/plain": [
       "60919"
      ]
     },
     "execution_count": 22,
     "metadata": {},
     "output_type": "execute_result"
    }
   ],
   "source": [
    "df1['region'].count()"
   ]
  },
  {
   "cell_type": "code",
   "execution_count": 23,
   "id": "70acddc0-aa2a-4590-a81d-3bcf8abd2fd3",
   "metadata": {},
   "outputs": [],
   "source": [
    "#requirement#\n",
    "# ----- sales 0-5000 - broze\n",
    "# ----- 5000-10000   - silver\n",
    "# ----- 10000-15000  - gold\n",
    "# ----- >15000       - platinum\n"
   ]
  },
  {
   "cell_type": "code",
   "execution_count": 24,
   "id": "84a9396f-9c02-49eb-9b55-fcb483f08f92",
   "metadata": {},
   "outputs": [],
   "source": [
    "# how to do\n",
    "# - write a function that can handle above logic\n",
    "# - create new column \"sales_group\" and apply fun\n",
    "# - how many transaction are gold, /silver/bronze/platinum"
   ]
  },
  {
   "cell_type": "code",
   "execution_count": 25,
   "id": "84eef372-b7b9-452a-947f-4cefa7bcc921",
   "metadata": {},
   "outputs": [],
   "source": [
    "def get_sales_group(val):\n",
    "    if val >= 0 and val <= 5000:\n",
    "        return 'Bronze'\n",
    "    elif val > 5000 and val <= 10000:\n",
    "        return 'Silver'\n",
    "    elif val > 10000 and val <= 15000:\n",
    "        return 'Gold'\n",
    "    elif val > 15000:\n",
    "        return 'Platinum'\n"
   ]
  },
  {
   "cell_type": "code",
   "execution_count": 28,
   "id": "0fef7bde-371c-4037-a0fc-4b5ee2496ca1",
   "metadata": {},
   "outputs": [],
   "source": [
    "df1['sales_group'] = df1['sales'].apply(get_sales_group)"
   ]
  },
  {
   "cell_type": "code",
   "execution_count": 29,
   "id": "d2478dea-ab4a-4416-a5ad-ceafe1fe24dc",
   "metadata": {},
   "outputs": [
    {
     "data": {
      "text/html": [
       "<div>\n",
       "<style scoped>\n",
       "    .dataframe tbody tr th:only-of-type {\n",
       "        vertical-align: middle;\n",
       "    }\n",
       "\n",
       "    .dataframe tbody tr th {\n",
       "        vertical-align: top;\n",
       "    }\n",
       "\n",
       "    .dataframe thead th {\n",
       "        text-align: right;\n",
       "    }\n",
       "</style>\n",
       "<table border=\"1\" class=\"dataframe\">\n",
       "  <thead>\n",
       "    <tr style=\"text-align: right;\">\n",
       "      <th></th>\n",
       "      <th>region</th>\n",
       "      <th>country</th>\n",
       "      <th>customer</th>\n",
       "      <th>business_segment</th>\n",
       "      <th>category</th>\n",
       "      <th>model</th>\n",
       "      <th>color</th>\n",
       "      <th>salesdate</th>\n",
       "      <th>listprice</th>\n",
       "      <th>unitprice</th>\n",
       "      <th>orderqty</th>\n",
       "      <th>cost</th>\n",
       "      <th>sales</th>\n",
       "      <th>profit</th>\n",
       "      <th>sales_group</th>\n",
       "    </tr>\n",
       "  </thead>\n",
       "  <tbody>\n",
       "    <tr>\n",
       "      <th>0</th>\n",
       "      <td>North America</td>\n",
       "      <td>United States</td>\n",
       "      <td>Advanced Bike Components</td>\n",
       "      <td>Components</td>\n",
       "      <td>Road Frames</td>\n",
       "      <td>LL Road Frame</td>\n",
       "      <td>Red</td>\n",
       "      <td>2020-04-01</td>\n",
       "      <td>337.22</td>\n",
       "      <td>183.94</td>\n",
       "      <td>1</td>\n",
       "      <td>183.94</td>\n",
       "      <td>337.22</td>\n",
       "      <td>153.28</td>\n",
       "      <td>Bronze</td>\n",
       "    </tr>\n",
       "    <tr>\n",
       "      <th>1</th>\n",
       "      <td>North America</td>\n",
       "      <td>United States</td>\n",
       "      <td>Central Discount Store</td>\n",
       "      <td>Bikes</td>\n",
       "      <td>Mountain Bikes</td>\n",
       "      <td>Mountain-100</td>\n",
       "      <td>Silver</td>\n",
       "      <td>2020-04-01</td>\n",
       "      <td>3399.99</td>\n",
       "      <td>2039.99</td>\n",
       "      <td>1</td>\n",
       "      <td>2039.99</td>\n",
       "      <td>3399.99</td>\n",
       "      <td>1360.00</td>\n",
       "      <td>Bronze</td>\n",
       "    </tr>\n",
       "  </tbody>\n",
       "</table>\n",
       "</div>"
      ],
      "text/plain": [
       "          region        country                  customer business_segment  \\\n",
       "0  North America  United States  Advanced Bike Components       Components   \n",
       "1  North America  United States    Central Discount Store            Bikes   \n",
       "\n",
       "         category          model   color  salesdate  listprice  unitprice  \\\n",
       "0     Road Frames  LL Road Frame     Red 2020-04-01     337.22     183.94   \n",
       "1  Mountain Bikes   Mountain-100  Silver 2020-04-01    3399.99    2039.99   \n",
       "\n",
       "   orderqty     cost    sales   profit sales_group  \n",
       "0         1   183.94   337.22   153.28      Bronze  \n",
       "1         1  2039.99  3399.99  1360.00      Bronze  "
      ]
     },
     "execution_count": 29,
     "metadata": {},
     "output_type": "execute_result"
    }
   ],
   "source": [
    "df1.head(2)"
   ]
  },
  {
   "cell_type": "code",
   "execution_count": 42,
   "id": "4803ae52-2ffe-4e32-abd0-9b62cd06c88c",
   "metadata": {},
   "outputs": [
    {
     "data": {
      "text/html": [
       "<div>\n",
       "<style scoped>\n",
       "    .dataframe tbody tr th:only-of-type {\n",
       "        vertical-align: middle;\n",
       "    }\n",
       "\n",
       "    .dataframe tbody tr th {\n",
       "        vertical-align: top;\n",
       "    }\n",
       "\n",
       "    .dataframe thead th {\n",
       "        text-align: right;\n",
       "    }\n",
       "</style>\n",
       "<table border=\"1\" class=\"dataframe\">\n",
       "  <thead>\n",
       "    <tr style=\"text-align: right;\">\n",
       "      <th></th>\n",
       "      <th>sales_group</th>\n",
       "      <th>customer_count</th>\n",
       "    </tr>\n",
       "  </thead>\n",
       "  <tbody>\n",
       "    <tr>\n",
       "      <th>0</th>\n",
       "      <td>Bronze</td>\n",
       "      <td>53168</td>\n",
       "    </tr>\n",
       "    <tr>\n",
       "      <th>1</th>\n",
       "      <td>Gold</td>\n",
       "      <td>1683</td>\n",
       "    </tr>\n",
       "    <tr>\n",
       "      <th>2</th>\n",
       "      <td>Platinum</td>\n",
       "      <td>1057</td>\n",
       "    </tr>\n",
       "    <tr>\n",
       "      <th>3</th>\n",
       "      <td>Silver</td>\n",
       "      <td>5011</td>\n",
       "    </tr>\n",
       "  </tbody>\n",
       "</table>\n",
       "</div>"
      ],
      "text/plain": [
       "  sales_group  customer_count\n",
       "0      Bronze           53168\n",
       "1        Gold            1683\n",
       "2    Platinum            1057\n",
       "3      Silver            5011"
      ]
     },
     "execution_count": 42,
     "metadata": {},
     "output_type": "execute_result"
    }
   ],
   "source": [
    "df1[['customer','sales_group']].groupby('sales_group',as_index=False).count().rename(columns={'customer':'customer_count'})"
   ]
  },
  {
   "cell_type": "code",
   "execution_count": null,
   "id": "b57e373f-938a-4987-a650-6e2af12a4a7e",
   "metadata": {},
   "outputs": [],
   "source": []
  },
  {
   "cell_type": "code",
   "execution_count": null,
   "id": "bc39b79c-c354-4ffc-867b-a6eb746cd094",
   "metadata": {},
   "outputs": [],
   "source": []
  }
 ],
 "metadata": {
  "kernelspec": {
   "display_name": "Python 3 (ipykernel)",
   "language": "python",
   "name": "python3"
  },
  "language_info": {
   "codemirror_mode": {
    "name": "ipython",
    "version": 3
   },
   "file_extension": ".py",
   "mimetype": "text/x-python",
   "name": "python",
   "nbconvert_exporter": "python",
   "pygments_lexer": "ipython3",
   "version": "3.11.7"
  }
 },
 "nbformat": 4,
 "nbformat_minor": 5
}
